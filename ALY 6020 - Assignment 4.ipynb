{
 "cells": [
  {
   "cell_type": "code",
   "execution_count": 1,
   "id": "db3fb4bd",
   "metadata": {},
   "outputs": [],
   "source": [
    "import pandas as pd\n",
    "import seaborn as sns\n",
    "import numpy as np\n",
    "import matplotlib.pyplot as plt\n",
    "%matplotlib inline"
   ]
  },
  {
   "cell_type": "code",
   "execution_count": 2,
   "id": "ff932114",
   "metadata": {},
   "outputs": [],
   "source": [
    "Nashville=pd.read_csv(\"/Users/dhanashreerajendrachavan/Desktop/Northeastern/Quarter 5/ALY 6020/Module 4/Nashville_housing_data.csv\")\n"
   ]
  },
  {
   "cell_type": "code",
   "execution_count": 3,
   "id": "731385a2",
   "metadata": {},
   "outputs": [],
   "source": [
    "pd.set_option('display.max_columns', None)\n",
    "pd.set_option('display.max_rows', None)"
   ]
  },
  {
   "cell_type": "code",
   "execution_count": 4,
   "id": "5e988930",
   "metadata": {},
   "outputs": [
    {
     "data": {
      "text/html": [
       "<div>\n",
       "<style scoped>\n",
       "    .dataframe tbody tr th:only-of-type {\n",
       "        vertical-align: middle;\n",
       "    }\n",
       "\n",
       "    .dataframe tbody tr th {\n",
       "        vertical-align: top;\n",
       "    }\n",
       "\n",
       "    .dataframe thead th {\n",
       "        text-align: right;\n",
       "    }\n",
       "</style>\n",
       "<table border=\"1\" class=\"dataframe\">\n",
       "  <thead>\n",
       "    <tr style=\"text-align: right;\">\n",
       "      <th></th>\n",
       "      <th>Unnamed: 0</th>\n",
       "      <th>Parcel ID</th>\n",
       "      <th>Land Use</th>\n",
       "      <th>Property Address</th>\n",
       "      <th>Suite/ Condo   #</th>\n",
       "      <th>Property City</th>\n",
       "      <th>Sale Date</th>\n",
       "      <th>Legal Reference</th>\n",
       "      <th>Sold As Vacant</th>\n",
       "      <th>Multiple Parcels Involved in Sale</th>\n",
       "      <th>City</th>\n",
       "      <th>State</th>\n",
       "      <th>Acreage</th>\n",
       "      <th>Tax District</th>\n",
       "      <th>Neighborhood</th>\n",
       "      <th>Land Value</th>\n",
       "      <th>Building Value</th>\n",
       "      <th>Finished Area</th>\n",
       "      <th>Foundation Type</th>\n",
       "      <th>Year Built</th>\n",
       "      <th>Exterior Wall</th>\n",
       "      <th>Grade</th>\n",
       "      <th>Bedrooms</th>\n",
       "      <th>Full Bath</th>\n",
       "      <th>Half Bath</th>\n",
       "      <th>Sale Price Compared To Value</th>\n",
       "    </tr>\n",
       "  </thead>\n",
       "  <tbody>\n",
       "    <tr>\n",
       "      <th>0</th>\n",
       "      <td>1</td>\n",
       "      <td>105 11 0 080.00</td>\n",
       "      <td>SINGLE FAMILY</td>\n",
       "      <td>1802  STEWART PL</td>\n",
       "      <td>NaN</td>\n",
       "      <td>NASHVILLE</td>\n",
       "      <td>1/11/2013</td>\n",
       "      <td>20130118-0006337</td>\n",
       "      <td>No</td>\n",
       "      <td>No</td>\n",
       "      <td>NASHVILLE</td>\n",
       "      <td>TN</td>\n",
       "      <td>0.17</td>\n",
       "      <td>URBAN SERVICES DISTRICT</td>\n",
       "      <td>3127</td>\n",
       "      <td>32000</td>\n",
       "      <td>134400</td>\n",
       "      <td>1149.00000</td>\n",
       "      <td>PT BSMT</td>\n",
       "      <td>1941</td>\n",
       "      <td>BRICK</td>\n",
       "      <td>C</td>\n",
       "      <td>2.0</td>\n",
       "      <td>1.0</td>\n",
       "      <td>0.0</td>\n",
       "      <td>Over</td>\n",
       "    </tr>\n",
       "    <tr>\n",
       "      <th>1</th>\n",
       "      <td>2</td>\n",
       "      <td>118 03 0 130.00</td>\n",
       "      <td>SINGLE FAMILY</td>\n",
       "      <td>2761  ROSEDALE PL</td>\n",
       "      <td>NaN</td>\n",
       "      <td>NASHVILLE</td>\n",
       "      <td>1/18/2013</td>\n",
       "      <td>20130124-0008033</td>\n",
       "      <td>No</td>\n",
       "      <td>No</td>\n",
       "      <td>NASHVILLE</td>\n",
       "      <td>TN</td>\n",
       "      <td>0.11</td>\n",
       "      <td>CITY OF BERRY HILL</td>\n",
       "      <td>9126</td>\n",
       "      <td>34000</td>\n",
       "      <td>157800</td>\n",
       "      <td>2090.82495</td>\n",
       "      <td>SLAB</td>\n",
       "      <td>2000</td>\n",
       "      <td>BRICK/FRAME</td>\n",
       "      <td>C</td>\n",
       "      <td>3.0</td>\n",
       "      <td>2.0</td>\n",
       "      <td>1.0</td>\n",
       "      <td>Over</td>\n",
       "    </tr>\n",
       "    <tr>\n",
       "      <th>2</th>\n",
       "      <td>3</td>\n",
       "      <td>119 01 0 479.00</td>\n",
       "      <td>SINGLE FAMILY</td>\n",
       "      <td>224  PEACHTREE ST</td>\n",
       "      <td>NaN</td>\n",
       "      <td>NASHVILLE</td>\n",
       "      <td>1/18/2013</td>\n",
       "      <td>20130128-0008863</td>\n",
       "      <td>No</td>\n",
       "      <td>No</td>\n",
       "      <td>NASHVILLE</td>\n",
       "      <td>TN</td>\n",
       "      <td>0.17</td>\n",
       "      <td>URBAN SERVICES DISTRICT</td>\n",
       "      <td>3130</td>\n",
       "      <td>25000</td>\n",
       "      <td>243700</td>\n",
       "      <td>2145.60001</td>\n",
       "      <td>FULL BSMT</td>\n",
       "      <td>1948</td>\n",
       "      <td>BRICK/FRAME</td>\n",
       "      <td>B</td>\n",
       "      <td>4.0</td>\n",
       "      <td>2.0</td>\n",
       "      <td>0.0</td>\n",
       "      <td>Under</td>\n",
       "    </tr>\n",
       "    <tr>\n",
       "      <th>3</th>\n",
       "      <td>4</td>\n",
       "      <td>119 05 0 186.00</td>\n",
       "      <td>SINGLE FAMILY</td>\n",
       "      <td>316  LUTIE ST</td>\n",
       "      <td>NaN</td>\n",
       "      <td>NASHVILLE</td>\n",
       "      <td>1/23/2013</td>\n",
       "      <td>20130131-0009929</td>\n",
       "      <td>No</td>\n",
       "      <td>No</td>\n",
       "      <td>NASHVILLE</td>\n",
       "      <td>TN</td>\n",
       "      <td>0.34</td>\n",
       "      <td>URBAN SERVICES DISTRICT</td>\n",
       "      <td>3130</td>\n",
       "      <td>25000</td>\n",
       "      <td>138100</td>\n",
       "      <td>1969.00000</td>\n",
       "      <td>CRAWL</td>\n",
       "      <td>1910</td>\n",
       "      <td>FRAME</td>\n",
       "      <td>C</td>\n",
       "      <td>2.0</td>\n",
       "      <td>1.0</td>\n",
       "      <td>0.0</td>\n",
       "      <td>Under</td>\n",
       "    </tr>\n",
       "    <tr>\n",
       "      <th>4</th>\n",
       "      <td>5</td>\n",
       "      <td>119 05 0 387.00</td>\n",
       "      <td>SINGLE FAMILY</td>\n",
       "      <td>2626  FOSTER AVE</td>\n",
       "      <td>NaN</td>\n",
       "      <td>NASHVILLE</td>\n",
       "      <td>1/4/2013</td>\n",
       "      <td>20130118-0006110</td>\n",
       "      <td>No</td>\n",
       "      <td>No</td>\n",
       "      <td>NASHVILLE</td>\n",
       "      <td>TN</td>\n",
       "      <td>0.17</td>\n",
       "      <td>URBAN SERVICES DISTRICT</td>\n",
       "      <td>3130</td>\n",
       "      <td>25000</td>\n",
       "      <td>86100</td>\n",
       "      <td>1037.00000</td>\n",
       "      <td>CRAWL</td>\n",
       "      <td>1945</td>\n",
       "      <td>FRAME</td>\n",
       "      <td>C</td>\n",
       "      <td>2.0</td>\n",
       "      <td>1.0</td>\n",
       "      <td>0.0</td>\n",
       "      <td>Under</td>\n",
       "    </tr>\n",
       "  </tbody>\n",
       "</table>\n",
       "</div>"
      ],
      "text/plain": [
       "   Unnamed: 0        Parcel ID       Land Use   Property Address  \\\n",
       "0           1  105 11 0 080.00  SINGLE FAMILY   1802  STEWART PL   \n",
       "1           2  118 03 0 130.00  SINGLE FAMILY  2761  ROSEDALE PL   \n",
       "2           3  119 01 0 479.00  SINGLE FAMILY  224  PEACHTREE ST   \n",
       "3           4  119 05 0 186.00  SINGLE FAMILY      316  LUTIE ST   \n",
       "4           5  119 05 0 387.00  SINGLE FAMILY   2626  FOSTER AVE   \n",
       "\n",
       "   Suite/ Condo   # Property City  Sale Date   Legal Reference Sold As Vacant  \\\n",
       "0               NaN     NASHVILLE  1/11/2013  20130118-0006337             No   \n",
       "1               NaN     NASHVILLE  1/18/2013  20130124-0008033             No   \n",
       "2               NaN     NASHVILLE  1/18/2013  20130128-0008863             No   \n",
       "3               NaN     NASHVILLE  1/23/2013  20130131-0009929             No   \n",
       "4               NaN     NASHVILLE   1/4/2013  20130118-0006110             No   \n",
       "\n",
       "  Multiple Parcels Involved in Sale       City State  Acreage  \\\n",
       "0                                No  NASHVILLE    TN     0.17   \n",
       "1                                No  NASHVILLE    TN     0.11   \n",
       "2                                No  NASHVILLE    TN     0.17   \n",
       "3                                No  NASHVILLE    TN     0.34   \n",
       "4                                No  NASHVILLE    TN     0.17   \n",
       "\n",
       "              Tax District  Neighborhood  Land Value  Building Value  \\\n",
       "0  URBAN SERVICES DISTRICT          3127       32000          134400   \n",
       "1       CITY OF BERRY HILL          9126       34000          157800   \n",
       "2  URBAN SERVICES DISTRICT          3130       25000          243700   \n",
       "3  URBAN SERVICES DISTRICT          3130       25000          138100   \n",
       "4  URBAN SERVICES DISTRICT          3130       25000           86100   \n",
       "\n",
       "   Finished Area Foundation Type  Year Built Exterior Wall Grade  Bedrooms  \\\n",
       "0     1149.00000         PT BSMT        1941         BRICK  C          2.0   \n",
       "1     2090.82495            SLAB        2000   BRICK/FRAME  C          3.0   \n",
       "2     2145.60001       FULL BSMT        1948   BRICK/FRAME  B          4.0   \n",
       "3     1969.00000           CRAWL        1910         FRAME  C          2.0   \n",
       "4     1037.00000           CRAWL        1945         FRAME  C          2.0   \n",
       "\n",
       "   Full Bath  Half Bath Sale Price Compared To Value  \n",
       "0        1.0        0.0                         Over  \n",
       "1        2.0        1.0                         Over  \n",
       "2        2.0        0.0                        Under  \n",
       "3        1.0        0.0                        Under  \n",
       "4        1.0        0.0                        Under  "
      ]
     },
     "execution_count": 4,
     "metadata": {},
     "output_type": "execute_result"
    }
   ],
   "source": [
    "Nashville.head(5)"
   ]
  },
  {
   "cell_type": "code",
   "execution_count": 5,
   "id": "5a5895c5",
   "metadata": {},
   "outputs": [
    {
     "data": {
      "text/plain": [
       "(22651, 26)"
      ]
     },
     "execution_count": 5,
     "metadata": {},
     "output_type": "execute_result"
    }
   ],
   "source": [
    "Nashville.shape"
   ]
  },
  {
   "cell_type": "code",
   "execution_count": 6,
   "id": "78c490b9",
   "metadata": {},
   "outputs": [
    {
     "name": "stdout",
     "output_type": "stream",
     "text": [
      "<class 'pandas.core.frame.DataFrame'>\n",
      "RangeIndex: 22651 entries, 0 to 22650\n",
      "Data columns (total 26 columns):\n",
      " #   Column                             Non-Null Count  Dtype  \n",
      "---  ------                             --------------  -----  \n",
      " 0   Unnamed: 0                         22651 non-null  int64  \n",
      " 1   Parcel ID                          22651 non-null  object \n",
      " 2   Land Use                           22651 non-null  object \n",
      " 3   Property Address                   22649 non-null  object \n",
      " 4   Suite/ Condo   #                   0 non-null      float64\n",
      " 5   Property City                      22649 non-null  object \n",
      " 6   Sale Date                          22651 non-null  object \n",
      " 7   Legal Reference                    22651 non-null  object \n",
      " 8   Sold As Vacant                     22651 non-null  object \n",
      " 9   Multiple Parcels Involved in Sale  22651 non-null  object \n",
      " 10  City                               22651 non-null  object \n",
      " 11  State                              22651 non-null  object \n",
      " 12  Acreage                            22651 non-null  float64\n",
      " 13  Tax District                       22651 non-null  object \n",
      " 14  Neighborhood                       22651 non-null  int64  \n",
      " 15  Land Value                         22651 non-null  int64  \n",
      " 16  Building Value                     22651 non-null  int64  \n",
      " 17  Finished Area                      22650 non-null  float64\n",
      " 18  Foundation Type                    22650 non-null  object \n",
      " 19  Year Built                         22651 non-null  int64  \n",
      " 20  Exterior Wall                      22651 non-null  object \n",
      " 21  Grade                              22651 non-null  object \n",
      " 22  Bedrooms                           22648 non-null  float64\n",
      " 23  Full Bath                          22650 non-null  float64\n",
      " 24  Half Bath                          22543 non-null  float64\n",
      " 25  Sale Price Compared To Value       22651 non-null  object \n",
      "dtypes: float64(6), int64(5), object(15)\n",
      "memory usage: 4.5+ MB\n"
     ]
    }
   ],
   "source": [
    "Nashville.info()"
   ]
  },
  {
   "cell_type": "code",
   "execution_count": 7,
   "id": "1fe46727",
   "metadata": {},
   "outputs": [
    {
     "data": {
      "text/plain": [
       "Unnamed: 0                               0\n",
       "Parcel ID                                0\n",
       "Land Use                                 0\n",
       "Property Address                         2\n",
       "Suite/ Condo   #                     22651\n",
       "Property City                            2\n",
       "Sale Date                                0\n",
       "Legal Reference                          0\n",
       "Sold As Vacant                           0\n",
       "Multiple Parcels Involved in Sale        0\n",
       "City                                     0\n",
       "State                                    0\n",
       "Acreage                                  0\n",
       "Tax District                             0\n",
       "Neighborhood                             0\n",
       "Land Value                               0\n",
       "Building Value                           0\n",
       "Finished Area                            1\n",
       "Foundation Type                          1\n",
       "Year Built                               0\n",
       "Exterior Wall                            0\n",
       "Grade                                    0\n",
       "Bedrooms                                 3\n",
       "Full Bath                                1\n",
       "Half Bath                              108\n",
       "Sale Price Compared To Value             0\n",
       "dtype: int64"
      ]
     },
     "execution_count": 7,
     "metadata": {},
     "output_type": "execute_result"
    }
   ],
   "source": [
    "Nashville.isnull().sum()"
   ]
  },
  {
   "cell_type": "code",
   "execution_count": 8,
   "id": "d050d7d5",
   "metadata": {},
   "outputs": [
    {
     "name": "stdout",
     "output_type": "stream",
     "text": [
      "duplicate rows:  (0, 26)\n"
     ]
    }
   ],
   "source": [
    "# Rows containing duplicate data\n",
    "duplicate_rows_df = Nashville[Nashville.duplicated()]\n",
    "print(\"duplicate rows: \", duplicate_rows_df.shape)"
   ]
  },
  {
   "cell_type": "code",
   "execution_count": 9,
   "id": "831d6deb",
   "metadata": {},
   "outputs": [],
   "source": [
    "float_columns=['Bedrooms','Full Bath','Half Bath']\n"
   ]
  },
  {
   "cell_type": "code",
   "execution_count": 10,
   "id": "1e5a953e",
   "metadata": {},
   "outputs": [
    {
     "name": "stdout",
     "output_type": "stream",
     "text": [
      "3.0     12273\n",
      "4.0      4646\n",
      "2.0      4577\n",
      "5.0       820\n",
      "6.0       194\n",
      "1.0        79\n",
      "7.0        29\n",
      "8.0        21\n",
      "0.0         4\n",
      "9.0         2\n",
      "10.0        2\n",
      "11.0        1\n",
      "Name: Bedrooms, dtype: int64\n",
      "\n",
      "\n",
      "2.0     9263\n",
      "1.0     8906\n",
      "3.0     3137\n",
      "4.0      921\n",
      "5.0      304\n",
      "6.0       80\n",
      "7.0       15\n",
      "0.0       11\n",
      "8.0        6\n",
      "10.0       4\n",
      "9.0        3\n",
      "Name: Full Bath, dtype: int64\n",
      "\n",
      "\n",
      "0.0    16804\n",
      "1.0     5409\n",
      "2.0      307\n",
      "3.0       23\n",
      "Name: Half Bath, dtype: int64\n",
      "\n",
      "\n"
     ]
    }
   ],
   "source": [
    "for i in float_columns:\n",
    " \n",
    " print(Nashville[i].value_counts())\n",
    " print(\"\\n\")"
   ]
  },
  {
   "cell_type": "code",
   "execution_count": 11,
   "id": "17d99ed0",
   "metadata": {},
   "outputs": [],
   "source": [
    "cat_columns=['Land Use','Property City','Sold As Vacant','Multiple Parcels Involved in Sale','City','State','Tax District','Foundation Type','Exterior Wall','Grade','Sale Price Compared To Value']\n"
   ]
  },
  {
   "cell_type": "code",
   "execution_count": 12,
   "id": "f49b8e3a",
   "metadata": {},
   "outputs": [
    {
     "data": {
      "text/plain": [
       "['Land Use',\n",
       " 'Property City',\n",
       " 'Sold As Vacant',\n",
       " 'Multiple Parcels Involved in Sale',\n",
       " 'City',\n",
       " 'State',\n",
       " 'Tax District',\n",
       " 'Foundation Type',\n",
       " 'Exterior Wall',\n",
       " 'Grade',\n",
       " 'Sale Price Compared To Value']"
      ]
     },
     "execution_count": 12,
     "metadata": {},
     "output_type": "execute_result"
    }
   ],
   "source": [
    "cat_columns"
   ]
  },
  {
   "cell_type": "code",
   "execution_count": 13,
   "id": "3ad8242b",
   "metadata": {
    "scrolled": true
   },
   "outputs": [
    {
     "name": "stdout",
     "output_type": "stream",
     "text": [
      "SINGLE FAMILY             21390\n",
      "DUPLEX                     1190\n",
      "RESIDENTIAL COMBO/MISC       37\n",
      "QUADPLEX                     34\n",
      "Name: Land Use, dtype: int64\n",
      "\n",
      "\n",
      "NASHVILLE         18010\n",
      "MADISON            1146\n",
      "ANTIOCH            1133\n",
      "HERMITAGE           913\n",
      "OLD HICKORY         824\n",
      "GOODLETTSVILLE      435\n",
      "BRENTWOOD           158\n",
      "WHITES CREEK         13\n",
      "JOELTON              11\n",
      "MOUNT JULIET          6\n",
      "Name: Property City, dtype: int64\n",
      "\n",
      "\n",
      "No     22517\n",
      "Yes      134\n",
      "Name: Sold As Vacant, dtype: int64\n",
      "\n",
      "\n",
      "No     22183\n",
      "Yes      468\n",
      "Name: Multiple Parcels Involved in Sale, dtype: int64\n",
      "\n",
      "\n",
      "NASHVILLE         18013\n",
      "MADISON            1146\n",
      "ANTIOCH            1133\n",
      "HERMITAGE           913\n",
      "OLD HICKORY         824\n",
      "GOODLETTSVILLE      435\n",
      "BRENTWOOD           157\n",
      "WHITES CREEK         13\n",
      "JOELTON              11\n",
      "MOUNT JULIET          6\n",
      "Name: City, dtype: int64\n",
      "\n",
      "\n",
      "TN    22651\n",
      "Name: State, dtype: int64\n",
      "\n",
      "\n",
      "URBAN SERVICES DISTRICT      17497\n",
      "GENERAL SERVICES DISTRICT     3881\n",
      "CITY OF OAK HILL               349\n",
      "CITY OF FOREST HILLS           345\n",
      "CITY OF GOODLETTSVILLE         344\n",
      "CITY OF BELLE MEADE            214\n",
      "CITY OF BERRY HILL              21\n",
      "Name: Tax District, dtype: int64\n",
      "\n",
      "\n",
      "CRAWL        14210\n",
      "FULL BSMT     3823\n",
      "PT BSMT       3146\n",
      "SLAB          1431\n",
      "PIERS           36\n",
      "TYPICAL          4\n",
      "Name: Foundation Type, dtype: int64\n",
      "\n",
      "\n",
      "BRICK          11547\n",
      "FRAME           8171\n",
      "BRICK/FRAME     2222\n",
      "STONE            329\n",
      "STUCCO           156\n",
      "FRAME/STONE      104\n",
      "CONC BLK          99\n",
      "LOG               15\n",
      "METAL              8\n",
      "Name: Exterior Wall, dtype: int64\n",
      "\n",
      "\n",
      "C       16235\n",
      "B        3395\n",
      "D        1929\n",
      "A         549\n",
      "X         482\n",
      "E          57\n",
      "AAB         1\n",
      "OFB         1\n",
      "SSC         1\n",
      "OFC         1\n",
      "Name: Grade, dtype: int64\n",
      "\n",
      "\n",
      "Over     17047\n",
      "Under     5604\n",
      "Name: Sale Price Compared To Value, dtype: int64\n",
      "\n",
      "\n"
     ]
    }
   ],
   "source": [
    "for i in cat_columns:\n",
    " \n",
    " print(Nashville[i].value_counts())\n",
    " print(\"\\n\")"
   ]
  },
  {
   "cell_type": "code",
   "execution_count": 14,
   "id": "260a72fd",
   "metadata": {},
   "outputs": [
    {
     "data": {
      "text/plain": [
       "URBAN SERVICES DISTRICT      17497\n",
       "GENERAL SERVICES DISTRICT     3881\n",
       "CITY OF OAK HILL               349\n",
       "CITY OF FOREST HILLS           345\n",
       "CITY OF GOODLETTSVILLE         344\n",
       "CITY OF BELLE MEADE            214\n",
       "CITY OF BERRY HILL              21\n",
       "Name: Tax District, dtype: int64"
      ]
     },
     "execution_count": 14,
     "metadata": {},
     "output_type": "execute_result"
    }
   ],
   "source": [
    "Nashville['Tax District'].value_counts()"
   ]
  },
  {
   "cell_type": "code",
   "execution_count": 15,
   "id": "df810b9c",
   "metadata": {},
   "outputs": [
    {
     "data": {
      "text/plain": [
       "TN    22651\n",
       "Name: State, dtype: int64"
      ]
     },
     "execution_count": 15,
     "metadata": {},
     "output_type": "execute_result"
    }
   ],
   "source": [
    "Nashville['State'].value_counts()"
   ]
  },
  {
   "cell_type": "code",
   "execution_count": 16,
   "id": "40c8ee20",
   "metadata": {},
   "outputs": [
    {
     "data": {
      "text/plain": [
       "(22651, 26)"
      ]
     },
     "execution_count": 16,
     "metadata": {},
     "output_type": "execute_result"
    }
   ],
   "source": [
    "Nashville.shape"
   ]
  },
  {
   "cell_type": "code",
   "execution_count": 17,
   "id": "e74943f5",
   "metadata": {},
   "outputs": [],
   "source": [
    "Nashville.drop(['Unnamed: 0','Parcel ID','Property Address','Suite/ Condo   #','Legal Reference','State','Property City'], axis=1, inplace= True)\n"
   ]
  },
  {
   "cell_type": "code",
   "execution_count": 18,
   "id": "7f75d877",
   "metadata": {},
   "outputs": [
    {
     "name": "stdout",
     "output_type": "stream",
     "text": [
      "<class 'pandas.core.frame.DataFrame'>\n",
      "RangeIndex: 22651 entries, 0 to 22650\n",
      "Data columns (total 19 columns):\n",
      " #   Column                             Non-Null Count  Dtype  \n",
      "---  ------                             --------------  -----  \n",
      " 0   Land Use                           22651 non-null  object \n",
      " 1   Sale Date                          22651 non-null  object \n",
      " 2   Sold As Vacant                     22651 non-null  object \n",
      " 3   Multiple Parcels Involved in Sale  22651 non-null  object \n",
      " 4   City                               22651 non-null  object \n",
      " 5   Acreage                            22651 non-null  float64\n",
      " 6   Tax District                       22651 non-null  object \n",
      " 7   Neighborhood                       22651 non-null  int64  \n",
      " 8   Land Value                         22651 non-null  int64  \n",
      " 9   Building Value                     22651 non-null  int64  \n",
      " 10  Finished Area                      22650 non-null  float64\n",
      " 11  Foundation Type                    22650 non-null  object \n",
      " 12  Year Built                         22651 non-null  int64  \n",
      " 13  Exterior Wall                      22651 non-null  object \n",
      " 14  Grade                              22651 non-null  object \n",
      " 15  Bedrooms                           22648 non-null  float64\n",
      " 16  Full Bath                          22650 non-null  float64\n",
      " 17  Half Bath                          22543 non-null  float64\n",
      " 18  Sale Price Compared To Value       22651 non-null  object \n",
      "dtypes: float64(5), int64(4), object(10)\n",
      "memory usage: 3.3+ MB\n"
     ]
    }
   ],
   "source": [
    "Nashville.info()"
   ]
  },
  {
   "cell_type": "code",
   "execution_count": 19,
   "id": "fa94d1ce",
   "metadata": {},
   "outputs": [],
   "source": [
    "Nashville['Finished Area']=Nashville['Finished Area'].fillna(Nashville['Finished Area'].mean())\n"
   ]
  },
  {
   "cell_type": "code",
   "execution_count": 20,
   "id": "3dae4a48",
   "metadata": {},
   "outputs": [],
   "source": [
    "Nashville['Foundation Type'].fillna(Nashville['Foundation Type'].mode()[0], inplace=True)\n"
   ]
  },
  {
   "cell_type": "code",
   "execution_count": 21,
   "id": "04ae1972",
   "metadata": {},
   "outputs": [],
   "source": [
    "Nashville['Bedrooms']=Nashville['Bedrooms'].fillna(Nashville['Bedrooms'].mean())\n"
   ]
  },
  {
   "cell_type": "code",
   "execution_count": 22,
   "id": "ef299905",
   "metadata": {},
   "outputs": [],
   "source": [
    "Nashville['Full Bath']=Nashville['Full Bath'].fillna(Nashville['Full Bath'].mean())\n"
   ]
  },
  {
   "cell_type": "code",
   "execution_count": 23,
   "id": "22e18981",
   "metadata": {},
   "outputs": [],
   "source": [
    "Nashville['Half Bath']=Nashville['Half Bath'].fillna(Nashville['Half Bath'].mean())"
   ]
  },
  {
   "cell_type": "code",
   "execution_count": 24,
   "id": "ce1ba86f",
   "metadata": {},
   "outputs": [],
   "source": [
    "for i in float_columns:\n",
    " \n",
    " Nashville[i] = Nashville[i].fillna(0)\n",
    " Nashville[i]=Nashville[i].astype(int)\n"
   ]
  },
  {
   "cell_type": "markdown",
   "id": "a83aa052",
   "metadata": {},
   "source": [
    "## Outlier Treatment"
   ]
  },
  {
   "cell_type": "code",
   "execution_count": 25,
   "id": "ef9d206b",
   "metadata": {},
   "outputs": [
    {
     "name": "stderr",
     "output_type": "stream",
     "text": [
      "/usr/local/anaconda3/lib/python3.7/site-packages/seaborn/_decorators.py:43: FutureWarning: Pass the following variable as a keyword arg: x. From version 0.12, the only valid positional argument will be `data`, and passing other arguments without an explicit keyword will result in an error or misinterpretation.\n",
      "  FutureWarning\n",
      "/usr/local/anaconda3/lib/python3.7/site-packages/seaborn/_core.py:1319: UserWarning: Vertical orientation ignored with only `x` specified.\n",
      "  warnings.warn(single_var_warning.format(\"Vertical\", \"x\"))\n",
      "/usr/local/anaconda3/lib/python3.7/site-packages/seaborn/_decorators.py:43: FutureWarning: Pass the following variable as a keyword arg: x. From version 0.12, the only valid positional argument will be `data`, and passing other arguments without an explicit keyword will result in an error or misinterpretation.\n",
      "  FutureWarning\n",
      "/usr/local/anaconda3/lib/python3.7/site-packages/seaborn/_core.py:1319: UserWarning: Vertical orientation ignored with only `x` specified.\n",
      "  warnings.warn(single_var_warning.format(\"Vertical\", \"x\"))\n",
      "/usr/local/anaconda3/lib/python3.7/site-packages/seaborn/_decorators.py:43: FutureWarning: Pass the following variable as a keyword arg: x. From version 0.12, the only valid positional argument will be `data`, and passing other arguments without an explicit keyword will result in an error or misinterpretation.\n",
      "  FutureWarning\n",
      "/usr/local/anaconda3/lib/python3.7/site-packages/seaborn/_core.py:1319: UserWarning: Vertical orientation ignored with only `x` specified.\n",
      "  warnings.warn(single_var_warning.format(\"Vertical\", \"x\"))\n",
      "/usr/local/anaconda3/lib/python3.7/site-packages/seaborn/_decorators.py:43: FutureWarning: Pass the following variable as a keyword arg: x. From version 0.12, the only valid positional argument will be `data`, and passing other arguments without an explicit keyword will result in an error or misinterpretation.\n",
      "  FutureWarning\n",
      "/usr/local/anaconda3/lib/python3.7/site-packages/seaborn/_core.py:1319: UserWarning: Vertical orientation ignored with only `x` specified.\n",
      "  warnings.warn(single_var_warning.format(\"Vertical\", \"x\"))\n",
      "/usr/local/anaconda3/lib/python3.7/site-packages/seaborn/_decorators.py:43: FutureWarning: Pass the following variable as a keyword arg: x. From version 0.12, the only valid positional argument will be `data`, and passing other arguments without an explicit keyword will result in an error or misinterpretation.\n",
      "  FutureWarning\n",
      "/usr/local/anaconda3/lib/python3.7/site-packages/seaborn/_core.py:1319: UserWarning: Vertical orientation ignored with only `x` specified.\n",
      "  warnings.warn(single_var_warning.format(\"Vertical\", \"x\"))\n",
      "/usr/local/anaconda3/lib/python3.7/site-packages/seaborn/_decorators.py:43: FutureWarning: Pass the following variable as a keyword arg: x. From version 0.12, the only valid positional argument will be `data`, and passing other arguments without an explicit keyword will result in an error or misinterpretation.\n",
      "  FutureWarning\n",
      "/usr/local/anaconda3/lib/python3.7/site-packages/seaborn/_core.py:1319: UserWarning: Vertical orientation ignored with only `x` specified.\n",
      "  warnings.warn(single_var_warning.format(\"Vertical\", \"x\"))\n",
      "/usr/local/anaconda3/lib/python3.7/site-packages/seaborn/_decorators.py:43: FutureWarning: Pass the following variable as a keyword arg: x. From version 0.12, the only valid positional argument will be `data`, and passing other arguments without an explicit keyword will result in an error or misinterpretation.\n",
      "  FutureWarning\n",
      "/usr/local/anaconda3/lib/python3.7/site-packages/seaborn/_core.py:1319: UserWarning: Vertical orientation ignored with only `x` specified.\n",
      "  warnings.warn(single_var_warning.format(\"Vertical\", \"x\"))\n",
      "/usr/local/anaconda3/lib/python3.7/site-packages/seaborn/_decorators.py:43: FutureWarning: Pass the following variable as a keyword arg: x. From version 0.12, the only valid positional argument will be `data`, and passing other arguments without an explicit keyword will result in an error or misinterpretation.\n",
      "  FutureWarning\n",
      "/usr/local/anaconda3/lib/python3.7/site-packages/seaborn/_core.py:1319: UserWarning: Vertical orientation ignored with only `x` specified.\n",
      "  warnings.warn(single_var_warning.format(\"Vertical\", \"x\"))\n",
      "/usr/local/anaconda3/lib/python3.7/site-packages/seaborn/_decorators.py:43: FutureWarning: Pass the following variable as a keyword arg: x. From version 0.12, the only valid positional argument will be `data`, and passing other arguments without an explicit keyword will result in an error or misinterpretation.\n",
      "  FutureWarning\n",
      "/usr/local/anaconda3/lib/python3.7/site-packages/seaborn/_core.py:1319: UserWarning: Vertical orientation ignored with only `x` specified.\n",
      "  warnings.warn(single_var_warning.format(\"Vertical\", \"x\"))\n"
     ]
    },
    {
     "data": {
      "image/png": "[encoded data removed]",
      "text/plain": [
       "<Figure size 1440x864 with 9 Axes>"
      ]
     },
     "metadata": {
      "needs_background": "light"
     },
     "output_type": "display_data"
    }
   ],
   "source": [
    "#### Plotting box plot to check the outliers\n",
    "plt.figure(figsize=(20, 12))\n",
    "columns = ['Acreage', 'Neighborhood', 'Land Value', 'Building Value', 'Finished Area','Year Built', 'Bedrooms','Full Bath','Half Bath']\n",
    "for i in range(9):\n",
    "    plt.subplot(2, 9, i+1)\n",
    "    sns.boxplot(Nashville[columns[i]], orient=\"v\")\n",
    "    \n",
    "plt.tight_layout()\n",
    "\n",
    "#There are very few ouliers present in the dataset which are very nearer to upper boundary. So, there is no need of outliers treatment"
   ]
  },
  {
   "cell_type": "code",
   "execution_count": 26,
   "id": "70fbd568",
   "metadata": {},
   "outputs": [
    {
     "data": {
      "text/html": [
       "<div>\n",
       "<style scoped>\n",
       "    .dataframe tbody tr th:only-of-type {\n",
       "        vertical-align: middle;\n",
       "    }\n",
       "\n",
       "    .dataframe tbody tr th {\n",
       "        vertical-align: top;\n",
       "    }\n",
       "\n",
       "    .dataframe thead th {\n",
       "        text-align: right;\n",
       "    }\n",
       "</style>\n",
       "<table border=\"1\" class=\"dataframe\">\n",
       "  <thead>\n",
       "    <tr style=\"text-align: right;\">\n",
       "      <th></th>\n",
       "      <th>Acreage</th>\n",
       "      <th>Neighborhood</th>\n",
       "      <th>Land Value</th>\n",
       "      <th>Building Value</th>\n",
       "      <th>Finished Area</th>\n",
       "      <th>Year Built</th>\n",
       "      <th>Bedrooms</th>\n",
       "      <th>Full Bath</th>\n",
       "      <th>Half Bath</th>\n",
       "    </tr>\n",
       "  </thead>\n",
       "  <tbody>\n",
       "    <tr>\n",
       "      <th>count</th>\n",
       "      <td>22651.000000</td>\n",
       "      <td>22651.000000</td>\n",
       "      <td>2.265100e+04</td>\n",
       "      <td>2.265100e+04</td>\n",
       "      <td>22651.000000</td>\n",
       "      <td>22651.000000</td>\n",
       "      <td>22651.000000</td>\n",
       "      <td>22651.000000</td>\n",
       "      <td>22651.000000</td>\n",
       "    </tr>\n",
       "    <tr>\n",
       "      <th>mean</th>\n",
       "      <td>0.454705</td>\n",
       "      <td>4432.715024</td>\n",
       "      <td>7.013797e+04</td>\n",
       "      <td>1.722402e+05</td>\n",
       "      <td>1915.377151</td>\n",
       "      <td>1961.947684</td>\n",
       "      <td>3.104896</td>\n",
       "      <td>1.887246</td>\n",
       "      <td>0.268951</td>\n",
       "    </tr>\n",
       "    <tr>\n",
       "      <th>std</th>\n",
       "      <td>0.611818</td>\n",
       "      <td>2142.803595</td>\n",
       "      <td>1.029035e+05</td>\n",
       "      <td>1.896424e+05</td>\n",
       "      <td>1079.070700</td>\n",
       "      <td>25.843908</td>\n",
       "      <td>0.829233</td>\n",
       "      <td>0.951217</td>\n",
       "      <td>0.479401</td>\n",
       "    </tr>\n",
       "    <tr>\n",
       "      <th>min</th>\n",
       "      <td>0.040000</td>\n",
       "      <td>107.000000</td>\n",
       "      <td>9.000000e+02</td>\n",
       "      <td>1.400000e+03</td>\n",
       "      <td>450.000000</td>\n",
       "      <td>1832.000000</td>\n",
       "      <td>0.000000</td>\n",
       "      <td>0.000000</td>\n",
       "      <td>0.000000</td>\n",
       "    </tr>\n",
       "    <tr>\n",
       "      <th>25%</th>\n",
       "      <td>0.200000</td>\n",
       "      <td>3130.000000</td>\n",
       "      <td>2.200000e+04</td>\n",
       "      <td>8.550000e+04</td>\n",
       "      <td>1250.000000</td>\n",
       "      <td>1947.000000</td>\n",
       "      <td>3.000000</td>\n",
       "      <td>1.000000</td>\n",
       "      <td>0.000000</td>\n",
       "    </tr>\n",
       "    <tr>\n",
       "      <th>50%</th>\n",
       "      <td>0.280000</td>\n",
       "      <td>4026.000000</td>\n",
       "      <td>3.000000e+04</td>\n",
       "      <td>1.188000e+05</td>\n",
       "      <td>1646.000000</td>\n",
       "      <td>1959.000000</td>\n",
       "      <td>3.000000</td>\n",
       "      <td>2.000000</td>\n",
       "      <td>0.000000</td>\n",
       "    </tr>\n",
       "    <tr>\n",
       "      <th>75%</th>\n",
       "      <td>0.460000</td>\n",
       "      <td>6229.000000</td>\n",
       "      <td>6.030000e+04</td>\n",
       "      <td>1.882500e+05</td>\n",
       "      <td>2213.250000</td>\n",
       "      <td>1977.000000</td>\n",
       "      <td>4.000000</td>\n",
       "      <td>2.000000</td>\n",
       "      <td>1.000000</td>\n",
       "    </tr>\n",
       "    <tr>\n",
       "      <th>max</th>\n",
       "      <td>17.500000</td>\n",
       "      <td>9530.000000</td>\n",
       "      <td>1.869000e+06</td>\n",
       "      <td>5.824300e+06</td>\n",
       "      <td>19728.249880</td>\n",
       "      <td>2017.000000</td>\n",
       "      <td>11.000000</td>\n",
       "      <td>10.000000</td>\n",
       "      <td>3.000000</td>\n",
       "    </tr>\n",
       "  </tbody>\n",
       "</table>\n",
       "</div>"
      ],
      "text/plain": [
       "            Acreage  Neighborhood    Land Value  Building Value  \\\n",
       "count  22651.000000  22651.000000  2.265100e+04    2.265100e+04   \n",
       "mean       0.454705   4432.715024  7.013797e+04    1.722402e+05   \n",
       "std        0.611818   2142.803595  1.029035e+05    1.896424e+05   \n",
       "min        0.040000    107.000000  9.000000e+02    1.400000e+03   \n",
       "25%        0.200000   3130.000000  2.200000e+04    8.550000e+04   \n",
       "50%        0.280000   4026.000000  3.000000e+04    1.188000e+05   \n",
       "75%        0.460000   6229.000000  6.030000e+04    1.882500e+05   \n",
       "max       17.500000   9530.000000  1.869000e+06    5.824300e+06   \n",
       "\n",
       "       Finished Area    Year Built      Bedrooms     Full Bath     Half Bath  \n",
       "count   22651.000000  22651.000000  22651.000000  22651.000000  22651.000000  \n",
       "mean     1915.377151   1961.947684      3.104896      1.887246      0.268951  \n",
       "std      1079.070700     25.843908      0.829233      0.951217      0.479401  \n",
       "min       450.000000   1832.000000      0.000000      0.000000      0.000000  \n",
       "25%      1250.000000   1947.000000      3.000000      1.000000      0.000000  \n",
       "50%      1646.000000   1959.000000      3.000000      2.000000      0.000000  \n",
       "75%      2213.250000   1977.000000      4.000000      2.000000      1.000000  \n",
       "max     19728.249880   2017.000000     11.000000     10.000000      3.000000  "
      ]
     },
     "execution_count": 26,
     "metadata": {},
     "output_type": "execute_result"
    }
   ],
   "source": [
    "Nashville.describe()"
   ]
  },
  {
   "cell_type": "code",
   "execution_count": 27,
   "id": "d18e5664",
   "metadata": {},
   "outputs": [
    {
     "data": {
      "text/plain": [
       "1950    1147\n",
       "1955     997\n",
       "1930     996\n",
       "1960     748\n",
       "1940     744\n",
       "2015     564\n",
       "1920     559\n",
       "1948     538\n",
       "1958     530\n",
       "1956     468\n",
       "1962     442\n",
       "2014     426\n",
       "1963     425\n",
       "2016     419\n",
       "1935     417\n",
       "1959     409\n",
       "1945     390\n",
       "1965     379\n",
       "1961     377\n",
       "1957     360\n",
       "1964     353\n",
       "1966     334\n",
       "1968     321\n",
       "1953     321\n",
       "1954     311\n",
       "1967     294\n",
       "1972     293\n",
       "1952     290\n",
       "1951     275\n",
       "1949     258\n",
       "1925     250\n",
       "1971     243\n",
       "1987     240\n",
       "2013     232\n",
       "1928     228\n",
       "1973     221\n",
       "1969     215\n",
       "1984     215\n",
       "1979     213\n",
       "1978     203\n",
       "1983     197\n",
       "1938     194\n",
       "1947     193\n",
       "1970     189\n",
       "1977     188\n",
       "1974     176\n",
       "1946     176\n",
       "1985     175\n",
       "1986     175\n",
       "1988     166\n",
       "1976     159\n",
       "1910     154\n",
       "1980     149\n",
       "1997     133\n",
       "1989     132\n",
       "1999     121\n",
       "1975     112\n",
       "1981     106\n",
       "2006     105\n",
       "2007     104\n",
       "2000      97\n",
       "1991      95\n",
       "2005      94\n",
       "1990      91\n",
       "1996      90\n",
       "1899      89\n",
       "1929      89\n",
       "1936      88\n",
       "1942      88\n",
       "1941      88\n",
       "1998      86\n",
       "2004      81\n",
       "1924      78\n",
       "1995      78\n",
       "1993      78\n",
       "1939      76\n",
       "1994      74\n",
       "1982      74\n",
       "2001      73\n",
       "1932      72\n",
       "1900      71\n",
       "1933      71\n",
       "2012      71\n",
       "1926      68\n",
       "2008      67\n",
       "1937      67\n",
       "1934      65\n",
       "2003      62\n",
       "2002      60\n",
       "1992      58\n",
       "1923      55\n",
       "1915      53\n",
       "1943      49\n",
       "2009      47\n",
       "1927      42\n",
       "1931      41\n",
       "2010      36\n",
       "1944      32\n",
       "2011      32\n",
       "1918      28\n",
       "1919      23\n",
       "1922      20\n",
       "1909      17\n",
       "1921      11\n",
       "2017      10\n",
       "1917       9\n",
       "1904       8\n",
       "1916       8\n",
       "1905       8\n",
       "1906       6\n",
       "1912       5\n",
       "1908       3\n",
       "1911       3\n",
       "1903       3\n",
       "1902       2\n",
       "1870       2\n",
       "1907       2\n",
       "1901       1\n",
       "1890       1\n",
       "1894       1\n",
       "1893       1\n",
       "1832       1\n",
       "1913       1\n",
       "1914       1\n",
       "1880       1\n",
       "Name: Year Built, dtype: int64"
      ]
     },
     "execution_count": 27,
     "metadata": {},
     "output_type": "execute_result"
    }
   ],
   "source": [
    "Nashville['Year Built'].value_counts()"
   ]
  },
  {
   "cell_type": "code",
   "execution_count": 28,
   "id": "1b26d923",
   "metadata": {},
   "outputs": [],
   "source": [
    "# https://www.pluralsight.com/guides/cleaning-up-data-from-outliers"
   ]
  },
  {
   "cell_type": "code",
   "execution_count": 29,
   "id": "1233bffb",
   "metadata": {},
   "outputs": [
    {
     "name": "stdout",
     "output_type": "stream",
     "text": [
      "988.0\n",
      "3096.39999\n"
     ]
    }
   ],
   "source": [
    "print(Nashville['Finished Area'].quantile(0.10))\n",
    "print(Nashville['Finished Area'].quantile(0.90))"
   ]
  },
  {
   "cell_type": "code",
   "execution_count": 30,
   "id": "c2a8b702",
   "metadata": {},
   "outputs": [
    {
     "name": "stdout",
     "output_type": "stream",
     "text": [
      "0.6518632376230338\n"
     ]
    }
   ],
   "source": [
    "Nashville['Finished Area'] = np.where(Nashville['Finished Area'] <988.0, 988.0,Nashville['Finished Area'])\n",
    "Nashville['Finished Area'] = np.where(Nashville['Finished Area'] >3096.39999, 3096.39999,Nashville['Finished Area'])\n",
    "print(Nashville['Finished Area'].skew())"
   ]
  },
  {
   "cell_type": "code",
   "execution_count": 31,
   "id": "1848ced8",
   "metadata": {},
   "outputs": [
    {
     "name": "stdout",
     "output_type": "stream",
     "text": [
      "62300.0\n",
      "308300.0\n"
     ]
    }
   ],
   "source": [
    "print(Nashville['Building Value'].quantile(0.10))\n",
    "print(Nashville['Building Value'].quantile(0.90))"
   ]
  },
  {
   "cell_type": "code",
   "execution_count": 32,
   "id": "197fa4ea",
   "metadata": {},
   "outputs": [
    {
     "name": "stdout",
     "output_type": "stream",
     "text": [
      "0.9364469724227075\n"
     ]
    }
   ],
   "source": [
    "Nashville['Building Value'] = np.where(Nashville['Building Value'] <62300.0, 62300.0,Nashville['Building Value'])\n",
    "Nashville['Building Value'] = np.where(Nashville['Building Value'] >308300.0, 308300.0,Nashville['Building Value'])\n",
    "print(Nashville['Building Value'].skew())"
   ]
  },
  {
   "cell_type": "code",
   "execution_count": 33,
   "id": "6ec6e7db",
   "metadata": {},
   "outputs": [
    {
     "name": "stdout",
     "output_type": "stream",
     "text": [
      "16500.0\n",
      "195000.0\n"
     ]
    }
   ],
   "source": [
    "print(Nashville['Land Value'].quantile(0.10))\n",
    "print(Nashville['Land Value'].quantile(0.90))"
   ]
  },
  {
   "cell_type": "code",
   "execution_count": 34,
   "id": "44f7bf26",
   "metadata": {},
   "outputs": [
    {
     "name": "stdout",
     "output_type": "stream",
     "text": [
      "1.4887731008853655\n"
     ]
    }
   ],
   "source": [
    "Nashville['Land Value'] = np.where(Nashville['Land Value'] <16500.0, 16500.0,Nashville['Land Value'])\n",
    "Nashville['Land Value'] = np.where(Nashville['Land Value'] >195000.0, 195000.0,Nashville['Land Value'])\n",
    "print(Nashville['Land Value'].skew())"
   ]
  },
  {
   "cell_type": "code",
   "execution_count": 35,
   "id": "1ef6bdb9",
   "metadata": {},
   "outputs": [],
   "source": [
    "# Q1 = Nashville['Acreage'].quantile(0.25)\n",
    "# Q3 = Nashville['Acreage'].quantile(0.75)\n",
    "# IQR = Q3 - Q1\n",
    "# print(IQR)"
   ]
  },
  {
   "cell_type": "code",
   "execution_count": 36,
   "id": "d68dbe6d",
   "metadata": {},
   "outputs": [],
   "source": [
    "# Nashville['Acreage']=Nashville['Acreage'][~((Nashville['Acreage'] < (Q1 - 1.5 * IQR)) |(Nashville['Acreage'] > (Q3 + 1.5 * IQR)))]"
   ]
  },
  {
   "cell_type": "code",
   "execution_count": 37,
   "id": "893e516d",
   "metadata": {},
   "outputs": [
    {
     "data": {
      "text/html": [
       "<div>\n",
       "<style scoped>\n",
       "    .dataframe tbody tr th:only-of-type {\n",
       "        vertical-align: middle;\n",
       "    }\n",
       "\n",
       "    .dataframe tbody tr th {\n",
       "        vertical-align: top;\n",
       "    }\n",
       "\n",
       "    .dataframe thead th {\n",
       "        text-align: right;\n",
       "    }\n",
       "</style>\n",
       "<table border=\"1\" class=\"dataframe\">\n",
       "  <thead>\n",
       "    <tr style=\"text-align: right;\">\n",
       "      <th></th>\n",
       "      <th>Land Use</th>\n",
       "      <th>Sale Date</th>\n",
       "      <th>Sold As Vacant</th>\n",
       "      <th>Multiple Parcels Involved in Sale</th>\n",
       "      <th>City</th>\n",
       "      <th>Acreage</th>\n",
       "      <th>Tax District</th>\n",
       "      <th>Neighborhood</th>\n",
       "      <th>Land Value</th>\n",
       "      <th>Building Value</th>\n",
       "      <th>Finished Area</th>\n",
       "      <th>Foundation Type</th>\n",
       "      <th>Year Built</th>\n",
       "      <th>Exterior Wall</th>\n",
       "      <th>Grade</th>\n",
       "      <th>Bedrooms</th>\n",
       "      <th>Full Bath</th>\n",
       "      <th>Half Bath</th>\n",
       "      <th>Sale Price Compared To Value</th>\n",
       "    </tr>\n",
       "  </thead>\n",
       "  <tbody>\n",
       "    <tr>\n",
       "      <th>0</th>\n",
       "      <td>SINGLE FAMILY</td>\n",
       "      <td>1/11/2013</td>\n",
       "      <td>No</td>\n",
       "      <td>No</td>\n",
       "      <td>NASHVILLE</td>\n",
       "      <td>0.17</td>\n",
       "      <td>URBAN SERVICES DISTRICT</td>\n",
       "      <td>3127</td>\n",
       "      <td>32000.0</td>\n",
       "      <td>134400.0</td>\n",
       "      <td>1149.00000</td>\n",
       "      <td>PT BSMT</td>\n",
       "      <td>1941</td>\n",
       "      <td>BRICK</td>\n",
       "      <td>C</td>\n",
       "      <td>2</td>\n",
       "      <td>1</td>\n",
       "      <td>0</td>\n",
       "      <td>Over</td>\n",
       "    </tr>\n",
       "    <tr>\n",
       "      <th>1</th>\n",
       "      <td>SINGLE FAMILY</td>\n",
       "      <td>1/18/2013</td>\n",
       "      <td>No</td>\n",
       "      <td>No</td>\n",
       "      <td>NASHVILLE</td>\n",
       "      <td>0.11</td>\n",
       "      <td>CITY OF BERRY HILL</td>\n",
       "      <td>9126</td>\n",
       "      <td>34000.0</td>\n",
       "      <td>157800.0</td>\n",
       "      <td>2090.82495</td>\n",
       "      <td>SLAB</td>\n",
       "      <td>2000</td>\n",
       "      <td>BRICK/FRAME</td>\n",
       "      <td>C</td>\n",
       "      <td>3</td>\n",
       "      <td>2</td>\n",
       "      <td>1</td>\n",
       "      <td>Over</td>\n",
       "    </tr>\n",
       "    <tr>\n",
       "      <th>2</th>\n",
       "      <td>SINGLE FAMILY</td>\n",
       "      <td>1/18/2013</td>\n",
       "      <td>No</td>\n",
       "      <td>No</td>\n",
       "      <td>NASHVILLE</td>\n",
       "      <td>0.17</td>\n",
       "      <td>URBAN SERVICES DISTRICT</td>\n",
       "      <td>3130</td>\n",
       "      <td>25000.0</td>\n",
       "      <td>243700.0</td>\n",
       "      <td>2145.60001</td>\n",
       "      <td>FULL BSMT</td>\n",
       "      <td>1948</td>\n",
       "      <td>BRICK/FRAME</td>\n",
       "      <td>B</td>\n",
       "      <td>4</td>\n",
       "      <td>2</td>\n",
       "      <td>0</td>\n",
       "      <td>Under</td>\n",
       "    </tr>\n",
       "    <tr>\n",
       "      <th>3</th>\n",
       "      <td>SINGLE FAMILY</td>\n",
       "      <td>1/23/2013</td>\n",
       "      <td>No</td>\n",
       "      <td>No</td>\n",
       "      <td>NASHVILLE</td>\n",
       "      <td>0.34</td>\n",
       "      <td>URBAN SERVICES DISTRICT</td>\n",
       "      <td>3130</td>\n",
       "      <td>25000.0</td>\n",
       "      <td>138100.0</td>\n",
       "      <td>1969.00000</td>\n",
       "      <td>CRAWL</td>\n",
       "      <td>1910</td>\n",
       "      <td>FRAME</td>\n",
       "      <td>C</td>\n",
       "      <td>2</td>\n",
       "      <td>1</td>\n",
       "      <td>0</td>\n",
       "      <td>Under</td>\n",
       "    </tr>\n",
       "    <tr>\n",
       "      <th>4</th>\n",
       "      <td>SINGLE FAMILY</td>\n",
       "      <td>1/4/2013</td>\n",
       "      <td>No</td>\n",
       "      <td>No</td>\n",
       "      <td>NASHVILLE</td>\n",
       "      <td>0.17</td>\n",
       "      <td>URBAN SERVICES DISTRICT</td>\n",
       "      <td>3130</td>\n",
       "      <td>25000.0</td>\n",
       "      <td>86100.0</td>\n",
       "      <td>1037.00000</td>\n",
       "      <td>CRAWL</td>\n",
       "      <td>1945</td>\n",
       "      <td>FRAME</td>\n",
       "      <td>C</td>\n",
       "      <td>2</td>\n",
       "      <td>1</td>\n",
       "      <td>0</td>\n",
       "      <td>Under</td>\n",
       "    </tr>\n",
       "  </tbody>\n",
       "</table>\n",
       "</div>"
      ],
      "text/plain": [
       "        Land Use  Sale Date Sold As Vacant Multiple Parcels Involved in Sale  \\\n",
       "0  SINGLE FAMILY  1/11/2013             No                                No   \n",
       "1  SINGLE FAMILY  1/18/2013             No                                No   \n",
       "2  SINGLE FAMILY  1/18/2013             No                                No   \n",
       "3  SINGLE FAMILY  1/23/2013             No                                No   \n",
       "4  SINGLE FAMILY   1/4/2013             No                                No   \n",
       "\n",
       "        City  Acreage             Tax District  Neighborhood  Land Value  \\\n",
       "0  NASHVILLE     0.17  URBAN SERVICES DISTRICT          3127     32000.0   \n",
       "1  NASHVILLE     0.11       CITY OF BERRY HILL          9126     34000.0   \n",
       "2  NASHVILLE     0.17  URBAN SERVICES DISTRICT          3130     25000.0   \n",
       "3  NASHVILLE     0.34  URBAN SERVICES DISTRICT          3130     25000.0   \n",
       "4  NASHVILLE     0.17  URBAN SERVICES DISTRICT          3130     25000.0   \n",
       "\n",
       "   Building Value  Finished Area Foundation Type  Year Built Exterior Wall  \\\n",
       "0        134400.0     1149.00000         PT BSMT        1941         BRICK   \n",
       "1        157800.0     2090.82495            SLAB        2000   BRICK/FRAME   \n",
       "2        243700.0     2145.60001       FULL BSMT        1948   BRICK/FRAME   \n",
       "3        138100.0     1969.00000           CRAWL        1910         FRAME   \n",
       "4         86100.0     1037.00000           CRAWL        1945         FRAME   \n",
       "\n",
       "  Grade  Bedrooms  Full Bath  Half Bath Sale Price Compared To Value  \n",
       "0  C            2          1          0                         Over  \n",
       "1  C            3          2          1                         Over  \n",
       "2  B            4          2          0                        Under  \n",
       "3  C            2          1          0                        Under  \n",
       "4  C            2          1          0                        Under  "
      ]
     },
     "execution_count": 37,
     "metadata": {},
     "output_type": "execute_result"
    }
   ],
   "source": [
    "Nashville.head(5)"
   ]
  },
  {
   "cell_type": "code",
   "execution_count": 38,
   "id": "3c1cf0a0",
   "metadata": {},
   "outputs": [],
   "source": [
    "Nashville[['Sale Date']] = Nashville[['Sale Date']].apply(pd.to_datetime)\n"
   ]
  },
  {
   "cell_type": "code",
   "execution_count": 39,
   "id": "e00f96f3",
   "metadata": {},
   "outputs": [
    {
     "data": {
      "text/plain": [
       "datetime.datetime(2021, 8, 10, 2, 32, 48, 691615)"
      ]
     },
     "execution_count": 39,
     "metadata": {},
     "output_type": "execute_result"
    }
   ],
   "source": [
    "import datetime\n",
    "\n",
    "today=datetime.datetime.today()\n",
    "\n",
    "today"
   ]
  },
  {
   "cell_type": "code",
   "execution_count": 40,
   "id": "4c1ce68f",
   "metadata": {},
   "outputs": [],
   "source": [
    "Nashville['Sales days'] = (pd.Timestamp('today') - Nashville['Sale Date']).dt.days"
   ]
  },
  {
   "cell_type": "code",
   "execution_count": 41,
   "id": "f9dcf29b",
   "metadata": {},
   "outputs": [
    {
     "data": {
      "text/html": [
       "<div>\n",
       "<style scoped>\n",
       "    .dataframe tbody tr th:only-of-type {\n",
       "        vertical-align: middle;\n",
       "    }\n",
       "\n",
       "    .dataframe tbody tr th {\n",
       "        vertical-align: top;\n",
       "    }\n",
       "\n",
       "    .dataframe thead th {\n",
       "        text-align: right;\n",
       "    }\n",
       "</style>\n",
       "<table border=\"1\" class=\"dataframe\">\n",
       "  <thead>\n",
       "    <tr style=\"text-align: right;\">\n",
       "      <th></th>\n",
       "      <th>Land Use</th>\n",
       "      <th>Sale Date</th>\n",
       "      <th>Sold As Vacant</th>\n",
       "      <th>Multiple Parcels Involved in Sale</th>\n",
       "      <th>City</th>\n",
       "      <th>Acreage</th>\n",
       "      <th>Tax District</th>\n",
       "      <th>Neighborhood</th>\n",
       "      <th>Land Value</th>\n",
       "      <th>Building Value</th>\n",
       "      <th>Finished Area</th>\n",
       "      <th>Foundation Type</th>\n",
       "      <th>Year Built</th>\n",
       "      <th>Exterior Wall</th>\n",
       "      <th>Grade</th>\n",
       "      <th>Bedrooms</th>\n",
       "      <th>Full Bath</th>\n",
       "      <th>Half Bath</th>\n",
       "      <th>Sale Price Compared To Value</th>\n",
       "      <th>Sales days</th>\n",
       "    </tr>\n",
       "  </thead>\n",
       "  <tbody>\n",
       "    <tr>\n",
       "      <th>0</th>\n",
       "      <td>SINGLE FAMILY</td>\n",
       "      <td>2013-01-11</td>\n",
       "      <td>No</td>\n",
       "      <td>No</td>\n",
       "      <td>NASHVILLE</td>\n",
       "      <td>0.17</td>\n",
       "      <td>URBAN SERVICES DISTRICT</td>\n",
       "      <td>3127</td>\n",
       "      <td>32000.0</td>\n",
       "      <td>134400.0</td>\n",
       "      <td>1149.00000</td>\n",
       "      <td>PT BSMT</td>\n",
       "      <td>1941</td>\n",
       "      <td>BRICK</td>\n",
       "      <td>C</td>\n",
       "      <td>2</td>\n",
       "      <td>1</td>\n",
       "      <td>0</td>\n",
       "      <td>Over</td>\n",
       "      <td>3133</td>\n",
       "    </tr>\n",
       "    <tr>\n",
       "      <th>1</th>\n",
       "      <td>SINGLE FAMILY</td>\n",
       "      <td>2013-01-18</td>\n",
       "      <td>No</td>\n",
       "      <td>No</td>\n",
       "      <td>NASHVILLE</td>\n",
       "      <td>0.11</td>\n",
       "      <td>CITY OF BERRY HILL</td>\n",
       "      <td>9126</td>\n",
       "      <td>34000.0</td>\n",
       "      <td>157800.0</td>\n",
       "      <td>2090.82495</td>\n",
       "      <td>SLAB</td>\n",
       "      <td>2000</td>\n",
       "      <td>BRICK/FRAME</td>\n",
       "      <td>C</td>\n",
       "      <td>3</td>\n",
       "      <td>2</td>\n",
       "      <td>1</td>\n",
       "      <td>Over</td>\n",
       "      <td>3126</td>\n",
       "    </tr>\n",
       "    <tr>\n",
       "      <th>2</th>\n",
       "      <td>SINGLE FAMILY</td>\n",
       "      <td>2013-01-18</td>\n",
       "      <td>No</td>\n",
       "      <td>No</td>\n",
       "      <td>NASHVILLE</td>\n",
       "      <td>0.17</td>\n",
       "      <td>URBAN SERVICES DISTRICT</td>\n",
       "      <td>3130</td>\n",
       "      <td>25000.0</td>\n",
       "      <td>243700.0</td>\n",
       "      <td>2145.60001</td>\n",
       "      <td>FULL BSMT</td>\n",
       "      <td>1948</td>\n",
       "      <td>BRICK/FRAME</td>\n",
       "      <td>B</td>\n",
       "      <td>4</td>\n",
       "      <td>2</td>\n",
       "      <td>0</td>\n",
       "      <td>Under</td>\n",
       "      <td>3126</td>\n",
       "    </tr>\n",
       "    <tr>\n",
       "      <th>3</th>\n",
       "      <td>SINGLE FAMILY</td>\n",
       "      <td>2013-01-23</td>\n",
       "      <td>No</td>\n",
       "      <td>No</td>\n",
       "      <td>NASHVILLE</td>\n",
       "      <td>0.34</td>\n",
       "      <td>URBAN SERVICES DISTRICT</td>\n",
       "      <td>3130</td>\n",
       "      <td>25000.0</td>\n",
       "      <td>138100.0</td>\n",
       "      <td>1969.00000</td>\n",
       "      <td>CRAWL</td>\n",
       "      <td>1910</td>\n",
       "      <td>FRAME</td>\n",
       "      <td>C</td>\n",
       "      <td>2</td>\n",
       "      <td>1</td>\n",
       "      <td>0</td>\n",
       "      <td>Under</td>\n",
       "      <td>3121</td>\n",
       "    </tr>\n",
       "    <tr>\n",
       "      <th>4</th>\n",
       "      <td>SINGLE FAMILY</td>\n",
       "      <td>2013-01-04</td>\n",
       "      <td>No</td>\n",
       "      <td>No</td>\n",
       "      <td>NASHVILLE</td>\n",
       "      <td>0.17</td>\n",
       "      <td>URBAN SERVICES DISTRICT</td>\n",
       "      <td>3130</td>\n",
       "      <td>25000.0</td>\n",
       "      <td>86100.0</td>\n",
       "      <td>1037.00000</td>\n",
       "      <td>CRAWL</td>\n",
       "      <td>1945</td>\n",
       "      <td>FRAME</td>\n",
       "      <td>C</td>\n",
       "      <td>2</td>\n",
       "      <td>1</td>\n",
       "      <td>0</td>\n",
       "      <td>Under</td>\n",
       "      <td>3140</td>\n",
       "    </tr>\n",
       "  </tbody>\n",
       "</table>\n",
       "</div>"
      ],
      "text/plain": [
       "        Land Use  Sale Date Sold As Vacant Multiple Parcels Involved in Sale  \\\n",
       "0  SINGLE FAMILY 2013-01-11             No                                No   \n",
       "1  SINGLE FAMILY 2013-01-18             No                                No   \n",
       "2  SINGLE FAMILY 2013-01-18             No                                No   \n",
       "3  SINGLE FAMILY 2013-01-23             No                                No   \n",
       "4  SINGLE FAMILY 2013-01-04             No                                No   \n",
       "\n",
       "        City  Acreage             Tax District  Neighborhood  Land Value  \\\n",
       "0  NASHVILLE     0.17  URBAN SERVICES DISTRICT          3127     32000.0   \n",
       "1  NASHVILLE     0.11       CITY OF BERRY HILL          9126     34000.0   \n",
       "2  NASHVILLE     0.17  URBAN SERVICES DISTRICT          3130     25000.0   \n",
       "3  NASHVILLE     0.34  URBAN SERVICES DISTRICT          3130     25000.0   \n",
       "4  NASHVILLE     0.17  URBAN SERVICES DISTRICT          3130     25000.0   \n",
       "\n",
       "   Building Value  Finished Area Foundation Type  Year Built Exterior Wall  \\\n",
       "0        134400.0     1149.00000         PT BSMT        1941         BRICK   \n",
       "1        157800.0     2090.82495            SLAB        2000   BRICK/FRAME   \n",
       "2        243700.0     2145.60001       FULL BSMT        1948   BRICK/FRAME   \n",
       "3        138100.0     1969.00000           CRAWL        1910         FRAME   \n",
       "4         86100.0     1037.00000           CRAWL        1945         FRAME   \n",
       "\n",
       "  Grade  Bedrooms  Full Bath  Half Bath Sale Price Compared To Value  \\\n",
       "0  C            2          1          0                         Over   \n",
       "1  C            3          2          1                         Over   \n",
       "2  B            4          2          0                        Under   \n",
       "3  C            2          1          0                        Under   \n",
       "4  C            2          1          0                        Under   \n",
       "\n",
       "   Sales days  \n",
       "0        3133  \n",
       "1        3126  \n",
       "2        3126  \n",
       "3        3121  \n",
       "4        3140  "
      ]
     },
     "execution_count": 41,
     "metadata": {},
     "output_type": "execute_result"
    }
   ],
   "source": [
    "Nashville.head(5)"
   ]
  },
  {
   "cell_type": "code",
   "execution_count": 42,
   "id": "4029f8aa",
   "metadata": {},
   "outputs": [],
   "source": [
    "Nashville['DiffYearsBuilt']=2021-Nashville['Year Built']"
   ]
  },
  {
   "cell_type": "code",
   "execution_count": 43,
   "id": "865589db",
   "metadata": {},
   "outputs": [],
   "source": [
    "Nashville.drop(['Sale Date','Year Built'], axis=1, inplace= True)\n"
   ]
  },
  {
   "cell_type": "code",
   "execution_count": 44,
   "id": "bea9e52d",
   "metadata": {},
   "outputs": [
    {
     "data": {
      "text/html": [
       "<div>\n",
       "<style scoped>\n",
       "    .dataframe tbody tr th:only-of-type {\n",
       "        vertical-align: middle;\n",
       "    }\n",
       "\n",
       "    .dataframe tbody tr th {\n",
       "        vertical-align: top;\n",
       "    }\n",
       "\n",
       "    .dataframe thead th {\n",
       "        text-align: right;\n",
       "    }\n",
       "</style>\n",
       "<table border=\"1\" class=\"dataframe\">\n",
       "  <thead>\n",
       "    <tr style=\"text-align: right;\">\n",
       "      <th></th>\n",
       "      <th>Land Use</th>\n",
       "      <th>Sold As Vacant</th>\n",
       "      <th>Multiple Parcels Involved in Sale</th>\n",
       "      <th>City</th>\n",
       "      <th>Acreage</th>\n",
       "      <th>Tax District</th>\n",
       "      <th>Neighborhood</th>\n",
       "      <th>Land Value</th>\n",
       "      <th>Building Value</th>\n",
       "      <th>Finished Area</th>\n",
       "      <th>Foundation Type</th>\n",
       "      <th>Exterior Wall</th>\n",
       "      <th>Grade</th>\n",
       "      <th>Bedrooms</th>\n",
       "      <th>Full Bath</th>\n",
       "      <th>Half Bath</th>\n",
       "      <th>Sale Price Compared To Value</th>\n",
       "      <th>Sales days</th>\n",
       "      <th>DiffYearsBuilt</th>\n",
       "    </tr>\n",
       "  </thead>\n",
       "  <tbody>\n",
       "    <tr>\n",
       "      <th>0</th>\n",
       "      <td>SINGLE FAMILY</td>\n",
       "      <td>No</td>\n",
       "      <td>No</td>\n",
       "      <td>NASHVILLE</td>\n",
       "      <td>0.17</td>\n",
       "      <td>URBAN SERVICES DISTRICT</td>\n",
       "      <td>3127</td>\n",
       "      <td>32000.0</td>\n",
       "      <td>134400.0</td>\n",
       "      <td>1149.00000</td>\n",
       "      <td>PT BSMT</td>\n",
       "      <td>BRICK</td>\n",
       "      <td>C</td>\n",
       "      <td>2</td>\n",
       "      <td>1</td>\n",
       "      <td>0</td>\n",
       "      <td>Over</td>\n",
       "      <td>3133</td>\n",
       "      <td>80</td>\n",
       "    </tr>\n",
       "    <tr>\n",
       "      <th>1</th>\n",
       "      <td>SINGLE FAMILY</td>\n",
       "      <td>No</td>\n",
       "      <td>No</td>\n",
       "      <td>NASHVILLE</td>\n",
       "      <td>0.11</td>\n",
       "      <td>CITY OF BERRY HILL</td>\n",
       "      <td>9126</td>\n",
       "      <td>34000.0</td>\n",
       "      <td>157800.0</td>\n",
       "      <td>2090.82495</td>\n",
       "      <td>SLAB</td>\n",
       "      <td>BRICK/FRAME</td>\n",
       "      <td>C</td>\n",
       "      <td>3</td>\n",
       "      <td>2</td>\n",
       "      <td>1</td>\n",
       "      <td>Over</td>\n",
       "      <td>3126</td>\n",
       "      <td>21</td>\n",
       "    </tr>\n",
       "    <tr>\n",
       "      <th>2</th>\n",
       "      <td>SINGLE FAMILY</td>\n",
       "      <td>No</td>\n",
       "      <td>No</td>\n",
       "      <td>NASHVILLE</td>\n",
       "      <td>0.17</td>\n",
       "      <td>URBAN SERVICES DISTRICT</td>\n",
       "      <td>3130</td>\n",
       "      <td>25000.0</td>\n",
       "      <td>243700.0</td>\n",
       "      <td>2145.60001</td>\n",
       "      <td>FULL BSMT</td>\n",
       "      <td>BRICK/FRAME</td>\n",
       "      <td>B</td>\n",
       "      <td>4</td>\n",
       "      <td>2</td>\n",
       "      <td>0</td>\n",
       "      <td>Under</td>\n",
       "      <td>3126</td>\n",
       "      <td>73</td>\n",
       "    </tr>\n",
       "    <tr>\n",
       "      <th>3</th>\n",
       "      <td>SINGLE FAMILY</td>\n",
       "      <td>No</td>\n",
       "      <td>No</td>\n",
       "      <td>NASHVILLE</td>\n",
       "      <td>0.34</td>\n",
       "      <td>URBAN SERVICES DISTRICT</td>\n",
       "      <td>3130</td>\n",
       "      <td>25000.0</td>\n",
       "      <td>138100.0</td>\n",
       "      <td>1969.00000</td>\n",
       "      <td>CRAWL</td>\n",
       "      <td>FRAME</td>\n",
       "      <td>C</td>\n",
       "      <td>2</td>\n",
       "      <td>1</td>\n",
       "      <td>0</td>\n",
       "      <td>Under</td>\n",
       "      <td>3121</td>\n",
       "      <td>111</td>\n",
       "    </tr>\n",
       "    <tr>\n",
       "      <th>4</th>\n",
       "      <td>SINGLE FAMILY</td>\n",
       "      <td>No</td>\n",
       "      <td>No</td>\n",
       "      <td>NASHVILLE</td>\n",
       "      <td>0.17</td>\n",
       "      <td>URBAN SERVICES DISTRICT</td>\n",
       "      <td>3130</td>\n",
       "      <td>25000.0</td>\n",
       "      <td>86100.0</td>\n",
       "      <td>1037.00000</td>\n",
       "      <td>CRAWL</td>\n",
       "      <td>FRAME</td>\n",
       "      <td>C</td>\n",
       "      <td>2</td>\n",
       "      <td>1</td>\n",
       "      <td>0</td>\n",
       "      <td>Under</td>\n",
       "      <td>3140</td>\n",
       "      <td>76</td>\n",
       "    </tr>\n",
       "  </tbody>\n",
       "</table>\n",
       "</div>"
      ],
      "text/plain": [
       "        Land Use Sold As Vacant Multiple Parcels Involved in Sale       City  \\\n",
       "0  SINGLE FAMILY             No                                No  NASHVILLE   \n",
       "1  SINGLE FAMILY             No                                No  NASHVILLE   \n",
       "2  SINGLE FAMILY             No                                No  NASHVILLE   \n",
       "3  SINGLE FAMILY             No                                No  NASHVILLE   \n",
       "4  SINGLE FAMILY             No                                No  NASHVILLE   \n",
       "\n",
       "   Acreage             Tax District  Neighborhood  Land Value  Building Value  \\\n",
       "0     0.17  URBAN SERVICES DISTRICT          3127     32000.0        134400.0   \n",
       "1     0.11       CITY OF BERRY HILL          9126     34000.0        157800.0   \n",
       "2     0.17  URBAN SERVICES DISTRICT          3130     25000.0        243700.0   \n",
       "3     0.34  URBAN SERVICES DISTRICT          3130     25000.0        138100.0   \n",
       "4     0.17  URBAN SERVICES DISTRICT          3130     25000.0         86100.0   \n",
       "\n",
       "   Finished Area Foundation Type Exterior Wall Grade  Bedrooms  Full Bath  \\\n",
       "0     1149.00000         PT BSMT         BRICK  C            2          1   \n",
       "1     2090.82495            SLAB   BRICK/FRAME  C            3          2   \n",
       "2     2145.60001       FULL BSMT   BRICK/FRAME  B            4          2   \n",
       "3     1969.00000           CRAWL         FRAME  C            2          1   \n",
       "4     1037.00000           CRAWL         FRAME  C            2          1   \n",
       "\n",
       "   Half Bath Sale Price Compared To Value  Sales days  DiffYearsBuilt  \n",
       "0          0                         Over        3133              80  \n",
       "1          1                         Over        3126              21  \n",
       "2          0                        Under        3126              73  \n",
       "3          0                        Under        3121             111  \n",
       "4          0                        Under        3140              76  "
      ]
     },
     "execution_count": 44,
     "metadata": {},
     "output_type": "execute_result"
    }
   ],
   "source": [
    "Nashville.head(5)"
   ]
  },
  {
   "cell_type": "code",
   "execution_count": 45,
   "id": "1d341bb9",
   "metadata": {
    "scrolled": true
   },
   "outputs": [
    {
     "name": "stdout",
     "output_type": "stream",
     "text": [
      "<class 'pandas.core.frame.DataFrame'>\n",
      "RangeIndex: 22651 entries, 0 to 22650\n",
      "Data columns (total 19 columns):\n",
      " #   Column                             Non-Null Count  Dtype  \n",
      "---  ------                             --------------  -----  \n",
      " 0   Land Use                           22651 non-null  object \n",
      " 1   Sold As Vacant                     22651 non-null  object \n",
      " 2   Multiple Parcels Involved in Sale  22651 non-null  object \n",
      " 3   City                               22651 non-null  object \n",
      " 4   Acreage                            22651 non-null  float64\n",
      " 5   Tax District                       22651 non-null  object \n",
      " 6   Neighborhood                       22651 non-null  int64  \n",
      " 7   Land Value                         22651 non-null  float64\n",
      " 8   Building Value                     22651 non-null  float64\n",
      " 9   Finished Area                      22651 non-null  float64\n",
      " 10  Foundation Type                    22651 non-null  object \n",
      " 11  Exterior Wall                      22651 non-null  object \n",
      " 12  Grade                              22651 non-null  object \n",
      " 13  Bedrooms                           22651 non-null  int64  \n",
      " 14  Full Bath                          22651 non-null  int64  \n",
      " 15  Half Bath                          22651 non-null  int64  \n",
      " 16  Sale Price Compared To Value       22651 non-null  object \n",
      " 17  Sales days                         22651 non-null  int64  \n",
      " 18  DiffYearsBuilt                     22651 non-null  int64  \n",
      "dtypes: float64(4), int64(6), object(9)\n",
      "memory usage: 3.3+ MB\n"
     ]
    }
   ],
   "source": [
    "Nashville.info()"
   ]
  },
  {
   "cell_type": "code",
   "execution_count": 46,
   "id": "b497e16b",
   "metadata": {},
   "outputs": [
    {
     "data": {
      "image/png": "[encoded data removed]",
      "text/plain": [
       "<Figure size 864x576 with 12 Axes>"
      ]
     },
     "metadata": {
      "needs_background": "light"
     },
     "output_type": "display_data"
    }
   ],
   "source": [
    "# let's visualize the distribution of the features of the cars\n",
    "Nashville.hist(figsize=(12,8),bins=35)\n",
    "plt.show()"
   ]
  },
  {
   "cell_type": "code",
   "execution_count": 47,
   "id": "c1349ea9",
   "metadata": {},
   "outputs": [],
   "source": [
    "# Nashville = pd.get_dummies(Nashville, columns=['Land Use','Sold As Vacant','Multiple Parcels Involved in Sale','City','Tax District','Foundation Type','Exterior Wall','Grade'])\n"
   ]
  },
  {
   "cell_type": "code",
   "execution_count": 48,
   "id": "38d447b0",
   "metadata": {},
   "outputs": [],
   "source": [
    "# from sklearn.preprocessing import LabelEncoder\n",
    "\n",
    "# Nashville['Land Use'] = Nashville['Land Use'].astype('category')\n",
    "# Nashville['Land Use'] = Nashville['Land Use'].cat.codes\n",
    "\n",
    "# Nashville['Sold As Vacant'] = Nashville['Sold As Vacant'].astype('category')\n",
    "# Nashville['Sold As Vacant'] = Nashville['Sold As Vacant'].cat.codes\n",
    "\n",
    "# Nashville['Multiple Parcels Involved in Sale'] = Nashville['Multiple Parcels Involved in Sale'].astype('category')\n",
    "# Nashville['Multiple Parcels Involved in Sale'] = Nashville['Multiple Parcels Involved in Sale'].cat.codes\n",
    "\n",
    "# Nashville['City'] = Nashville['City'].astype('category')\n",
    "# Nashville['City'] = Nashville['City'].cat.codes\n",
    "\n",
    "# Nashville['Tax District'] = Nashville['Tax District'].astype('category')\n",
    "# Nashville['Tax District'] = Nashville['Tax District'].cat.codes\n",
    "\n",
    "# Nashville['Foundation Type'] = Nashville['Foundation Type'].astype('category')\n",
    "# Nashville['Foundation Type'] = Nashville['Foundation Type'].cat.codes\n",
    "\n",
    "# Nashville['Exterior Wall'] = Nashville['Exterior Wall'].astype('category')\n",
    "# Nashville['Exterior Wall'] = Nashville['Exterior Wall'].cat.codes\n",
    "\n",
    "# Nashville['Grade'] = Nashville['Grade'].astype('category')\n",
    "# Nashville['Grade'] = Nashville['Grade'].cat.codes"
   ]
  },
  {
   "cell_type": "code",
   "execution_count": 49,
   "id": "c66c0fb7",
   "metadata": {},
   "outputs": [],
   "source": [
    "categorical_variable = {variable:i for i, variable in enumerate(Nashville.stack().unique())}\n",
    "\n",
    "Nashville['Land Use'] = Nashville['Land Use'].map(categorical_variable)\n",
    "Nashville['Sold As Vacant'] = Nashville['Sold As Vacant'].map(categorical_variable)\n",
    "Nashville['Multiple Parcels Involved in Sale'] = Nashville['Multiple Parcels Involved in Sale'].map(categorical_variable)\n",
    "Nashville['City'] = Nashville['City'].map(categorical_variable)\n",
    "Nashville['Tax District'] = Nashville['Tax District'].map(categorical_variable)\n",
    "Nashville['Foundation Type'] = Nashville['Foundation Type'].map(categorical_variable)\n",
    "Nashville['Exterior Wall'] = Nashville['Exterior Wall'].map(categorical_variable)\n",
    "Nashville['Grade'] = Nashville['Grade'].map(categorical_variable)"
   ]
  },
  {
   "cell_type": "code",
   "execution_count": 50,
   "id": "fe92e88f",
   "metadata": {},
   "outputs": [
    {
     "data": {
      "text/html": [
       "<div>\n",
       "<style scoped>\n",
       "    .dataframe tbody tr th:only-of-type {\n",
       "        vertical-align: middle;\n",
       "    }\n",
       "\n",
       "    .dataframe tbody tr th {\n",
       "        vertical-align: top;\n",
       "    }\n",
       "\n",
       "    .dataframe thead th {\n",
       "        text-align: right;\n",
       "    }\n",
       "</style>\n",
       "<table border=\"1\" class=\"dataframe\">\n",
       "  <thead>\n",
       "    <tr style=\"text-align: right;\">\n",
       "      <th></th>\n",
       "      <th>Land Use</th>\n",
       "      <th>Sold As Vacant</th>\n",
       "      <th>Multiple Parcels Involved in Sale</th>\n",
       "      <th>City</th>\n",
       "      <th>Acreage</th>\n",
       "      <th>Tax District</th>\n",
       "      <th>Neighborhood</th>\n",
       "      <th>Land Value</th>\n",
       "      <th>Building Value</th>\n",
       "      <th>Finished Area</th>\n",
       "      <th>Foundation Type</th>\n",
       "      <th>Exterior Wall</th>\n",
       "      <th>Grade</th>\n",
       "      <th>Bedrooms</th>\n",
       "      <th>Full Bath</th>\n",
       "      <th>Half Bath</th>\n",
       "      <th>Sale Price Compared To Value</th>\n",
       "      <th>Sales days</th>\n",
       "      <th>DiffYearsBuilt</th>\n",
       "    </tr>\n",
       "  </thead>\n",
       "  <tbody>\n",
       "    <tr>\n",
       "      <th>0</th>\n",
       "      <td>0</td>\n",
       "      <td>1</td>\n",
       "      <td>1</td>\n",
       "      <td>2</td>\n",
       "      <td>0.17</td>\n",
       "      <td>4</td>\n",
       "      <td>3127</td>\n",
       "      <td>32000.0</td>\n",
       "      <td>134400.0</td>\n",
       "      <td>1149.00000</td>\n",
       "      <td>9</td>\n",
       "      <td>10</td>\n",
       "      <td>11</td>\n",
       "      <td>2</td>\n",
       "      <td>1</td>\n",
       "      <td>0</td>\n",
       "      <td>Over</td>\n",
       "      <td>3133</td>\n",
       "      <td>80</td>\n",
       "    </tr>\n",
       "    <tr>\n",
       "      <th>1</th>\n",
       "      <td>0</td>\n",
       "      <td>1</td>\n",
       "      <td>1</td>\n",
       "      <td>2</td>\n",
       "      <td>0.11</td>\n",
       "      <td>19</td>\n",
       "      <td>9126</td>\n",
       "      <td>34000.0</td>\n",
       "      <td>157800.0</td>\n",
       "      <td>2090.82495</td>\n",
       "      <td>24</td>\n",
       "      <td>25</td>\n",
       "      <td>11</td>\n",
       "      <td>3</td>\n",
       "      <td>2</td>\n",
       "      <td>1</td>\n",
       "      <td>Over</td>\n",
       "      <td>3126</td>\n",
       "      <td>21</td>\n",
       "    </tr>\n",
       "    <tr>\n",
       "      <th>2</th>\n",
       "      <td>0</td>\n",
       "      <td>1</td>\n",
       "      <td>1</td>\n",
       "      <td>2</td>\n",
       "      <td>0.17</td>\n",
       "      <td>4</td>\n",
       "      <td>3130</td>\n",
       "      <td>25000.0</td>\n",
       "      <td>243700.0</td>\n",
       "      <td>2145.60001</td>\n",
       "      <td>33</td>\n",
       "      <td>25</td>\n",
       "      <td>34</td>\n",
       "      <td>4</td>\n",
       "      <td>2</td>\n",
       "      <td>0</td>\n",
       "      <td>Under</td>\n",
       "      <td>3126</td>\n",
       "      <td>73</td>\n",
       "    </tr>\n",
       "    <tr>\n",
       "      <th>3</th>\n",
       "      <td>0</td>\n",
       "      <td>1</td>\n",
       "      <td>1</td>\n",
       "      <td>2</td>\n",
       "      <td>0.34</td>\n",
       "      <td>4</td>\n",
       "      <td>3130</td>\n",
       "      <td>25000.0</td>\n",
       "      <td>138100.0</td>\n",
       "      <td>1969.00000</td>\n",
       "      <td>41</td>\n",
       "      <td>42</td>\n",
       "      <td>11</td>\n",
       "      <td>2</td>\n",
       "      <td>1</td>\n",
       "      <td>0</td>\n",
       "      <td>Under</td>\n",
       "      <td>3121</td>\n",
       "      <td>111</td>\n",
       "    </tr>\n",
       "    <tr>\n",
       "      <th>4</th>\n",
       "      <td>0</td>\n",
       "      <td>1</td>\n",
       "      <td>1</td>\n",
       "      <td>2</td>\n",
       "      <td>0.17</td>\n",
       "      <td>4</td>\n",
       "      <td>3130</td>\n",
       "      <td>25000.0</td>\n",
       "      <td>86100.0</td>\n",
       "      <td>1037.00000</td>\n",
       "      <td>41</td>\n",
       "      <td>42</td>\n",
       "      <td>11</td>\n",
       "      <td>2</td>\n",
       "      <td>1</td>\n",
       "      <td>0</td>\n",
       "      <td>Under</td>\n",
       "      <td>3140</td>\n",
       "      <td>76</td>\n",
       "    </tr>\n",
       "  </tbody>\n",
       "</table>\n",
       "</div>"
      ],
      "text/plain": [
       "   Land Use  Sold As Vacant  Multiple Parcels Involved in Sale  City  Acreage  \\\n",
       "0         0               1                                  1     2     0.17   \n",
       "1         0               1                                  1     2     0.11   \n",
       "2         0               1                                  1     2     0.17   \n",
       "3         0               1                                  1     2     0.34   \n",
       "4         0               1                                  1     2     0.17   \n",
       "\n",
       "   Tax District  Neighborhood  Land Value  Building Value  Finished Area  \\\n",
       "0             4          3127     32000.0        134400.0     1149.00000   \n",
       "1            19          9126     34000.0        157800.0     2090.82495   \n",
       "2             4          3130     25000.0        243700.0     2145.60001   \n",
       "3             4          3130     25000.0        138100.0     1969.00000   \n",
       "4             4          3130     25000.0         86100.0     1037.00000   \n",
       "\n",
       "   Foundation Type  Exterior Wall  Grade  Bedrooms  Full Bath  Half Bath  \\\n",
       "0                9             10     11         2          1          0   \n",
       "1               24             25     11         3          2          1   \n",
       "2               33             25     34         4          2          0   \n",
       "3               41             42     11         2          1          0   \n",
       "4               41             42     11         2          1          0   \n",
       "\n",
       "  Sale Price Compared To Value  Sales days  DiffYearsBuilt  \n",
       "0                         Over        3133              80  \n",
       "1                         Over        3126              21  \n",
       "2                        Under        3126              73  \n",
       "3                        Under        3121             111  \n",
       "4                        Under        3140              76  "
      ]
     },
     "execution_count": 50,
     "metadata": {},
     "output_type": "execute_result"
    }
   ],
   "source": [
    "Nashville.head(5)"
   ]
  },
  {
   "cell_type": "code",
   "execution_count": 51,
   "id": "259b19f8",
   "metadata": {},
   "outputs": [],
   "source": [
    "# uint_col=list(Nashville.select_dtypes(['uint8']).columns)\n"
   ]
  },
  {
   "cell_type": "code",
   "execution_count": 52,
   "id": "8809f16c",
   "metadata": {},
   "outputs": [],
   "source": [
    "# for i in uint_col:\n",
    "#     Nashville[i]=Nashville[i].astype('int64')"
   ]
  },
  {
   "cell_type": "code",
   "execution_count": 53,
   "id": "ac768a1b",
   "metadata": {},
   "outputs": [],
   "source": [
    "# Nashville.head(5)"
   ]
  },
  {
   "cell_type": "code",
   "execution_count": 54,
   "id": "108d8578",
   "metadata": {},
   "outputs": [],
   "source": [
    "Nashville['Sale Price Compared To Value']=Nashville['Sale Price Compared To Value'].map(dict(Over=1, Under=0))\n"
   ]
  },
  {
   "cell_type": "code",
   "execution_count": 55,
   "id": "b6b7fd0b",
   "metadata": {},
   "outputs": [],
   "source": [
    "X = Nashville.drop(columns='Sale Price Compared To Value')\n",
    "y = Nashville['Sale Price Compared To Value']"
   ]
  },
  {
   "cell_type": "code",
   "execution_count": 56,
   "id": "81ed7363",
   "metadata": {},
   "outputs": [
    {
     "data": {
      "text/html": [
       "<div>\n",
       "<style scoped>\n",
       "    .dataframe tbody tr th:only-of-type {\n",
       "        vertical-align: middle;\n",
       "    }\n",
       "\n",
       "    .dataframe tbody tr th {\n",
       "        vertical-align: top;\n",
       "    }\n",
       "\n",
       "    .dataframe thead th {\n",
       "        text-align: right;\n",
       "    }\n",
       "</style>\n",
       "<table border=\"1\" class=\"dataframe\">\n",
       "  <thead>\n",
       "    <tr style=\"text-align: right;\">\n",
       "      <th></th>\n",
       "      <th>Land Use</th>\n",
       "      <th>Sold As Vacant</th>\n",
       "      <th>Multiple Parcels Involved in Sale</th>\n",
       "      <th>City</th>\n",
       "      <th>Acreage</th>\n",
       "      <th>Tax District</th>\n",
       "      <th>Neighborhood</th>\n",
       "      <th>Land Value</th>\n",
       "      <th>Building Value</th>\n",
       "      <th>Finished Area</th>\n",
       "      <th>Foundation Type</th>\n",
       "      <th>Exterior Wall</th>\n",
       "      <th>Grade</th>\n",
       "      <th>Bedrooms</th>\n",
       "      <th>Full Bath</th>\n",
       "      <th>Half Bath</th>\n",
       "      <th>Sales days</th>\n",
       "      <th>DiffYearsBuilt</th>\n",
       "    </tr>\n",
       "  </thead>\n",
       "  <tbody>\n",
       "    <tr>\n",
       "      <th>0</th>\n",
       "      <td>0</td>\n",
       "      <td>1</td>\n",
       "      <td>1</td>\n",
       "      <td>2</td>\n",
       "      <td>0.17</td>\n",
       "      <td>4</td>\n",
       "      <td>3127</td>\n",
       "      <td>32000.0</td>\n",
       "      <td>134400.0</td>\n",
       "      <td>1149.00000</td>\n",
       "      <td>9</td>\n",
       "      <td>10</td>\n",
       "      <td>11</td>\n",
       "      <td>2</td>\n",
       "      <td>1</td>\n",
       "      <td>0</td>\n",
       "      <td>3133</td>\n",
       "      <td>80</td>\n",
       "    </tr>\n",
       "    <tr>\n",
       "      <th>1</th>\n",
       "      <td>0</td>\n",
       "      <td>1</td>\n",
       "      <td>1</td>\n",
       "      <td>2</td>\n",
       "      <td>0.11</td>\n",
       "      <td>19</td>\n",
       "      <td>9126</td>\n",
       "      <td>34000.0</td>\n",
       "      <td>157800.0</td>\n",
       "      <td>2090.82495</td>\n",
       "      <td>24</td>\n",
       "      <td>25</td>\n",
       "      <td>11</td>\n",
       "      <td>3</td>\n",
       "      <td>2</td>\n",
       "      <td>1</td>\n",
       "      <td>3126</td>\n",
       "      <td>21</td>\n",
       "    </tr>\n",
       "    <tr>\n",
       "      <th>2</th>\n",
       "      <td>0</td>\n",
       "      <td>1</td>\n",
       "      <td>1</td>\n",
       "      <td>2</td>\n",
       "      <td>0.17</td>\n",
       "      <td>4</td>\n",
       "      <td>3130</td>\n",
       "      <td>25000.0</td>\n",
       "      <td>243700.0</td>\n",
       "      <td>2145.60001</td>\n",
       "      <td>33</td>\n",
       "      <td>25</td>\n",
       "      <td>34</td>\n",
       "      <td>4</td>\n",
       "      <td>2</td>\n",
       "      <td>0</td>\n",
       "      <td>3126</td>\n",
       "      <td>73</td>\n",
       "    </tr>\n",
       "    <tr>\n",
       "      <th>3</th>\n",
       "      <td>0</td>\n",
       "      <td>1</td>\n",
       "      <td>1</td>\n",
       "      <td>2</td>\n",
       "      <td>0.34</td>\n",
       "      <td>4</td>\n",
       "      <td>3130</td>\n",
       "      <td>25000.0</td>\n",
       "      <td>138100.0</td>\n",
       "      <td>1969.00000</td>\n",
       "      <td>41</td>\n",
       "      <td>42</td>\n",
       "      <td>11</td>\n",
       "      <td>2</td>\n",
       "      <td>1</td>\n",
       "      <td>0</td>\n",
       "      <td>3121</td>\n",
       "      <td>111</td>\n",
       "    </tr>\n",
       "    <tr>\n",
       "      <th>4</th>\n",
       "      <td>0</td>\n",
       "      <td>1</td>\n",
       "      <td>1</td>\n",
       "      <td>2</td>\n",
       "      <td>0.17</td>\n",
       "      <td>4</td>\n",
       "      <td>3130</td>\n",
       "      <td>25000.0</td>\n",
       "      <td>86100.0</td>\n",
       "      <td>1037.00000</td>\n",
       "      <td>41</td>\n",
       "      <td>42</td>\n",
       "      <td>11</td>\n",
       "      <td>2</td>\n",
       "      <td>1</td>\n",
       "      <td>0</td>\n",
       "      <td>3140</td>\n",
       "      <td>76</td>\n",
       "    </tr>\n",
       "  </tbody>\n",
       "</table>\n",
       "</div>"
      ],
      "text/plain": [
       "   Land Use  Sold As Vacant  Multiple Parcels Involved in Sale  City  Acreage  \\\n",
       "0         0               1                                  1     2     0.17   \n",
       "1         0               1                                  1     2     0.11   \n",
       "2         0               1                                  1     2     0.17   \n",
       "3         0               1                                  1     2     0.34   \n",
       "4         0               1                                  1     2     0.17   \n",
       "\n",
       "   Tax District  Neighborhood  Land Value  Building Value  Finished Area  \\\n",
       "0             4          3127     32000.0        134400.0     1149.00000   \n",
       "1            19          9126     34000.0        157800.0     2090.82495   \n",
       "2             4          3130     25000.0        243700.0     2145.60001   \n",
       "3             4          3130     25000.0        138100.0     1969.00000   \n",
       "4             4          3130     25000.0         86100.0     1037.00000   \n",
       "\n",
       "   Foundation Type  Exterior Wall  Grade  Bedrooms  Full Bath  Half Bath  \\\n",
       "0                9             10     11         2          1          0   \n",
       "1               24             25     11         3          2          1   \n",
       "2               33             25     34         4          2          0   \n",
       "3               41             42     11         2          1          0   \n",
       "4               41             42     11         2          1          0   \n",
       "\n",
       "   Sales days  DiffYearsBuilt  \n",
       "0        3133              80  \n",
       "1        3126              21  \n",
       "2        3126              73  \n",
       "3        3121             111  \n",
       "4        3140              76  "
      ]
     },
     "execution_count": 56,
     "metadata": {},
     "output_type": "execute_result"
    }
   ],
   "source": [
    "X.head(5)"
   ]
  },
  {
   "cell_type": "markdown",
   "id": "ecb804c3",
   "metadata": {},
   "source": [
    "## Logistic Regression with Backward Elimination"
   ]
  },
  {
   "cell_type": "code",
   "execution_count": 57,
   "id": "cd9781ee",
   "metadata": {},
   "outputs": [],
   "source": [
    "import statsmodels.api as sm\n",
    "from scipy import stats\n",
    "from sklearn.linear_model import LogisticRegression\n",
    "from sklearn.metrics import accuracy_score, classification_report, confusion_matrix,precision_score"
   ]
  },
  {
   "cell_type": "code",
   "execution_count": 58,
   "id": "c569e708",
   "metadata": {},
   "outputs": [],
   "source": [
    "xelimination=X.iloc[:,:18]\n"
   ]
  },
  {
   "cell_type": "code",
   "execution_count": 59,
   "id": "32c42820",
   "metadata": {},
   "outputs": [
    {
     "data": {
      "text/html": [
       "<div>\n",
       "<style scoped>\n",
       "    .dataframe tbody tr th:only-of-type {\n",
       "        vertical-align: middle;\n",
       "    }\n",
       "\n",
       "    .dataframe tbody tr th {\n",
       "        vertical-align: top;\n",
       "    }\n",
       "\n",
       "    .dataframe thead th {\n",
       "        text-align: right;\n",
       "    }\n",
       "</style>\n",
       "<table border=\"1\" class=\"dataframe\">\n",
       "  <thead>\n",
       "    <tr style=\"text-align: right;\">\n",
       "      <th></th>\n",
       "      <th>Land Use</th>\n",
       "      <th>Sold As Vacant</th>\n",
       "      <th>Multiple Parcels Involved in Sale</th>\n",
       "      <th>City</th>\n",
       "      <th>Acreage</th>\n",
       "      <th>Tax District</th>\n",
       "      <th>Neighborhood</th>\n",
       "      <th>Land Value</th>\n",
       "      <th>Building Value</th>\n",
       "      <th>Finished Area</th>\n",
       "      <th>Foundation Type</th>\n",
       "      <th>Exterior Wall</th>\n",
       "      <th>Grade</th>\n",
       "      <th>Bedrooms</th>\n",
       "      <th>Full Bath</th>\n",
       "      <th>Half Bath</th>\n",
       "      <th>Sales days</th>\n",
       "      <th>DiffYearsBuilt</th>\n",
       "    </tr>\n",
       "  </thead>\n",
       "  <tbody>\n",
       "    <tr>\n",
       "      <th>0</th>\n",
       "      <td>0</td>\n",
       "      <td>1</td>\n",
       "      <td>1</td>\n",
       "      <td>2</td>\n",
       "      <td>0.17</td>\n",
       "      <td>4</td>\n",
       "      <td>3127</td>\n",
       "      <td>32000.0</td>\n",
       "      <td>134400.0</td>\n",
       "      <td>1149.00000</td>\n",
       "      <td>9</td>\n",
       "      <td>10</td>\n",
       "      <td>11</td>\n",
       "      <td>2</td>\n",
       "      <td>1</td>\n",
       "      <td>0</td>\n",
       "      <td>3133</td>\n",
       "      <td>80</td>\n",
       "    </tr>\n",
       "    <tr>\n",
       "      <th>1</th>\n",
       "      <td>0</td>\n",
       "      <td>1</td>\n",
       "      <td>1</td>\n",
       "      <td>2</td>\n",
       "      <td>0.11</td>\n",
       "      <td>19</td>\n",
       "      <td>9126</td>\n",
       "      <td>34000.0</td>\n",
       "      <td>157800.0</td>\n",
       "      <td>2090.82495</td>\n",
       "      <td>24</td>\n",
       "      <td>25</td>\n",
       "      <td>11</td>\n",
       "      <td>3</td>\n",
       "      <td>2</td>\n",
       "      <td>1</td>\n",
       "      <td>3126</td>\n",
       "      <td>21</td>\n",
       "    </tr>\n",
       "    <tr>\n",
       "      <th>2</th>\n",
       "      <td>0</td>\n",
       "      <td>1</td>\n",
       "      <td>1</td>\n",
       "      <td>2</td>\n",
       "      <td>0.17</td>\n",
       "      <td>4</td>\n",
       "      <td>3130</td>\n",
       "      <td>25000.0</td>\n",
       "      <td>243700.0</td>\n",
       "      <td>2145.60001</td>\n",
       "      <td>33</td>\n",
       "      <td>25</td>\n",
       "      <td>34</td>\n",
       "      <td>4</td>\n",
       "      <td>2</td>\n",
       "      <td>0</td>\n",
       "      <td>3126</td>\n",
       "      <td>73</td>\n",
       "    </tr>\n",
       "    <tr>\n",
       "      <th>3</th>\n",
       "      <td>0</td>\n",
       "      <td>1</td>\n",
       "      <td>1</td>\n",
       "      <td>2</td>\n",
       "      <td>0.34</td>\n",
       "      <td>4</td>\n",
       "      <td>3130</td>\n",
       "      <td>25000.0</td>\n",
       "      <td>138100.0</td>\n",
       "      <td>1969.00000</td>\n",
       "      <td>41</td>\n",
       "      <td>42</td>\n",
       "      <td>11</td>\n",
       "      <td>2</td>\n",
       "      <td>1</td>\n",
       "      <td>0</td>\n",
       "      <td>3121</td>\n",
       "      <td>111</td>\n",
       "    </tr>\n",
       "    <tr>\n",
       "      <th>4</th>\n",
       "      <td>0</td>\n",
       "      <td>1</td>\n",
       "      <td>1</td>\n",
       "      <td>2</td>\n",
       "      <td>0.17</td>\n",
       "      <td>4</td>\n",
       "      <td>3130</td>\n",
       "      <td>25000.0</td>\n",
       "      <td>86100.0</td>\n",
       "      <td>1037.00000</td>\n",
       "      <td>41</td>\n",
       "      <td>42</td>\n",
       "      <td>11</td>\n",
       "      <td>2</td>\n",
       "      <td>1</td>\n",
       "      <td>0</td>\n",
       "      <td>3140</td>\n",
       "      <td>76</td>\n",
       "    </tr>\n",
       "  </tbody>\n",
       "</table>\n",
       "</div>"
      ],
      "text/plain": [
       "   Land Use  Sold As Vacant  Multiple Parcels Involved in Sale  City  Acreage  \\\n",
       "0         0               1                                  1     2     0.17   \n",
       "1         0               1                                  1     2     0.11   \n",
       "2         0               1                                  1     2     0.17   \n",
       "3         0               1                                  1     2     0.34   \n",
       "4         0               1                                  1     2     0.17   \n",
       "\n",
       "   Tax District  Neighborhood  Land Value  Building Value  Finished Area  \\\n",
       "0             4          3127     32000.0        134400.0     1149.00000   \n",
       "1            19          9126     34000.0        157800.0     2090.82495   \n",
       "2             4          3130     25000.0        243700.0     2145.60001   \n",
       "3             4          3130     25000.0        138100.0     1969.00000   \n",
       "4             4          3130     25000.0         86100.0     1037.00000   \n",
       "\n",
       "   Foundation Type  Exterior Wall  Grade  Bedrooms  Full Bath  Half Bath  \\\n",
       "0                9             10     11         2          1          0   \n",
       "1               24             25     11         3          2          1   \n",
       "2               33             25     34         4          2          0   \n",
       "3               41             42     11         2          1          0   \n",
       "4               41             42     11         2          1          0   \n",
       "\n",
       "   Sales days  DiffYearsBuilt  \n",
       "0        3133              80  \n",
       "1        3126              21  \n",
       "2        3126              73  \n",
       "3        3121             111  \n",
       "4        3140              76  "
      ]
     },
     "execution_count": 59,
     "metadata": {},
     "output_type": "execute_result"
    }
   ],
   "source": [
    "xelimination.head(5)"
   ]
  },
  {
   "cell_type": "code",
   "execution_count": 60,
   "id": "6ede218e",
   "metadata": {},
   "outputs": [
    {
     "name": "stdout",
     "output_type": "stream",
     "text": [
      "Optimization terminated successfully.\n",
      "         Current function value: 0.495209\n",
      "         Iterations 6\n",
      "                                Logit Regression Results                                \n",
      "========================================================================================\n",
      "Dep. Variable:     Sale Price Compared To Value   No. Observations:                22651\n",
      "Model:                                    Logit   Df Residuals:                    22632\n",
      "Method:                                     MLE   Df Model:                           18\n",
      "Date:                          Tue, 10 Aug 2021   Pseudo R-squ.:                  0.1149\n",
      "Time:                                  02:33:10   Log-Likelihood:                -11217.\n",
      "converged:                                 True   LL-Null:                       -12673.\n",
      "Covariance Type:                      nonrobust   LLR p-value:                     0.000\n",
      "=====================================================================================================\n",
      "                                        coef    std err          z      P>|z|      [0.025      0.975]\n",
      "-----------------------------------------------------------------------------------------------------\n",
      "const                                 6.5920      0.151     43.629      0.000       6.296       6.888\n",
      "Land Use                             -0.0010      0.000     -3.789      0.000      -0.002      -0.000\n",
      "Sold As Vacant                       -0.0109      0.001    -10.686      0.000      -0.013      -0.009\n",
      "Multiple Parcels Involved in Sale     0.0018      0.000      3.790      0.000       0.001       0.003\n",
      "City                               4.853e-05   9.72e-05      0.499      0.618      -0.000       0.000\n",
      "Acreage                              -0.1256      0.029     -4.318      0.000      -0.183      -0.069\n",
      "Tax District                         -0.0008      0.000     -4.115      0.000      -0.001      -0.000\n",
      "Neighborhood                       5.478e-06   1.07e-05      0.512      0.609   -1.55e-05    2.64e-05\n",
      "Land Value                         4.921e-06   4.02e-07     12.238      0.000    4.13e-06    5.71e-06\n",
      "Building Value                    -2.741e-06   3.94e-07     -6.964      0.000   -3.51e-06   -1.97e-06\n",
      "Finished Area                      8.496e-05   5.13e-05      1.656      0.098   -1.56e-05       0.000\n",
      "Foundation Type                       0.0010      0.001      1.593      0.111      -0.000       0.002\n",
      "Exterior Wall                         0.0002      0.000      0.846      0.398      -0.000       0.001\n",
      "Grade                                -0.0018      0.000     -8.279      0.000      -0.002      -0.001\n",
      "Bedrooms                              0.0121      0.027      0.448      0.654      -0.041       0.065\n",
      "Full Bath                            -0.1299      0.030     -4.386      0.000      -0.188      -0.072\n",
      "Half Bath                            -0.1159      0.039     -2.980      0.003      -0.192      -0.040\n",
      "Sales days                           -0.0020   4.51e-05    -45.008      0.000      -0.002      -0.002\n",
      "DiffYearsBuilt                       -0.0025      0.001     -3.503      0.000      -0.004      -0.001\n",
      "=====================================================================================================\n"
     ]
    }
   ],
   "source": [
    "#Create the constant\n",
    "Xlog2=sm.add_constant(xelimination)\n",
    "logr_model = sm.Logit(y, Xlog2)# Using Logit instead of OLS since it is logistic regression\n",
    "logr_fit = logr_model.fit()\n",
    "print(logr_fit.summary())"
   ]
  },
  {
   "cell_type": "code",
   "execution_count": 61,
   "id": "1f3d6caa",
   "metadata": {},
   "outputs": [],
   "source": [
    "xelimination.drop('Bedrooms', axis=1, inplace=True)"
   ]
  },
  {
   "cell_type": "code",
   "execution_count": 62,
   "id": "9c4365ca",
   "metadata": {},
   "outputs": [
    {
     "name": "stdout",
     "output_type": "stream",
     "text": [
      "Optimization terminated successfully.\n",
      "         Current function value: 0.495213\n",
      "         Iterations 6\n",
      "                                Logit Regression Results                                \n",
      "========================================================================================\n",
      "Dep. Variable:     Sale Price Compared To Value   No. Observations:                22651\n",
      "Model:                                    Logit   Df Residuals:                    22633\n",
      "Method:                                     MLE   Df Model:                           17\n",
      "Date:                          Tue, 10 Aug 2021   Pseudo R-squ.:                  0.1148\n",
      "Time:                                  02:33:11   Log-Likelihood:                -11217.\n",
      "converged:                                 True   LL-Null:                       -12673.\n",
      "Covariance Type:                      nonrobust   LLR p-value:                     0.000\n",
      "=====================================================================================================\n",
      "                                        coef    std err          z      P>|z|      [0.025      0.975]\n",
      "-----------------------------------------------------------------------------------------------------\n",
      "const                                 6.6122      0.144     45.845      0.000       6.330       6.895\n",
      "Land Use                             -0.0010      0.000     -3.761      0.000      -0.002      -0.000\n",
      "Sold As Vacant                       -0.0109      0.001    -10.689      0.000      -0.013      -0.009\n",
      "Multiple Parcels Involved in Sale     0.0018      0.000      3.797      0.000       0.001       0.003\n",
      "City                               4.949e-05   9.72e-05      0.509      0.611      -0.000       0.000\n",
      "Acreage                              -0.1258      0.029     -4.326      0.000      -0.183      -0.069\n",
      "Tax District                         -0.0008      0.000     -4.109      0.000      -0.001      -0.000\n",
      "Neighborhood                       5.393e-06   1.07e-05      0.504      0.614   -1.56e-05    2.64e-05\n",
      "Land Value                         4.912e-06   4.02e-07     12.230      0.000    4.13e-06     5.7e-06\n",
      "Building Value                    -2.759e-06   3.92e-07     -7.046      0.000   -3.53e-06   -1.99e-06\n",
      "Finished Area                      9.103e-05   4.95e-05      1.839      0.066   -5.98e-06       0.000\n",
      "Foundation Type                       0.0010      0.001      1.586      0.113      -0.000       0.002\n",
      "Exterior Wall                         0.0002      0.000      0.830      0.407      -0.000       0.001\n",
      "Grade                                -0.0018      0.000     -8.289      0.000      -0.002      -0.001\n",
      "Full Bath                            -0.1254      0.028     -4.502      0.000      -0.180      -0.071\n",
      "Half Bath                            -0.1135      0.039     -2.946      0.003      -0.189      -0.038\n",
      "Sales days                           -0.0020   4.51e-05    -45.007      0.000      -0.002      -0.002\n",
      "DiffYearsBuilt                       -0.0025      0.001     -3.492      0.000      -0.004      -0.001\n",
      "=====================================================================================================\n"
     ]
    }
   ],
   "source": [
    "Xlog2=sm.add_constant(xelimination)\n",
    "logr_model = sm.Logit(y, Xlog2)# Using Logit instead of OLS since it is logistic regression\n",
    "logr_fit = logr_model.fit()\n",
    "print(logr_fit.summary())"
   ]
  },
  {
   "cell_type": "code",
   "execution_count": 63,
   "id": "ecd1746a",
   "metadata": {},
   "outputs": [],
   "source": [
    "xelimination.drop('City', axis=1, inplace=True)"
   ]
  },
  {
   "cell_type": "code",
   "execution_count": 64,
   "id": "ab5fb2d8",
   "metadata": {},
   "outputs": [
    {
     "name": "stdout",
     "output_type": "stream",
     "text": [
      "Optimization terminated successfully.\n",
      "         Current function value: 0.495219\n",
      "         Iterations 6\n",
      "                                Logit Regression Results                                \n",
      "========================================================================================\n",
      "Dep. Variable:     Sale Price Compared To Value   No. Observations:                22651\n",
      "Model:                                    Logit   Df Residuals:                    22634\n",
      "Method:                                     MLE   Df Model:                           16\n",
      "Date:                          Tue, 10 Aug 2021   Pseudo R-squ.:                  0.1148\n",
      "Time:                                  02:33:13   Log-Likelihood:                -11217.\n",
      "converged:                                 True   LL-Null:                       -12673.\n",
      "Covariance Type:                      nonrobust   LLR p-value:                     0.000\n",
      "=====================================================================================================\n",
      "                                        coef    std err          z      P>|z|      [0.025      0.975]\n",
      "-----------------------------------------------------------------------------------------------------\n",
      "const                                 6.6166      0.144     45.949      0.000       6.334       6.899\n",
      "Land Use                             -0.0010      0.000     -3.766      0.000      -0.002      -0.000\n",
      "Sold As Vacant                       -0.0109      0.001    -10.687      0.000      -0.013      -0.009\n",
      "Multiple Parcels Involved in Sale     0.0018      0.000      3.803      0.000       0.001       0.003\n",
      "Acreage                              -0.1246      0.029     -4.301      0.000      -0.181      -0.068\n",
      "Tax District                         -0.0007      0.000     -4.600      0.000      -0.001      -0.000\n",
      "Neighborhood                       5.132e-06   1.07e-05      0.480      0.631   -1.58e-05    2.61e-05\n",
      "Land Value                         4.881e-06   3.97e-07     12.299      0.000     4.1e-06    5.66e-06\n",
      "Building Value                     -2.77e-06   3.91e-07     -7.082      0.000   -3.54e-06      -2e-06\n",
      "Finished Area                      9.215e-05   4.94e-05      1.864      0.062   -4.75e-06       0.000\n",
      "Foundation Type                       0.0010      0.001      1.583      0.114      -0.000       0.002\n",
      "Exterior Wall                         0.0002      0.000      0.833      0.405      -0.000       0.001\n",
      "Grade                                -0.0018      0.000     -8.304      0.000      -0.002      -0.001\n",
      "Full Bath                            -0.1258      0.028     -4.520      0.000      -0.180      -0.071\n",
      "Half Bath                            -0.1139      0.039     -2.959      0.003      -0.189      -0.038\n",
      "Sales days                           -0.0020   4.51e-05    -45.005      0.000      -0.002      -0.002\n",
      "DiffYearsBuilt                       -0.0025      0.001     -3.515      0.000      -0.004      -0.001\n",
      "=====================================================================================================\n"
     ]
    }
   ],
   "source": [
    "Xlog2=sm.add_constant(xelimination)\n",
    "logr_model = sm.Logit(y, Xlog2)# Using Logit instead of OLS since it is logistic regression\n",
    "logr_fit = logr_model.fit()\n",
    "print(logr_fit.summary())"
   ]
  },
  {
   "cell_type": "code",
   "execution_count": 65,
   "id": "f4aaff60",
   "metadata": {},
   "outputs": [],
   "source": [
    "xelimination.drop('Neighborhood', axis=1, inplace=True)"
   ]
  },
  {
   "cell_type": "code",
   "execution_count": 66,
   "id": "bb26cf6d",
   "metadata": {},
   "outputs": [
    {
     "name": "stdout",
     "output_type": "stream",
     "text": [
      "Optimization terminated successfully.\n",
      "         Current function value: 0.495224\n",
      "         Iterations 6\n",
      "                                Logit Regression Results                                \n",
      "========================================================================================\n",
      "Dep. Variable:     Sale Price Compared To Value   No. Observations:                22651\n",
      "Model:                                    Logit   Df Residuals:                    22635\n",
      "Method:                                     MLE   Df Model:                           15\n",
      "Date:                          Tue, 10 Aug 2021   Pseudo R-squ.:                  0.1148\n",
      "Time:                                  02:33:14   Log-Likelihood:                -11217.\n",
      "converged:                                 True   LL-Null:                       -12673.\n",
      "Covariance Type:                      nonrobust   LLR p-value:                     0.000\n",
      "=====================================================================================================\n",
      "                                        coef    std err          z      P>|z|      [0.025      0.975]\n",
      "-----------------------------------------------------------------------------------------------------\n",
      "const                                 6.6353      0.139     47.840      0.000       6.363       6.907\n",
      "Land Use                             -0.0010      0.000     -3.816      0.000      -0.002      -0.000\n",
      "Sold As Vacant                       -0.0110      0.001    -10.702      0.000      -0.013      -0.009\n",
      "Multiple Parcels Involved in Sale     0.0018      0.000      3.797      0.000       0.001       0.003\n",
      "Acreage                              -0.1219      0.028     -4.289      0.000      -0.178      -0.066\n",
      "Tax District                         -0.0007      0.000     -5.485      0.000      -0.001      -0.000\n",
      "Land Value                         4.881e-06   3.97e-07     12.298      0.000     4.1e-06    5.66e-06\n",
      "Building Value                    -2.797e-06   3.87e-07     -7.224      0.000   -3.56e-06   -2.04e-06\n",
      "Finished Area                      9.421e-05   4.93e-05      1.913      0.056   -2.34e-06       0.000\n",
      "Foundation Type                       0.0010      0.001      1.561      0.118      -0.000       0.002\n",
      "Exterior Wall                         0.0002      0.000      0.825      0.409      -0.000       0.001\n",
      "Grade                                -0.0018      0.000     -8.310      0.000      -0.002      -0.001\n",
      "Full Bath                            -0.1251      0.028     -4.499      0.000      -0.180      -0.071\n",
      "Half Bath                            -0.1138      0.038     -2.955      0.003      -0.189      -0.038\n",
      "Sales days                           -0.0020   4.51e-05    -45.004      0.000      -0.002      -0.002\n",
      "DiffYearsBuilt                       -0.0025      0.001     -3.548      0.000      -0.004      -0.001\n",
      "=====================================================================================================\n"
     ]
    }
   ],
   "source": [
    "Xlog2=sm.add_constant(xelimination)\n",
    "logr_model = sm.Logit(y, Xlog2)# Using Logit instead of OLS since it is logistic regression\n",
    "logr_fit = logr_model.fit()\n",
    "print(logr_fit.summary())"
   ]
  },
  {
   "cell_type": "code",
   "execution_count": 67,
   "id": "321463c5",
   "metadata": {},
   "outputs": [],
   "source": [
    "xelimination.drop('Exterior Wall', axis=1, inplace=True)"
   ]
  },
  {
   "cell_type": "code",
   "execution_count": 68,
   "id": "c3379a96",
   "metadata": {},
   "outputs": [
    {
     "name": "stdout",
     "output_type": "stream",
     "text": [
      "Optimization terminated successfully.\n",
      "         Current function value: 0.495240\n",
      "         Iterations 6\n",
      "                                Logit Regression Results                                \n",
      "========================================================================================\n",
      "Dep. Variable:     Sale Price Compared To Value   No. Observations:                22651\n",
      "Model:                                    Logit   Df Residuals:                    22636\n",
      "Method:                                     MLE   Df Model:                           14\n",
      "Date:                          Tue, 10 Aug 2021   Pseudo R-squ.:                  0.1148\n",
      "Time:                                  02:33:15   Log-Likelihood:                -11218.\n",
      "converged:                                 True   LL-Null:                       -12673.\n",
      "Covariance Type:                      nonrobust   LLR p-value:                     0.000\n",
      "=====================================================================================================\n",
      "                                        coef    std err          z      P>|z|      [0.025      0.975]\n",
      "-----------------------------------------------------------------------------------------------------\n",
      "const                                 6.6374      0.139     47.851      0.000       6.366       6.909\n",
      "Land Use                             -0.0010      0.000     -3.810      0.000      -0.002      -0.000\n",
      "Sold As Vacant                       -0.0110      0.001    -10.697      0.000      -0.013      -0.009\n",
      "Multiple Parcels Involved in Sale     0.0018      0.000      3.803      0.000       0.001       0.003\n",
      "Acreage                              -0.1212      0.028     -4.268      0.000      -0.177      -0.066\n",
      "Tax District                         -0.0007      0.000     -5.485      0.000      -0.001      -0.000\n",
      "Land Value                         4.878e-06   3.97e-07     12.291      0.000     4.1e-06    5.66e-06\n",
      "Building Value                    -2.782e-06   3.87e-07     -7.195      0.000   -3.54e-06   -2.02e-06\n",
      "Finished Area                      9.207e-05   4.92e-05      1.872      0.061   -4.35e-06       0.000\n",
      "Foundation Type                       0.0010      0.001      1.562      0.118      -0.000       0.002\n",
      "Grade                                -0.0018      0.000     -8.271      0.000      -0.002      -0.001\n",
      "Full Bath                            -0.1243      0.028     -4.472      0.000      -0.179      -0.070\n",
      "Half Bath                            -0.1134      0.039     -2.944      0.003      -0.189      -0.038\n",
      "Sales days                           -0.0020   4.51e-05    -45.003      0.000      -0.002      -0.002\n",
      "DiffYearsBuilt                       -0.0025      0.001     -3.509      0.000      -0.004      -0.001\n",
      "=====================================================================================================\n"
     ]
    }
   ],
   "source": [
    "Xlog2=sm.add_constant(xelimination)\n",
    "logr_model = sm.Logit(y, Xlog2)# Using Logit instead of OLS since it is logistic regression\n",
    "logr_fit = logr_model.fit()\n",
    "print(logr_fit.summary())"
   ]
  },
  {
   "cell_type": "code",
   "execution_count": 69,
   "id": "75926d2c",
   "metadata": {},
   "outputs": [],
   "source": [
    "xelimination.drop('Foundation Type', axis=1, inplace=True)"
   ]
  },
  {
   "cell_type": "code",
   "execution_count": 70,
   "id": "b22a2b9f",
   "metadata": {},
   "outputs": [
    {
     "name": "stdout",
     "output_type": "stream",
     "text": [
      "Optimization terminated successfully.\n",
      "         Current function value: 0.495294\n",
      "         Iterations 6\n",
      "                                Logit Regression Results                                \n",
      "========================================================================================\n",
      "Dep. Variable:     Sale Price Compared To Value   No. Observations:                22651\n",
      "Model:                                    Logit   Df Residuals:                    22637\n",
      "Method:                                     MLE   Df Model:                           13\n",
      "Date:                          Tue, 10 Aug 2021   Pseudo R-squ.:                  0.1147\n",
      "Time:                                  02:33:16   Log-Likelihood:                -11219.\n",
      "converged:                                 True   LL-Null:                       -12673.\n",
      "Covariance Type:                      nonrobust   LLR p-value:                     0.000\n",
      "=====================================================================================================\n",
      "                                        coef    std err          z      P>|z|      [0.025      0.975]\n",
      "-----------------------------------------------------------------------------------------------------\n",
      "const                                 6.6837      0.136     49.269      0.000       6.418       6.950\n",
      "Land Use                             -0.0010      0.000     -3.797      0.000      -0.002      -0.000\n",
      "Sold As Vacant                       -0.0109      0.001    -10.690      0.000      -0.013      -0.009\n",
      "Multiple Parcels Involved in Sale     0.0018      0.000      3.809      0.000       0.001       0.003\n",
      "Acreage                              -0.1216      0.028     -4.281      0.000      -0.177      -0.066\n",
      "Tax District                         -0.0007      0.000     -5.503      0.000      -0.001      -0.000\n",
      "Land Value                         4.857e-06   3.97e-07     12.249      0.000    4.08e-06    5.63e-06\n",
      "Building Value                    -2.781e-06   3.87e-07     -7.194      0.000   -3.54e-06   -2.02e-06\n",
      "Finished Area                      8.854e-05   4.92e-05      1.801      0.072   -7.83e-06       0.000\n",
      "Grade                                -0.0017      0.000     -8.068      0.000      -0.002      -0.001\n",
      "Full Bath                            -0.1261      0.028     -4.538      0.000      -0.181      -0.072\n",
      "Half Bath                            -0.1145      0.039     -2.975      0.003      -0.190      -0.039\n",
      "Sales days                           -0.0020   4.51e-05    -44.997      0.000      -0.002      -0.002\n",
      "DiffYearsBuilt                       -0.0025      0.001     -3.620      0.000      -0.004      -0.001\n",
      "=====================================================================================================\n"
     ]
    }
   ],
   "source": [
    "Xlog2=sm.add_constant(xelimination)\n",
    "logr_model = sm.Logit(y, Xlog2)# Using Logit instead of OLS since it is logistic regression\n",
    "logr_fit = logr_model.fit()\n",
    "print(logr_fit.summary())"
   ]
  },
  {
   "cell_type": "code",
   "execution_count": 71,
   "id": "f5d8be28",
   "metadata": {},
   "outputs": [],
   "source": [
    "xelimination.drop('Finished Area', axis=1, inplace=True)"
   ]
  },
  {
   "cell_type": "code",
   "execution_count": 72,
   "id": "689b97d6",
   "metadata": {},
   "outputs": [
    {
     "name": "stdout",
     "output_type": "stream",
     "text": [
      "Optimization terminated successfully.\n",
      "         Current function value: 0.495366\n",
      "         Iterations 6\n",
      "                                Logit Regression Results                                \n",
      "========================================================================================\n",
      "Dep. Variable:     Sale Price Compared To Value   No. Observations:                22651\n",
      "Model:                                    Logit   Df Residuals:                    22638\n",
      "Method:                                     MLE   Df Model:                           12\n",
      "Date:                          Tue, 10 Aug 2021   Pseudo R-squ.:                  0.1146\n",
      "Time:                                  02:33:17   Log-Likelihood:                -11221.\n",
      "converged:                                 True   LL-Null:                       -12673.\n",
      "Covariance Type:                      nonrobust   LLR p-value:                     0.000\n",
      "=====================================================================================================\n",
      "                                        coef    std err          z      P>|z|      [0.025      0.975]\n",
      "-----------------------------------------------------------------------------------------------------\n",
      "const                                 6.7376      0.132     50.872      0.000       6.478       6.997\n",
      "Land Use                             -0.0010      0.000     -3.624      0.000      -0.001      -0.000\n",
      "Sold As Vacant                       -0.0110      0.001    -10.716      0.000      -0.013      -0.009\n",
      "Multiple Parcels Involved in Sale     0.0018      0.000      3.810      0.000       0.001       0.003\n",
      "Acreage                              -0.1127      0.028     -4.037      0.000      -0.167      -0.058\n",
      "Tax District                         -0.0007      0.000     -5.326      0.000      -0.001      -0.000\n",
      "Land Value                         4.959e-06   3.92e-07     12.646      0.000    4.19e-06    5.73e-06\n",
      "Building Value                    -2.405e-06   3.25e-07     -7.403      0.000   -3.04e-06   -1.77e-06\n",
      "Grade                                -0.0018      0.000     -8.212      0.000      -0.002      -0.001\n",
      "Full Bath                            -0.1074      0.026     -4.169      0.000      -0.158      -0.057\n",
      "Half Bath                            -0.1038      0.038     -2.729      0.006      -0.178      -0.029\n",
      "Sales days                           -0.0020   4.51e-05    -45.001      0.000      -0.002      -0.002\n",
      "DiffYearsBuilt                       -0.0026      0.001     -3.629      0.000      -0.004      -0.001\n",
      "=====================================================================================================\n",
      "                                  Results: Logit\n",
      "==================================================================================\n",
      "Model:                 Logit                         Pseudo R-squared:  0.115     \n",
      "Dependent Variable:    Sale Price Compared To Value  AIC:               22467.0714\n",
      "Date:                  2021-08-10 02:33              BIC:               22571.4349\n",
      "No. Observations:      22651                         Log-Likelihood:    -11221.   \n",
      "Df Model:              12                            LL-Null:           -12673.   \n",
      "Df Residuals:          22638                         LLR p-value:       0.0000    \n",
      "Converged:             1.0000                        Scale:             1.0000    \n",
      "No. Iterations:        6.0000                                                     \n",
      "----------------------------------------------------------------------------------\n",
      "                                   Coef.  Std.Err.    z     P>|z|   [0.025  0.975]\n",
      "----------------------------------------------------------------------------------\n",
      "const                              6.7376   0.1324  50.8720 0.0000  6.4780  6.9972\n",
      "Land Use                          -0.0010   0.0003  -3.6238 0.0003 -0.0015 -0.0004\n",
      "Sold As Vacant                    -0.0110   0.0010 -10.7160 0.0000 -0.0130 -0.0090\n",
      "Multiple Parcels Involved in Sale  0.0018   0.0005   3.8100 0.0001  0.0009  0.0028\n",
      "Acreage                           -0.1127   0.0279  -4.0368 0.0001 -0.1675 -0.0580\n",
      "Tax District                      -0.0007   0.0001  -5.3259 0.0000 -0.0009 -0.0004\n",
      "Land Value                         0.0000   0.0000  12.6461 0.0000  0.0000  0.0000\n",
      "Building Value                    -0.0000   0.0000  -7.4030 0.0000 -0.0000 -0.0000\n",
      "Grade                             -0.0018   0.0002  -8.2117 0.0000 -0.0022 -0.0014\n",
      "Full Bath                         -0.1074   0.0258  -4.1692 0.0000 -0.1579 -0.0569\n",
      "Half Bath                         -0.1038   0.0380  -2.7292 0.0063 -0.1783 -0.0292\n",
      "Sales days                        -0.0020   0.0000 -45.0011 0.0000 -0.0021 -0.0019\n",
      "DiffYearsBuilt                    -0.0026   0.0007  -3.6285 0.0003 -0.0039 -0.0012\n",
      "==================================================================================\n",
      "\n"
     ]
    }
   ],
   "source": [
    "Xlog2=sm.add_constant(xelimination)\n",
    "logr_model = sm.Logit(y, Xlog2)# Using Logit instead of OLS since it is logistic regression\n",
    "logr_fit = logr_model.fit()\n",
    "print(logr_fit.summary())\n",
    "stats2=logr_fit.summary2()\n",
    "print(stats2)\n"
   ]
  },
  {
   "cell_type": "code",
   "execution_count": 73,
   "id": "b51d6aae",
   "metadata": {},
   "outputs": [],
   "source": [
    "from sklearn.model_selection import train_test_split\n",
    "X_train,X_test,y_train,y_test=train_test_split(X,y,test_size=0.2, random_state = 111)"
   ]
  },
  {
   "cell_type": "code",
   "execution_count": 74,
   "id": "c6463e17",
   "metadata": {},
   "outputs": [],
   "source": [
    "# #Feature Scaling\n",
    "# from sklearn.preprocessing import StandardScaler\n",
    "# sc_X = StandardScaler()\n",
    "# X_train = sc_X.fit_transform(X_train)\n",
    "# X_test = sc_X.transform(X_test)"
   ]
  },
  {
   "cell_type": "code",
   "execution_count": 75,
   "id": "1194108a",
   "metadata": {},
   "outputs": [],
   "source": [
    "X_train_log=X_train[['Land Use','Sold As Vacant','Multiple Parcels Involved in Sale','Acreage','Tax District','Land Value','Building Value','Grade','Full Bath','Half Bath','Sales days','DiffYearsBuilt']]\n"
   ]
  },
  {
   "cell_type": "code",
   "execution_count": 76,
   "id": "7d2e526e",
   "metadata": {},
   "outputs": [
    {
     "data": {
      "text/html": [
       "<div>\n",
       "<style scoped>\n",
       "    .dataframe tbody tr th:only-of-type {\n",
       "        vertical-align: middle;\n",
       "    }\n",
       "\n",
       "    .dataframe tbody tr th {\n",
       "        vertical-align: top;\n",
       "    }\n",
       "\n",
       "    .dataframe thead th {\n",
       "        text-align: right;\n",
       "    }\n",
       "</style>\n",
       "<table border=\"1\" class=\"dataframe\">\n",
       "  <thead>\n",
       "    <tr style=\"text-align: right;\">\n",
       "      <th></th>\n",
       "      <th>Land Use</th>\n",
       "      <th>Sold As Vacant</th>\n",
       "      <th>Multiple Parcels Involved in Sale</th>\n",
       "      <th>Acreage</th>\n",
       "      <th>Tax District</th>\n",
       "      <th>Land Value</th>\n",
       "      <th>Building Value</th>\n",
       "      <th>Grade</th>\n",
       "      <th>Full Bath</th>\n",
       "      <th>Half Bath</th>\n",
       "      <th>Sales days</th>\n",
       "      <th>DiffYearsBuilt</th>\n",
       "    </tr>\n",
       "  </thead>\n",
       "  <tbody>\n",
       "    <tr>\n",
       "      <th>7788</th>\n",
       "      <td>0</td>\n",
       "      <td>1</td>\n",
       "      <td>1</td>\n",
       "      <td>0.29</td>\n",
       "      <td>4</td>\n",
       "      <td>29900.0</td>\n",
       "      <td>96800.0</td>\n",
       "      <td>11</td>\n",
       "      <td>1</td>\n",
       "      <td>0</td>\n",
       "      <td>2588</td>\n",
       "      <td>73</td>\n",
       "    </tr>\n",
       "    <tr>\n",
       "      <th>11518</th>\n",
       "      <td>90</td>\n",
       "      <td>1</td>\n",
       "      <td>1</td>\n",
       "      <td>0.25</td>\n",
       "      <td>237</td>\n",
       "      <td>18000.0</td>\n",
       "      <td>67300.0</td>\n",
       "      <td>11</td>\n",
       "      <td>2</td>\n",
       "      <td>0</td>\n",
       "      <td>2330</td>\n",
       "      <td>42</td>\n",
       "    </tr>\n",
       "    <tr>\n",
       "      <th>2919</th>\n",
       "      <td>0</td>\n",
       "      <td>1</td>\n",
       "      <td>1</td>\n",
       "      <td>0.28</td>\n",
       "      <td>4</td>\n",
       "      <td>195000.0</td>\n",
       "      <td>286900.0</td>\n",
       "      <td>11</td>\n",
       "      <td>3</td>\n",
       "      <td>0</td>\n",
       "      <td>2903</td>\n",
       "      <td>84</td>\n",
       "    </tr>\n",
       "    <tr>\n",
       "      <th>20027</th>\n",
       "      <td>0</td>\n",
       "      <td>1</td>\n",
       "      <td>1</td>\n",
       "      <td>1.81</td>\n",
       "      <td>283</td>\n",
       "      <td>195000.0</td>\n",
       "      <td>114200.0</td>\n",
       "      <td>34</td>\n",
       "      <td>2</td>\n",
       "      <td>1</td>\n",
       "      <td>1895</td>\n",
       "      <td>45</td>\n",
       "    </tr>\n",
       "    <tr>\n",
       "      <th>6771</th>\n",
       "      <td>0</td>\n",
       "      <td>1</td>\n",
       "      <td>1</td>\n",
       "      <td>0.36</td>\n",
       "      <td>237</td>\n",
       "      <td>21000.0</td>\n",
       "      <td>89600.0</td>\n",
       "      <td>11</td>\n",
       "      <td>1</td>\n",
       "      <td>0</td>\n",
       "      <td>2652</td>\n",
       "      <td>61</td>\n",
       "    </tr>\n",
       "  </tbody>\n",
       "</table>\n",
       "</div>"
      ],
      "text/plain": [
       "       Land Use  Sold As Vacant  Multiple Parcels Involved in Sale  Acreage  \\\n",
       "7788          0               1                                  1     0.29   \n",
       "11518        90               1                                  1     0.25   \n",
       "2919          0               1                                  1     0.28   \n",
       "20027         0               1                                  1     1.81   \n",
       "6771          0               1                                  1     0.36   \n",
       "\n",
       "       Tax District  Land Value  Building Value  Grade  Full Bath  Half Bath  \\\n",
       "7788              4     29900.0         96800.0     11          1          0   \n",
       "11518           237     18000.0         67300.0     11          2          0   \n",
       "2919              4    195000.0        286900.0     11          3          0   \n",
       "20027           283    195000.0        114200.0     34          2          1   \n",
       "6771            237     21000.0         89600.0     11          1          0   \n",
       "\n",
       "       Sales days  DiffYearsBuilt  \n",
       "7788         2588              73  \n",
       "11518        2330              42  \n",
       "2919         2903              84  \n",
       "20027        1895              45  \n",
       "6771         2652              61  "
      ]
     },
     "execution_count": 76,
     "metadata": {},
     "output_type": "execute_result"
    }
   ],
   "source": [
    "X_train_log.head(5)"
   ]
  },
  {
   "cell_type": "code",
   "execution_count": 77,
   "id": "746139e7",
   "metadata": {},
   "outputs": [],
   "source": [
    "X_test_log=X_test[['Land Use','Sold As Vacant','Multiple Parcels Involved in Sale','Acreage','Tax District','Land Value','Building Value','Grade','Full Bath','Half Bath','Sales days','DiffYearsBuilt']]\n"
   ]
  },
  {
   "cell_type": "code",
   "execution_count": 78,
   "id": "069ccdda",
   "metadata": {},
   "outputs": [
    {
     "data": {
      "text/html": [
       "<div>\n",
       "<style scoped>\n",
       "    .dataframe tbody tr th:only-of-type {\n",
       "        vertical-align: middle;\n",
       "    }\n",
       "\n",
       "    .dataframe tbody tr th {\n",
       "        vertical-align: top;\n",
       "    }\n",
       "\n",
       "    .dataframe thead th {\n",
       "        text-align: right;\n",
       "    }\n",
       "</style>\n",
       "<table border=\"1\" class=\"dataframe\">\n",
       "  <thead>\n",
       "    <tr style=\"text-align: right;\">\n",
       "      <th></th>\n",
       "      <th>Land Use</th>\n",
       "      <th>Sold As Vacant</th>\n",
       "      <th>Multiple Parcels Involved in Sale</th>\n",
       "      <th>Acreage</th>\n",
       "      <th>Tax District</th>\n",
       "      <th>Land Value</th>\n",
       "      <th>Building Value</th>\n",
       "      <th>Grade</th>\n",
       "      <th>Full Bath</th>\n",
       "      <th>Half Bath</th>\n",
       "      <th>Sales days</th>\n",
       "      <th>DiffYearsBuilt</th>\n",
       "    </tr>\n",
       "  </thead>\n",
       "  <tbody>\n",
       "    <tr>\n",
       "      <th>2500</th>\n",
       "      <td>0</td>\n",
       "      <td>1</td>\n",
       "      <td>1</td>\n",
       "      <td>0.34</td>\n",
       "      <td>4</td>\n",
       "      <td>30000.0</td>\n",
       "      <td>168300.0</td>\n",
       "      <td>11</td>\n",
       "      <td>2</td>\n",
       "      <td>0</td>\n",
       "      <td>2932</td>\n",
       "      <td>81</td>\n",
       "    </tr>\n",
       "    <tr>\n",
       "      <th>1290</th>\n",
       "      <td>0</td>\n",
       "      <td>1</td>\n",
       "      <td>1</td>\n",
       "      <td>1.07</td>\n",
       "      <td>272</td>\n",
       "      <td>195000.0</td>\n",
       "      <td>202700.0</td>\n",
       "      <td>34</td>\n",
       "      <td>3</td>\n",
       "      <td>0</td>\n",
       "      <td>3010</td>\n",
       "      <td>52</td>\n",
       "    </tr>\n",
       "    <tr>\n",
       "      <th>7364</th>\n",
       "      <td>0</td>\n",
       "      <td>1</td>\n",
       "      <td>1</td>\n",
       "      <td>0.31</td>\n",
       "      <td>4</td>\n",
       "      <td>27500.0</td>\n",
       "      <td>92000.0</td>\n",
       "      <td>11</td>\n",
       "      <td>2</td>\n",
       "      <td>0</td>\n",
       "      <td>2617</td>\n",
       "      <td>43</td>\n",
       "    </tr>\n",
       "    <tr>\n",
       "      <th>2493</th>\n",
       "      <td>90</td>\n",
       "      <td>1</td>\n",
       "      <td>1</td>\n",
       "      <td>0.22</td>\n",
       "      <td>4</td>\n",
       "      <td>26000.0</td>\n",
       "      <td>155400.0</td>\n",
       "      <td>11</td>\n",
       "      <td>3</td>\n",
       "      <td>0</td>\n",
       "      <td>2951</td>\n",
       "      <td>74</td>\n",
       "    </tr>\n",
       "    <tr>\n",
       "      <th>7796</th>\n",
       "      <td>90</td>\n",
       "      <td>1</td>\n",
       "      <td>1</td>\n",
       "      <td>0.37</td>\n",
       "      <td>4</td>\n",
       "      <td>36500.0</td>\n",
       "      <td>105700.0</td>\n",
       "      <td>11</td>\n",
       "      <td>4</td>\n",
       "      <td>0</td>\n",
       "      <td>2569</td>\n",
       "      <td>50</td>\n",
       "    </tr>\n",
       "  </tbody>\n",
       "</table>\n",
       "</div>"
      ],
      "text/plain": [
       "      Land Use  Sold As Vacant  Multiple Parcels Involved in Sale  Acreage  \\\n",
       "2500         0               1                                  1     0.34   \n",
       "1290         0               1                                  1     1.07   \n",
       "7364         0               1                                  1     0.31   \n",
       "2493        90               1                                  1     0.22   \n",
       "7796        90               1                                  1     0.37   \n",
       "\n",
       "      Tax District  Land Value  Building Value  Grade  Full Bath  Half Bath  \\\n",
       "2500             4     30000.0        168300.0     11          2          0   \n",
       "1290           272    195000.0        202700.0     34          3          0   \n",
       "7364             4     27500.0         92000.0     11          2          0   \n",
       "2493             4     26000.0        155400.0     11          3          0   \n",
       "7796             4     36500.0        105700.0     11          4          0   \n",
       "\n",
       "      Sales days  DiffYearsBuilt  \n",
       "2500        2932              81  \n",
       "1290        3010              52  \n",
       "7364        2617              43  \n",
       "2493        2951              74  \n",
       "7796        2569              50  "
      ]
     },
     "execution_count": 78,
     "metadata": {},
     "output_type": "execute_result"
    }
   ],
   "source": [
    "X_test_log.head(5)"
   ]
  },
  {
   "cell_type": "code",
   "execution_count": 84,
   "id": "ea013681",
   "metadata": {},
   "outputs": [],
   "source": [
    "#Create the constant\n",
    "Xlog2 = sm.add_constant(X_train_log)"
   ]
  },
  {
   "cell_type": "code",
   "execution_count": 85,
   "id": "7bd55bba",
   "metadata": {},
   "outputs": [
    {
     "name": "stdout",
     "output_type": "stream",
     "text": [
      "Optimization terminated successfully.\n",
      "         Current function value: 0.494369\n",
      "         Iterations 6\n",
      "                                Logit Regression Results                                \n",
      "========================================================================================\n",
      "Dep. Variable:     Sale Price Compared To Value   No. Observations:                18120\n",
      "Model:                                    Logit   Df Residuals:                    18107\n",
      "Method:                                     MLE   Df Model:                           12\n",
      "Date:                          Tue, 10 Aug 2021   Pseudo R-squ.:                  0.1141\n",
      "Time:                                  02:34:48   Log-Likelihood:                -8958.0\n",
      "converged:                                 True   LL-Null:                       -10112.\n",
      "Covariance Type:                      nonrobust   LLR p-value:                     0.000\n",
      "=====================================================================================================\n",
      "                                        coef    std err          z      P>|z|      [0.025      0.975]\n",
      "-----------------------------------------------------------------------------------------------------\n",
      "const                                 6.7474      0.148     45.480      0.000       6.457       7.038\n",
      "Land Use                             -0.0010      0.000     -3.145      0.002      -0.002      -0.000\n",
      "Sold As Vacant                       -0.0115      0.001     -9.667      0.000      -0.014      -0.009\n",
      "Multiple Parcels Involved in Sale     0.0014      0.001      2.647      0.008       0.000       0.002\n",
      "Acreage                              -0.0943      0.032     -2.963      0.003      -0.157      -0.032\n",
      "Tax District                         -0.0006      0.000     -4.414      0.000      -0.001      -0.000\n",
      "Land Value                         4.932e-06   4.39e-07     11.239      0.000    4.07e-06    5.79e-06\n",
      "Building Value                    -2.393e-06   3.63e-07     -6.600      0.000    -3.1e-06   -1.68e-06\n",
      "Grade                                -0.0017      0.000     -7.148      0.000      -0.002      -0.001\n",
      "Full Bath                            -0.1254      0.029     -4.343      0.000      -0.182      -0.069\n",
      "Half Bath                            -0.1276      0.042     -3.030      0.002      -0.210      -0.045\n",
      "Sales days                           -0.0020   5.04e-05    -39.944      0.000      -0.002      -0.002\n",
      "DiffYearsBuilt                       -0.0027      0.001     -3.418      0.001      -0.004      -0.001\n",
      "=====================================================================================================\n"
     ]
    }
   ],
   "source": [
    "logr_model = sm.Logit(y_train, Xlog2)# Using Logit instead of OLS since it is logistic regression\n",
    "logr_fit = logr_model.fit()\n",
    "print(logr_fit.summary())"
   ]
  },
  {
   "cell_type": "code",
   "execution_count": 86,
   "id": "b9862bab",
   "metadata": {},
   "outputs": [
    {
     "name": "stdout",
     "output_type": "stream",
     "text": [
      "\n",
      "Accuracy: 75.23725446921209\n",
      "[[  34 1110]\n",
      " [  12 3375]]\n",
      "              precision    recall  f1-score   support\n",
      "\n",
      "           0       0.74      0.03      0.06      1144\n",
      "           1       0.75      1.00      0.86      3387\n",
      "\n",
      "    accuracy                           0.75      4531\n",
      "   macro avg       0.75      0.51      0.46      4531\n",
      "weighted avg       0.75      0.75      0.66      4531\n",
      "\n"
     ]
    }
   ],
   "source": [
    "lr_model = LogisticRegression()\n",
    "lr_model.fit(X_train_log, y_train)\n",
    "pred=lr_model.predict(X_test_log)\n",
    "print('\\nAccuracy:',accuracy_score(y_test,pred)*100)\n",
    "print(confusion_matrix(y_test,pred))\n",
    "print(classification_report(y_test,pred))"
   ]
  },
  {
   "cell_type": "code",
   "execution_count": 87,
   "id": "f9c0685e",
   "metadata": {},
   "outputs": [
    {
     "name": "stdout",
     "output_type": "stream",
     "text": [
      "Accuracy: 0.7523725446921209\n"
     ]
    }
   ],
   "source": [
    "#Import scikit-learn metrics module for accuracy calculation\n",
    "from sklearn import metrics\n",
    "\n",
    "# Model Accuracy: how often is the classifier correct?\n",
    "print(\"Accuracy:\",metrics.accuracy_score(y_test, pred))"
   ]
  },
  {
   "cell_type": "code",
   "execution_count": 88,
   "id": "bf42308b",
   "metadata": {},
   "outputs": [
    {
     "name": "stdout",
     "output_type": "stream",
     "text": [
      "Precision: 0.7525083612040134\n"
     ]
    }
   ],
   "source": [
    "# Model Precision: what percentage of positive tuples are labeled as such?\n",
    "print(\"Precision:\",metrics.precision_score(y_test, pred))"
   ]
  },
  {
   "cell_type": "code",
   "execution_count": 89,
   "id": "48b7358f",
   "metadata": {},
   "outputs": [
    {
     "name": "stdout",
     "output_type": "stream",
     "text": [
      "Recall: 0.9964570416297609\n"
     ]
    }
   ],
   "source": [
    "# Model Recall: what percentage of positive tuples are labelled as such?\n",
    "print(\"Recall:\",metrics.recall_score(y_test, pred))"
   ]
  },
  {
   "cell_type": "code",
   "execution_count": 90,
   "id": "a325b901",
   "metadata": {},
   "outputs": [
    {
     "name": "stdout",
     "output_type": "stream",
     "text": [
      "0.24762745530787905\n"
     ]
    }
   ],
   "source": [
    "from sklearn.metrics import mean_squared_error\n",
    "MSE = mean_squared_error(y_test, pred)\n",
    "print(MSE)"
   ]
  },
  {
   "cell_type": "code",
   "execution_count": 91,
   "id": "425fba73",
   "metadata": {},
   "outputs": [
    {
     "name": "stdout",
     "output_type": "stream",
     "text": [
      "8.552945192725073\n"
     ]
    }
   ],
   "source": [
    "from sklearn.metrics import log_loss\n",
    "\n",
    "Log_Loss_LG = log_loss(y_test, pred)\n",
    "print(Log_Loss_LG)"
   ]
  },
  {
   "cell_type": "markdown",
   "id": "1ec8ea7e",
   "metadata": {},
   "source": [
    "## Decision Tree"
   ]
  },
  {
   "cell_type": "code",
   "execution_count": 95,
   "id": "cbcc5625",
   "metadata": {},
   "outputs": [],
   "source": [
    "from sklearn.tree import DecisionTreeClassifier\n"
   ]
  },
  {
   "cell_type": "code",
   "execution_count": 96,
   "id": "5d7dcede",
   "metadata": {},
   "outputs": [],
   "source": [
    "# decision tree mod\n",
    "dtree_model=DecisionTreeClassifier(random_state=200,criterion=\"entropy\", max_depth = 4)\n",
    "\n",
    "dtree_model.fit(X_train, y_train)\n",
    "y_pred = dtree_model.predict(X_test)"
   ]
  },
  {
   "cell_type": "code",
   "execution_count": 97,
   "id": "a3b92701",
   "metadata": {},
   "outputs": [
    {
     "name": "stdout",
     "output_type": "stream",
     "text": [
      "The accuracy of the Decision Tree is 0.7702493930699624\n",
      "[[ 203  941]\n",
      " [ 100 3287]]\n",
      "              precision    recall  f1-score   support\n",
      "\n",
      "           0       0.67      0.18      0.28      1144\n",
      "           1       0.78      0.97      0.86      3387\n",
      "\n",
      "    accuracy                           0.77      4531\n",
      "   macro avg       0.72      0.57      0.57      4531\n",
      "weighted avg       0.75      0.77      0.72      4531\n",
      "\n"
     ]
    }
   ],
   "source": [
    "\n",
    "cm = confusion_matrix(y_test, y_pred)\n",
    "cr = classification_report(y_test, y_pred)\n",
    "\n",
    "pd.crosstab(y_test, y_pred, rownames=['True'], colnames=['Predicted'], margins=True)\n",
    "\n",
    "\n",
    "#Check accuracy score\n",
    "import sklearn.metrics as metrics\n",
    "\n",
    "acc_dt = metrics.accuracy_score(y_pred,y_test)\n",
    "print('The accuracy of the Decision Tree is', acc_dt)\n",
    "\n",
    "print(cm)\n",
    "print(cr)\n"
   ]
  },
  {
   "cell_type": "code",
   "execution_count": 98,
   "id": "da5252e5",
   "metadata": {},
   "outputs": [
    {
     "name": "stdout",
     "output_type": "stream",
     "text": [
      "Precision: 0.7774361400189215\n"
     ]
    }
   ],
   "source": [
    "# Model Precision: what percentage of positive tuples are labeled as such?\n",
    "print(\"Precision:\",metrics.precision_score(y_test, y_pred))"
   ]
  },
  {
   "cell_type": "code",
   "execution_count": 99,
   "id": "dc4671fe",
   "metadata": {},
   "outputs": [
    {
     "name": "stdout",
     "output_type": "stream",
     "text": [
      "Recall: 0.9704753469146737\n"
     ]
    }
   ],
   "source": [
    "# Model Recall: what percentage of positive tuples are labelled as such?\n",
    "print(\"Recall:\",metrics.recall_score(y_test, y_pred))"
   ]
  },
  {
   "cell_type": "code",
   "execution_count": 100,
   "id": "c53bc934",
   "metadata": {},
   "outputs": [
    {
     "name": "stdout",
     "output_type": "stream",
     "text": [
      "8.552945192725073\n"
     ]
    }
   ],
   "source": [
    "\n",
    "Log_Loss_DT = log_loss(y_test, pred)\n",
    "print(Log_Loss_LG)"
   ]
  },
  {
   "cell_type": "code",
   "execution_count": 101,
   "id": "7661c4c5",
   "metadata": {},
   "outputs": [
    {
     "data": {
      "image/png": "[encoded data removed]",
      "text/plain": [
       "<Figure size 1800x720 with 1 Axes>"
      ]
     },
     "metadata": {
      "needs_background": "light"
     },
     "output_type": "display_data"
    }
   ],
   "source": [
    "from sklearn import tree\n",
    "\n",
    "treemodel = DecisionTreeClassifier(max_depth=3)\n",
    "treemodel.fit(X_train,y_train)\n",
    "plt.figure(figsize=(25,10))\n",
    "plot=tree.plot_tree(treemodel,feature_names=X.columns.values.tolist(),class_names=['0','1'],filled=True,rounded=True,fontsize=14)\n",
    "\n"
   ]
  },
  {
   "cell_type": "markdown",
   "id": "e6ecaee1",
   "metadata": {},
   "source": [
    "## Random Forest - Model 1"
   ]
  },
  {
   "cell_type": "code",
   "execution_count": 104,
   "id": "008b4b31",
   "metadata": {},
   "outputs": [],
   "source": [
    "#Here we have used RandomizedSearchCV to hyperparameter tune our model\n",
    "from sklearn.ensemble import RandomForestClassifier\n"
   ]
  },
  {
   "cell_type": "code",
   "execution_count": 106,
   "id": "77bbb6a4",
   "metadata": {},
   "outputs": [
    {
     "data": {
      "text/plain": [
       "RandomForestClassifier(n_estimators=1000, random_state=150)"
      ]
     },
     "execution_count": 106,
     "metadata": {},
     "output_type": "execute_result"
    }
   ],
   "source": [
    "# random forest tree model\n",
    "rforest_model = RandomForestClassifier(n_estimators=1000,random_state=150)\n",
    "\n",
    "rforest_model.fit(X_train, y_train)"
   ]
  },
  {
   "cell_type": "code",
   "execution_count": 107,
   "id": "eeb20e69",
   "metadata": {},
   "outputs": [],
   "source": [
    "y_pred = rforest_model.predict(X_test)"
   ]
  },
  {
   "cell_type": "code",
   "execution_count": 108,
   "id": "681ba8d1",
   "metadata": {},
   "outputs": [
    {
     "name": "stdout",
     "output_type": "stream",
     "text": [
      "The accuracy of the Random Forest Tree is 0.7839329066431251\n"
     ]
    }
   ],
   "source": [
    "import sklearn.metrics as metrics\n",
    "\n",
    "acc_rf = metrics.accuracy_score(y_pred, y_test)\n",
    "print('The accuracy of the Random Forest Tree is', acc_rf)"
   ]
  },
  {
   "cell_type": "code",
   "execution_count": 109,
   "id": "71a91ebe",
   "metadata": {},
   "outputs": [
    {
     "name": "stdout",
     "output_type": "stream",
     "text": [
      "[[ 382  762]\n",
      " [ 217 3170]]\n"
     ]
    }
   ],
   "source": [
    "cm = confusion_matrix(y_test, y_pred)\n",
    "print(cm)"
   ]
  },
  {
   "cell_type": "code",
   "execution_count": 110,
   "id": "41f704f4",
   "metadata": {},
   "outputs": [
    {
     "data": {
      "text/html": [
       "<div>\n",
       "<style scoped>\n",
       "    .dataframe tbody tr th:only-of-type {\n",
       "        vertical-align: middle;\n",
       "    }\n",
       "\n",
       "    .dataframe tbody tr th {\n",
       "        vertical-align: top;\n",
       "    }\n",
       "\n",
       "    .dataframe thead th {\n",
       "        text-align: right;\n",
       "    }\n",
       "</style>\n",
       "<table border=\"1\" class=\"dataframe\">\n",
       "  <thead>\n",
       "    <tr style=\"text-align: right;\">\n",
       "      <th>Predicted</th>\n",
       "      <th>0</th>\n",
       "      <th>1</th>\n",
       "      <th>All</th>\n",
       "    </tr>\n",
       "    <tr>\n",
       "      <th>True</th>\n",
       "      <th></th>\n",
       "      <th></th>\n",
       "      <th></th>\n",
       "    </tr>\n",
       "  </thead>\n",
       "  <tbody>\n",
       "    <tr>\n",
       "      <th>0</th>\n",
       "      <td>382</td>\n",
       "      <td>762</td>\n",
       "      <td>1144</td>\n",
       "    </tr>\n",
       "    <tr>\n",
       "      <th>1</th>\n",
       "      <td>217</td>\n",
       "      <td>3170</td>\n",
       "      <td>3387</td>\n",
       "    </tr>\n",
       "    <tr>\n",
       "      <th>All</th>\n",
       "      <td>599</td>\n",
       "      <td>3932</td>\n",
       "      <td>4531</td>\n",
       "    </tr>\n",
       "  </tbody>\n",
       "</table>\n",
       "</div>"
      ],
      "text/plain": [
       "Predicted    0     1   All\n",
       "True                      \n",
       "0          382   762  1144\n",
       "1          217  3170  3387\n",
       "All        599  3932  4531"
      ]
     },
     "execution_count": 110,
     "metadata": {},
     "output_type": "execute_result"
    }
   ],
   "source": [
    "#Cross-verify labels\n",
    "pd.crosstab(y_test, y_pred, rownames=['True'], colnames=['Predicted'], margins=True)"
   ]
  },
  {
   "cell_type": "code",
   "execution_count": 111,
   "id": "94e57504",
   "metadata": {},
   "outputs": [
    {
     "name": "stdout",
     "output_type": "stream",
     "text": [
      "Precision: 0.8062054933875891\n"
     ]
    }
   ],
   "source": [
    "# Model Precision: what percentage of positive tuples are labeled as such?\n",
    "print(\"Precision:\",metrics.precision_score(y_test, y_pred))"
   ]
  },
  {
   "cell_type": "code",
   "execution_count": 112,
   "id": "90101f5d",
   "metadata": {},
   "outputs": [
    {
     "name": "stdout",
     "output_type": "stream",
     "text": [
      "Recall: 0.935931502804842\n"
     ]
    }
   ],
   "source": [
    "# Model Recall: what percentage of positive tuples are labelled as such?\n",
    "print(\"Recall:\",metrics.recall_score(y_test, y_pred))"
   ]
  },
  {
   "cell_type": "code",
   "execution_count": 113,
   "id": "71e52e8e",
   "metadata": {},
   "outputs": [
    {
     "name": "stdout",
     "output_type": "stream",
     "text": [
      "7.4628274958859775\n"
     ]
    }
   ],
   "source": [
    "Log_Loss_RF1 = log_loss(y_test, y_pred)\n",
    "print(Log_Loss_RF1)"
   ]
  },
  {
   "cell_type": "markdown",
   "id": "908b711b",
   "metadata": {},
   "source": [
    "## Random Forest - Model 2"
   ]
  },
  {
   "cell_type": "code",
   "execution_count": 114,
   "id": "d07c9cf2",
   "metadata": {},
   "outputs": [
    {
     "data": {
      "text/plain": [
       "RandomForestClassifier(n_estimators=1500, random_state=150)"
      ]
     },
     "execution_count": 114,
     "metadata": {},
     "output_type": "execute_result"
    }
   ],
   "source": [
    "# random forest tree model\n",
    "rforest_model = RandomForestClassifier(n_estimators=1500,random_state=150)\n",
    "\n",
    "rforest_model.fit(X_train, y_train)"
   ]
  },
  {
   "cell_type": "code",
   "execution_count": 115,
   "id": "4ab5a34d",
   "metadata": {},
   "outputs": [],
   "source": [
    "y_pred = rforest_model.predict(X_test)"
   ]
  },
  {
   "cell_type": "code",
   "execution_count": 116,
   "id": "39e45ccb",
   "metadata": {},
   "outputs": [
    {
     "name": "stdout",
     "output_type": "stream",
     "text": [
      "The accuracy of the Random Forest Tree is 0.7817258883248731\n"
     ]
    }
   ],
   "source": [
    "import sklearn.metrics as metrics\n",
    "\n",
    "acc_rf = metrics.accuracy_score(y_pred, y_test)\n",
    "print('The accuracy of the Random Forest Tree is', acc_rf)"
   ]
  },
  {
   "cell_type": "code",
   "execution_count": 117,
   "id": "20e5d848",
   "metadata": {},
   "outputs": [
    {
     "name": "stdout",
     "output_type": "stream",
     "text": [
      "Precision: 0.8057113717491076\n"
     ]
    }
   ],
   "source": [
    "# Model Precision: what percentage of positive tuples are labeled as such?\n",
    "print(\"Precision:\",metrics.precision_score(y_test, y_pred))"
   ]
  },
  {
   "cell_type": "code",
   "execution_count": 118,
   "id": "c9e9a3b4",
   "metadata": {},
   "outputs": [
    {
     "name": "stdout",
     "output_type": "stream",
     "text": [
      "Recall: 0.9329790374963094\n"
     ]
    }
   ],
   "source": [
    "# Model Recall: what percentage of positive tuples are labelled as such?\n",
    "print(\"Recall:\",metrics.recall_score(y_test, y_pred))"
   ]
  },
  {
   "cell_type": "code",
   "execution_count": 119,
   "id": "0c0e6e63",
   "metadata": {},
   "outputs": [
    {
     "name": "stdout",
     "output_type": "stream",
     "text": [
      "7.539055208079557\n"
     ]
    }
   ],
   "source": [
    "Log_Loss_RF2 = log_loss(y_test, y_pred)\n",
    "print(Log_Loss_RF2)"
   ]
  },
  {
   "cell_type": "markdown",
   "id": "1a90295f",
   "metadata": {},
   "source": [
    "## Gradient Boost - Model 1"
   ]
  },
  {
   "cell_type": "code",
   "execution_count": 120,
   "id": "6dac94d0",
   "metadata": {},
   "outputs": [
    {
     "data": {
      "text/plain": [
       "0.7779739571838447"
      ]
     },
     "execution_count": 120,
     "metadata": {},
     "output_type": "execute_result"
    }
   ],
   "source": [
    "from sklearn.ensemble import GradientBoostingClassifier\n",
    "gbclass=GradientBoostingClassifier(random_state=0)\n",
    "gbclass.fit(X_train,y_train)\n",
    "gbypred=gbclass.predict(X_test)\n",
    "gbclass.score(X_test, y_test)"
   ]
  },
  {
   "cell_type": "code",
   "execution_count": 121,
   "id": "830e0a37",
   "metadata": {},
   "outputs": [],
   "source": [
    "from sklearn.metrics import classification_report, confusion_matrix, roc_curve, auc\n",
    "\n",
    "gb = GradientBoostingClassifier(n_estimators=20, learning_rate = 0.5, max_features=2, max_depth = 2, random_state = 0)\n",
    "gb.fit(X_train, y_train)\n",
    "y_pred = gb.predict(X_test)"
   ]
  },
  {
   "cell_type": "code",
   "execution_count": 122,
   "id": "29df5fa1",
   "metadata": {},
   "outputs": [
    {
     "name": "stdout",
     "output_type": "stream",
     "text": [
      "The accuracy of the Random Forest Tree is 0.7779739571838447\n"
     ]
    }
   ],
   "source": [
    "import sklearn.metrics as metrics\n",
    "\n",
    "acc_xg = metrics.accuracy_score(gbypred, y_test)\n",
    "print('The accuracy of the Random Forest Tree is', acc_xg)"
   ]
  },
  {
   "cell_type": "code",
   "execution_count": 123,
   "id": "dc8adaa4",
   "metadata": {},
   "outputs": [
    {
     "data": {
      "text/html": [
       "<div>\n",
       "<style scoped>\n",
       "    .dataframe tbody tr th:only-of-type {\n",
       "        vertical-align: middle;\n",
       "    }\n",
       "\n",
       "    .dataframe tbody tr th {\n",
       "        vertical-align: top;\n",
       "    }\n",
       "\n",
       "    .dataframe thead th {\n",
       "        text-align: right;\n",
       "    }\n",
       "</style>\n",
       "<table border=\"1\" class=\"dataframe\">\n",
       "  <thead>\n",
       "    <tr style=\"text-align: right;\">\n",
       "      <th>Predicted</th>\n",
       "      <th>0</th>\n",
       "      <th>1</th>\n",
       "      <th>All</th>\n",
       "    </tr>\n",
       "    <tr>\n",
       "      <th>True</th>\n",
       "      <th></th>\n",
       "      <th></th>\n",
       "      <th></th>\n",
       "    </tr>\n",
       "  </thead>\n",
       "  <tbody>\n",
       "    <tr>\n",
       "      <th>0</th>\n",
       "      <td>297</td>\n",
       "      <td>847</td>\n",
       "      <td>1144</td>\n",
       "    </tr>\n",
       "    <tr>\n",
       "      <th>1</th>\n",
       "      <td>159</td>\n",
       "      <td>3228</td>\n",
       "      <td>3387</td>\n",
       "    </tr>\n",
       "    <tr>\n",
       "      <th>All</th>\n",
       "      <td>456</td>\n",
       "      <td>4075</td>\n",
       "      <td>4531</td>\n",
       "    </tr>\n",
       "  </tbody>\n",
       "</table>\n",
       "</div>"
      ],
      "text/plain": [
       "Predicted    0     1   All\n",
       "True                      \n",
       "0          297   847  1144\n",
       "1          159  3228  3387\n",
       "All        456  4075  4531"
      ]
     },
     "execution_count": 123,
     "metadata": {},
     "output_type": "execute_result"
    }
   ],
   "source": [
    "#Cross-verify labels\n",
    "pd.crosstab(y_test, gbypred, rownames=['True'], colnames=['Predicted'], margins=True)"
   ]
  },
  {
   "cell_type": "code",
   "execution_count": 124,
   "id": "6bfa53bd",
   "metadata": {},
   "outputs": [
    {
     "name": "stdout",
     "output_type": "stream",
     "text": [
      "Precision: 0.7734650670430487\n"
     ]
    }
   ],
   "source": [
    "# Model Precision: what percentage of positive tuples are labeled as such?\n",
    "print(\"Precision:\",metrics.precision_score(y_test, y_pred))"
   ]
  },
  {
   "cell_type": "code",
   "execution_count": 125,
   "id": "3c3262f4",
   "metadata": {},
   "outputs": [
    {
     "name": "stdout",
     "output_type": "stream",
     "text": [
      "Recall: 0.970770593445527\n"
     ]
    }
   ],
   "source": [
    "# Model Recall: what percentage of positive tuples are labelled as such?\n",
    "print(\"Recall:\",metrics.recall_score(y_test, y_pred))"
   ]
  },
  {
   "cell_type": "code",
   "execution_count": 126,
   "id": "546663dc",
   "metadata": {},
   "outputs": [
    {
     "name": "stdout",
     "output_type": "stream",
     "text": [
      "8.095552978088815\n"
     ]
    }
   ],
   "source": [
    "Log_Loss_XG1 = log_loss(y_test, y_pred)\n",
    "print(Log_Loss_XG1)"
   ]
  },
  {
   "cell_type": "markdown",
   "id": "bda81664",
   "metadata": {},
   "source": [
    "## Gradient Boost - Model 2"
   ]
  },
  {
   "cell_type": "code",
   "execution_count": 127,
   "id": "ffadc941",
   "metadata": {},
   "outputs": [],
   "source": [
    "from sklearn.metrics import classification_report, confusion_matrix, roc_curve, auc\n",
    "\n",
    "gb = GradientBoostingClassifier(n_estimators=30, learning_rate = 0.5, max_features=2, max_depth = 2, random_state = 0)\n",
    "gb.fit(X_train, y_train)\n",
    "y_pred = gb.predict(X_test)"
   ]
  },
  {
   "cell_type": "code",
   "execution_count": null,
   "id": "60c04908",
   "metadata": {},
   "outputs": [],
   "source": [
    "import sklearn.metrics as metrics\n",
    "\n",
    "acc_xg = metrics.accuracy_score(y_pred, y_test)\n",
    "print('The accuracy of the Random Forest Tree is', acc_xg)"
   ]
  },
  {
   "cell_type": "code",
   "execution_count": null,
   "id": "c30d539d",
   "metadata": {},
   "outputs": [],
   "source": [
    "#Cross-verify labels\n",
    "pd.crosstab(y_test, gbypred, rownames=['True'], colnames=['Predicted'], margins=True)"
   ]
  },
  {
   "cell_type": "code",
   "execution_count": null,
   "id": "47d9d2d2",
   "metadata": {},
   "outputs": [],
   "source": [
    "# Model Precision: what percentage of positive tuples are labeled as such?\n",
    "print(\"Precision:\",metrics.precision_score(y_test, y_pred))"
   ]
  },
  {
   "cell_type": "code",
   "execution_count": null,
   "id": "f25c2efe",
   "metadata": {},
   "outputs": [],
   "source": [
    "# Model Recall: what percentage of positive tuples are labelled as such?\n",
    "print(\"Recall:\",metrics.recall_score(y_test, y_pred))"
   ]
  },
  {
   "cell_type": "code",
   "execution_count": null,
   "id": "5b5958ab",
   "metadata": {},
   "outputs": [],
   "source": [
    "Log_Loss_XG2 = log_loss(y_test, y_pred)\n",
    "print(Log_Loss_XG2)"
   ]
  }
 ],
 "metadata": {
  "kernelspec": {
   "display_name": "Python 3",
   "language": "python",
   "name": "python3"
  },
  "language_info": {
   "codemirror_mode": {
    "name": "ipython",
    "version": 3
   },
   "file_extension": ".py",
   "mimetype": "text/x-python",
   "name": "python",
   "nbconvert_exporter": "python",
   "pygments_lexer": "ipython3",
   "version": "3.7.6"
  }
 },
 "nbformat": 4,
 "nbformat_minor": 5
}
