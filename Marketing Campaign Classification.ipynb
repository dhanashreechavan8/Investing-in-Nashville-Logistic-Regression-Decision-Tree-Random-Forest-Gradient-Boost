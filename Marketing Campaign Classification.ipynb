{
 "cells": [
  {
   "cell_type": "markdown",
   "id": "7d866c95",
   "metadata": {},
   "source": [
    "## Importing Required libraries"
   ]
  },
  {
   "cell_type": "code",
   "execution_count": 1,
   "id": "43168e81",
   "metadata": {},
   "outputs": [],
   "source": [
    "import pandas as pd\n",
    "import numpy as np\n",
    "import matplotlib.pyplot as plt\n",
    "import seaborn as sns"
   ]
  },
  {
   "cell_type": "code",
   "execution_count": 2,
   "id": "5df9690a",
   "metadata": {},
   "outputs": [],
   "source": [
    "pd.set_option('display.max_rows', None)\n",
    "pd.set_option('display.max_columns', None)"
   ]
  },
  {
   "cell_type": "markdown",
   "id": "53544e58",
   "metadata": {},
   "source": [
    "## Importing dataset"
   ]
  },
  {
   "cell_type": "code",
   "execution_count": 3,
   "id": "ae60b472",
   "metadata": {},
   "outputs": [],
   "source": [
    "Term = pd.read_csv(\"~/Desktop/bank-full.csv\", sep=';')"
   ]
  },
  {
   "cell_type": "markdown",
   "id": "2859d171",
   "metadata": {},
   "source": [
    "## Displaying first few records in the dataset"
   ]
  },
  {
   "cell_type": "code",
   "execution_count": 4,
   "id": "9ed53106",
   "metadata": {},
   "outputs": [
    {
     "data": {
      "text/html": [
       "<div>\n",
       "<style scoped>\n",
       "    .dataframe tbody tr th:only-of-type {\n",
       "        vertical-align: middle;\n",
       "    }\n",
       "\n",
       "    .dataframe tbody tr th {\n",
       "        vertical-align: top;\n",
       "    }\n",
       "\n",
       "    .dataframe thead th {\n",
       "        text-align: right;\n",
       "    }\n",
       "</style>\n",
       "<table border=\"1\" class=\"dataframe\">\n",
       "  <thead>\n",
       "    <tr style=\"text-align: right;\">\n",
       "      <th></th>\n",
       "      <th>age</th>\n",
       "      <th>job</th>\n",
       "      <th>marital</th>\n",
       "      <th>education</th>\n",
       "      <th>default</th>\n",
       "      <th>balance</th>\n",
       "      <th>housing</th>\n",
       "      <th>loan</th>\n",
       "      <th>contact</th>\n",
       "      <th>day</th>\n",
       "      <th>month</th>\n",
       "      <th>duration</th>\n",
       "      <th>campaign</th>\n",
       "      <th>pdays</th>\n",
       "      <th>previous</th>\n",
       "      <th>poutcome</th>\n",
       "      <th>y</th>\n",
       "    </tr>\n",
       "  </thead>\n",
       "  <tbody>\n",
       "    <tr>\n",
       "      <th>0</th>\n",
       "      <td>58</td>\n",
       "      <td>management</td>\n",
       "      <td>married</td>\n",
       "      <td>tertiary</td>\n",
       "      <td>no</td>\n",
       "      <td>2143</td>\n",
       "      <td>yes</td>\n",
       "      <td>no</td>\n",
       "      <td>unknown</td>\n",
       "      <td>5</td>\n",
       "      <td>may</td>\n",
       "      <td>261</td>\n",
       "      <td>1</td>\n",
       "      <td>-1</td>\n",
       "      <td>0</td>\n",
       "      <td>unknown</td>\n",
       "      <td>no</td>\n",
       "    </tr>\n",
       "    <tr>\n",
       "      <th>1</th>\n",
       "      <td>44</td>\n",
       "      <td>technician</td>\n",
       "      <td>single</td>\n",
       "      <td>secondary</td>\n",
       "      <td>no</td>\n",
       "      <td>29</td>\n",
       "      <td>yes</td>\n",
       "      <td>no</td>\n",
       "      <td>unknown</td>\n",
       "      <td>5</td>\n",
       "      <td>may</td>\n",
       "      <td>151</td>\n",
       "      <td>1</td>\n",
       "      <td>-1</td>\n",
       "      <td>0</td>\n",
       "      <td>unknown</td>\n",
       "      <td>no</td>\n",
       "    </tr>\n",
       "    <tr>\n",
       "      <th>2</th>\n",
       "      <td>33</td>\n",
       "      <td>entrepreneur</td>\n",
       "      <td>married</td>\n",
       "      <td>secondary</td>\n",
       "      <td>no</td>\n",
       "      <td>2</td>\n",
       "      <td>yes</td>\n",
       "      <td>yes</td>\n",
       "      <td>unknown</td>\n",
       "      <td>5</td>\n",
       "      <td>may</td>\n",
       "      <td>76</td>\n",
       "      <td>1</td>\n",
       "      <td>-1</td>\n",
       "      <td>0</td>\n",
       "      <td>unknown</td>\n",
       "      <td>no</td>\n",
       "    </tr>\n",
       "    <tr>\n",
       "      <th>3</th>\n",
       "      <td>47</td>\n",
       "      <td>blue-collar</td>\n",
       "      <td>married</td>\n",
       "      <td>unknown</td>\n",
       "      <td>no</td>\n",
       "      <td>1506</td>\n",
       "      <td>yes</td>\n",
       "      <td>no</td>\n",
       "      <td>unknown</td>\n",
       "      <td>5</td>\n",
       "      <td>may</td>\n",
       "      <td>92</td>\n",
       "      <td>1</td>\n",
       "      <td>-1</td>\n",
       "      <td>0</td>\n",
       "      <td>unknown</td>\n",
       "      <td>no</td>\n",
       "    </tr>\n",
       "    <tr>\n",
       "      <th>4</th>\n",
       "      <td>33</td>\n",
       "      <td>unknown</td>\n",
       "      <td>single</td>\n",
       "      <td>unknown</td>\n",
       "      <td>no</td>\n",
       "      <td>1</td>\n",
       "      <td>no</td>\n",
       "      <td>no</td>\n",
       "      <td>unknown</td>\n",
       "      <td>5</td>\n",
       "      <td>may</td>\n",
       "      <td>198</td>\n",
       "      <td>1</td>\n",
       "      <td>-1</td>\n",
       "      <td>0</td>\n",
       "      <td>unknown</td>\n",
       "      <td>no</td>\n",
       "    </tr>\n",
       "  </tbody>\n",
       "</table>\n",
       "</div>"
      ],
      "text/plain": [
       "   age           job  marital  education default  balance housing loan  \\\n",
       "0   58    management  married   tertiary      no     2143     yes   no   \n",
       "1   44    technician   single  secondary      no       29     yes   no   \n",
       "2   33  entrepreneur  married  secondary      no        2     yes  yes   \n",
       "3   47   blue-collar  married    unknown      no     1506     yes   no   \n",
       "4   33       unknown   single    unknown      no        1      no   no   \n",
       "\n",
       "   contact  day month  duration  campaign  pdays  previous poutcome   y  \n",
       "0  unknown    5   may       261         1     -1         0  unknown  no  \n",
       "1  unknown    5   may       151         1     -1         0  unknown  no  \n",
       "2  unknown    5   may        76         1     -1         0  unknown  no  \n",
       "3  unknown    5   may        92         1     -1         0  unknown  no  \n",
       "4  unknown    5   may       198         1     -1         0  unknown  no  "
      ]
     },
     "execution_count": 4,
     "metadata": {},
     "output_type": "execute_result"
    }
   ],
   "source": [
    "Term.head()"
   ]
  },
  {
   "cell_type": "markdown",
   "id": "861f702a",
   "metadata": {},
   "source": [
    "## Check data types"
   ]
  },
  {
   "cell_type": "code",
   "execution_count": 5,
   "id": "ad22baeb",
   "metadata": {},
   "outputs": [
    {
     "name": "stdout",
     "output_type": "stream",
     "text": [
      "<class 'pandas.core.frame.DataFrame'>\n",
      "RangeIndex: 45211 entries, 0 to 45210\n",
      "Data columns (total 17 columns):\n",
      " #   Column     Non-Null Count  Dtype \n",
      "---  ------     --------------  ----- \n",
      " 0   age        45211 non-null  int64 \n",
      " 1   job        45211 non-null  object\n",
      " 2   marital    45211 non-null  object\n",
      " 3   education  45211 non-null  object\n",
      " 4   default    45211 non-null  object\n",
      " 5   balance    45211 non-null  int64 \n",
      " 6   housing    45211 non-null  object\n",
      " 7   loan       45211 non-null  object\n",
      " 8   contact    45211 non-null  object\n",
      " 9   day        45211 non-null  int64 \n",
      " 10  month      45211 non-null  object\n",
      " 11  duration   45211 non-null  int64 \n",
      " 12  campaign   45211 non-null  int64 \n",
      " 13  pdays      45211 non-null  int64 \n",
      " 14  previous   45211 non-null  int64 \n",
      " 15  poutcome   45211 non-null  object\n",
      " 16  y          45211 non-null  object\n",
      "dtypes: int64(7), object(10)\n",
      "memory usage: 5.9+ MB\n"
     ]
    }
   ],
   "source": [
    "Term.info()"
   ]
  },
  {
   "cell_type": "markdown",
   "id": "11de9b23",
   "metadata": {},
   "source": [
    "## Check total number of rows and columns"
   ]
  },
  {
   "cell_type": "code",
   "execution_count": 6,
   "id": "040b986d",
   "metadata": {},
   "outputs": [
    {
     "data": {
      "text/plain": [
       "(45211, 17)"
      ]
     },
     "execution_count": 6,
     "metadata": {},
     "output_type": "execute_result"
    }
   ],
   "source": [
    "Term.shape"
   ]
  },
  {
   "cell_type": "markdown",
   "id": "18fa3e6f",
   "metadata": {},
   "source": [
    "## Rows containing duplicate data"
   ]
  },
  {
   "cell_type": "code",
   "execution_count": 7,
   "id": "846505d2",
   "metadata": {},
   "outputs": [
    {
     "name": "stdout",
     "output_type": "stream",
     "text": [
      "Empty DataFrame\n",
      "Columns: [age, job, marital, education, default, balance, housing, loan, contact, day, month, duration, campaign, pdays, previous, poutcome, y]\n",
      "Index: []\n"
     ]
    }
   ],
   "source": [
    "duplicateDFRow = Term[Term.duplicated()]\n",
    "print(duplicateDFRow)"
   ]
  },
  {
   "cell_type": "markdown",
   "id": "40b4c74e",
   "metadata": {},
   "source": [
    "## Check for values for each column"
   ]
  },
  {
   "cell_type": "code",
   "execution_count": 8,
   "id": "944c6e30",
   "metadata": {},
   "outputs": [
    {
     "data": {
      "text/plain": [
       "age          45211\n",
       "job          45211\n",
       "marital      45211\n",
       "education    45211\n",
       "default      45211\n",
       "balance      45211\n",
       "housing      45211\n",
       "loan         45211\n",
       "contact      45211\n",
       "day          45211\n",
       "month        45211\n",
       "duration     45211\n",
       "campaign     45211\n",
       "pdays        45211\n",
       "previous     45211\n",
       "poutcome     45211\n",
       "y            45211\n",
       "dtype: int64"
      ]
     },
     "execution_count": 8,
     "metadata": {},
     "output_type": "execute_result"
    }
   ],
   "source": [
    "Term.count()"
   ]
  },
  {
   "cell_type": "code",
   "execution_count": 9,
   "id": "0fe5d6d7",
   "metadata": {},
   "outputs": [],
   "source": [
    "# Check for missing values"
   ]
  },
  {
   "cell_type": "code",
   "execution_count": 10,
   "id": "a1e1c4ff",
   "metadata": {},
   "outputs": [
    {
     "data": {
      "text/plain": [
       "age          0\n",
       "job          0\n",
       "marital      0\n",
       "education    0\n",
       "default      0\n",
       "balance      0\n",
       "housing      0\n",
       "loan         0\n",
       "contact      0\n",
       "day          0\n",
       "month        0\n",
       "duration     0\n",
       "campaign     0\n",
       "pdays        0\n",
       "previous     0\n",
       "poutcome     0\n",
       "y            0\n",
       "dtype: int64"
      ]
     },
     "execution_count": 10,
     "metadata": {},
     "output_type": "execute_result"
    }
   ],
   "source": [
    "Term.isnull().sum()"
   ]
  },
  {
   "cell_type": "markdown",
   "id": "71da55f6",
   "metadata": {},
   "source": [
    "## renaming columns"
   ]
  },
  {
   "cell_type": "code",
   "execution_count": 11,
   "id": "79a20ce1",
   "metadata": {},
   "outputs": [],
   "source": [
    "Term = Term.rename(columns={'default': 'credit', 'housing': 'housingloan', 'loan': 'personalloan', 'y': 'termdeposit'})"
   ]
  },
  {
   "cell_type": "markdown",
   "id": "53f2fbda",
   "metadata": {},
   "source": [
    "## Summary for numeric features"
   ]
  },
  {
   "cell_type": "code",
   "execution_count": 12,
   "id": "aa8051cd",
   "metadata": {},
   "outputs": [
    {
     "data": {
      "text/html": [
       "<div>\n",
       "<style scoped>\n",
       "    .dataframe tbody tr th:only-of-type {\n",
       "        vertical-align: middle;\n",
       "    }\n",
       "\n",
       "    .dataframe tbody tr th {\n",
       "        vertical-align: top;\n",
       "    }\n",
       "\n",
       "    .dataframe thead th {\n",
       "        text-align: right;\n",
       "    }\n",
       "</style>\n",
       "<table border=\"1\" class=\"dataframe\">\n",
       "  <thead>\n",
       "    <tr style=\"text-align: right;\">\n",
       "      <th></th>\n",
       "      <th>age</th>\n",
       "      <th>balance</th>\n",
       "      <th>day</th>\n",
       "      <th>duration</th>\n",
       "      <th>campaign</th>\n",
       "      <th>pdays</th>\n",
       "      <th>previous</th>\n",
       "    </tr>\n",
       "  </thead>\n",
       "  <tbody>\n",
       "    <tr>\n",
       "      <th>count</th>\n",
       "      <td>45211.000000</td>\n",
       "      <td>45211.000000</td>\n",
       "      <td>45211.000000</td>\n",
       "      <td>45211.000000</td>\n",
       "      <td>45211.000000</td>\n",
       "      <td>45211.000000</td>\n",
       "      <td>45211.000000</td>\n",
       "    </tr>\n",
       "    <tr>\n",
       "      <th>mean</th>\n",
       "      <td>40.936210</td>\n",
       "      <td>1362.272058</td>\n",
       "      <td>15.806419</td>\n",
       "      <td>258.163080</td>\n",
       "      <td>2.763841</td>\n",
       "      <td>40.197828</td>\n",
       "      <td>0.580323</td>\n",
       "    </tr>\n",
       "    <tr>\n",
       "      <th>std</th>\n",
       "      <td>10.618762</td>\n",
       "      <td>3044.765829</td>\n",
       "      <td>8.322476</td>\n",
       "      <td>257.527812</td>\n",
       "      <td>3.098021</td>\n",
       "      <td>100.128746</td>\n",
       "      <td>2.303441</td>\n",
       "    </tr>\n",
       "    <tr>\n",
       "      <th>min</th>\n",
       "      <td>18.000000</td>\n",
       "      <td>-8019.000000</td>\n",
       "      <td>1.000000</td>\n",
       "      <td>0.000000</td>\n",
       "      <td>1.000000</td>\n",
       "      <td>-1.000000</td>\n",
       "      <td>0.000000</td>\n",
       "    </tr>\n",
       "    <tr>\n",
       "      <th>25%</th>\n",
       "      <td>33.000000</td>\n",
       "      <td>72.000000</td>\n",
       "      <td>8.000000</td>\n",
       "      <td>103.000000</td>\n",
       "      <td>1.000000</td>\n",
       "      <td>-1.000000</td>\n",
       "      <td>0.000000</td>\n",
       "    </tr>\n",
       "    <tr>\n",
       "      <th>50%</th>\n",
       "      <td>39.000000</td>\n",
       "      <td>448.000000</td>\n",
       "      <td>16.000000</td>\n",
       "      <td>180.000000</td>\n",
       "      <td>2.000000</td>\n",
       "      <td>-1.000000</td>\n",
       "      <td>0.000000</td>\n",
       "    </tr>\n",
       "    <tr>\n",
       "      <th>75%</th>\n",
       "      <td>48.000000</td>\n",
       "      <td>1428.000000</td>\n",
       "      <td>21.000000</td>\n",
       "      <td>319.000000</td>\n",
       "      <td>3.000000</td>\n",
       "      <td>-1.000000</td>\n",
       "      <td>0.000000</td>\n",
       "    </tr>\n",
       "    <tr>\n",
       "      <th>max</th>\n",
       "      <td>95.000000</td>\n",
       "      <td>102127.000000</td>\n",
       "      <td>31.000000</td>\n",
       "      <td>4918.000000</td>\n",
       "      <td>63.000000</td>\n",
       "      <td>871.000000</td>\n",
       "      <td>275.000000</td>\n",
       "    </tr>\n",
       "  </tbody>\n",
       "</table>\n",
       "</div>"
      ],
      "text/plain": [
       "                age        balance           day      duration      campaign  \\\n",
       "count  45211.000000   45211.000000  45211.000000  45211.000000  45211.000000   \n",
       "mean      40.936210    1362.272058     15.806419    258.163080      2.763841   \n",
       "std       10.618762    3044.765829      8.322476    257.527812      3.098021   \n",
       "min       18.000000   -8019.000000      1.000000      0.000000      1.000000   \n",
       "25%       33.000000      72.000000      8.000000    103.000000      1.000000   \n",
       "50%       39.000000     448.000000     16.000000    180.000000      2.000000   \n",
       "75%       48.000000    1428.000000     21.000000    319.000000      3.000000   \n",
       "max       95.000000  102127.000000     31.000000   4918.000000     63.000000   \n",
       "\n",
       "              pdays      previous  \n",
       "count  45211.000000  45211.000000  \n",
       "mean      40.197828      0.580323  \n",
       "std      100.128746      2.303441  \n",
       "min       -1.000000      0.000000  \n",
       "25%       -1.000000      0.000000  \n",
       "50%       -1.000000      0.000000  \n",
       "75%       -1.000000      0.000000  \n",
       "max      871.000000    275.000000  "
      ]
     },
     "execution_count": 12,
     "metadata": {},
     "output_type": "execute_result"
    }
   ],
   "source": [
    "Term.describe()"
   ]
  },
  {
   "cell_type": "markdown",
   "id": "1f44de06",
   "metadata": {},
   "source": [
    "## Check target variable distribution"
   ]
  },
  {
   "cell_type": "code",
   "execution_count": 13,
   "id": "e8a4a813",
   "metadata": {},
   "outputs": [
    {
     "data": {
      "image/png": "[encoded data removed]",
      "text/plain": [
       "<Figure size 432x288 with 1 Axes>"
      ]
     },
     "metadata": {
      "needs_background": "light"
     },
     "output_type": "display_data"
    }
   ],
   "source": [
    "plt.bar(['No', 'Yes'], Term.termdeposit.value_counts().values)\n",
    "plt.title('Target Variable', fontsize=14)\n",
    "plt.xlabel('Classes')\n",
    "plt.ylabel('Amount')\n",
    "plt.show()"
   ]
  },
  {
   "cell_type": "markdown",
   "id": "3b9f5c9c",
   "metadata": {},
   "source": [
    "## Target variable is extremely imbalanced. This is important to remember when performing classification because even without using of machine learning we can make predictions with roughly 90% accuracy just by guessing none of the clients subscribed to the term deposit. Since we are focused only on the clients that said 'Yes', chances to get predictions are very thin."
   ]
  },
  {
   "cell_type": "code",
   "execution_count": 14,
   "id": "fd515411",
   "metadata": {},
   "outputs": [],
   "source": [
    "cat_var = ['job', 'marital', 'education', 'credit', 'housingloan', 'month', 'personalloan', 'poutcome', 'termdeposit']"
   ]
  },
  {
   "cell_type": "markdown",
   "id": "b0a31605",
   "metadata": {},
   "source": [
    "## Checking frequency distribution of categorical variables"
   ]
  },
  {
   "cell_type": "code",
   "execution_count": 15,
   "id": "a7d5ab0b",
   "metadata": {},
   "outputs": [
    {
     "name": "stdout",
     "output_type": "stream",
     "text": [
      "blue-collar      9732\n",
      "management       9458\n",
      "technician       7597\n",
      "admin.           5171\n",
      "services         4154\n",
      "retired          2264\n",
      "self-employed    1579\n",
      "entrepreneur     1487\n",
      "unemployed       1303\n",
      "housemaid        1240\n",
      "student           938\n",
      "unknown           288\n",
      "Name: job, dtype: int64\n",
      "married     27214\n",
      "single      12790\n",
      "divorced     5207\n",
      "Name: marital, dtype: int64\n",
      "secondary    23202\n",
      "tertiary     13301\n",
      "primary       6851\n",
      "unknown       1857\n",
      "Name: education, dtype: int64\n",
      "no     44396\n",
      "yes      815\n",
      "Name: credit, dtype: int64\n",
      "yes    25130\n",
      "no     20081\n",
      "Name: housingloan, dtype: int64\n",
      "may    13766\n",
      "jul     6895\n",
      "aug     6247\n",
      "jun     5341\n",
      "nov     3970\n",
      "apr     2932\n",
      "feb     2649\n",
      "jan     1403\n",
      "oct      738\n",
      "sep      579\n",
      "mar      477\n",
      "dec      214\n",
      "Name: month, dtype: int64\n",
      "no     37967\n",
      "yes     7244\n",
      "Name: personalloan, dtype: int64\n",
      "unknown    36959\n",
      "failure     4901\n",
      "other       1840\n",
      "success     1511\n",
      "Name: poutcome, dtype: int64\n",
      "no     39922\n",
      "yes     5289\n",
      "Name: termdeposit, dtype: int64\n"
     ]
    }
   ],
   "source": [
    "for i in cat_var:\n",
    "    print(Term[i].value_counts())"
   ]
  },
  {
   "cell_type": "markdown",
   "id": "d98ed9f9",
   "metadata": {},
   "source": [
    "# Visualise data"
   ]
  },
  {
   "cell_type": "markdown",
   "id": "2db13e19",
   "metadata": {},
   "source": [
    "## Workplace"
   ]
  },
  {
   "cell_type": "code",
   "execution_count": 16,
   "id": "9f3ade0e",
   "metadata": {},
   "outputs": [
    {
     "data": {
      "image/png": "[encoded data removed]",
      "text/plain": [
       "<Figure size 864x576 with 1 Axes>"
      ]
     },
     "metadata": {
      "needs_background": "light"
     },
     "output_type": "display_data"
    }
   ],
   "source": [
    "f, ax = plt.subplots(figsize=(12, 8))\n",
    "sn = sns.countplot(x=\"job\", hue=\"termdeposit\", data=Term, palette=\"Set2\")\n",
    "sn.set_title(\"Job Frequency distribution wrt term deposit\")\n",
    "sn.set_xticklabels(Term.job.value_counts().index, rotation=30)\n",
    "sn.legend(loc='upper right')\n",
    "plt.show()"
   ]
  },
  {
   "cell_type": "markdown",
   "id": "44988211",
   "metadata": {},
   "source": [
    "## marital"
   ]
  },
  {
   "cell_type": "code",
   "execution_count": 17,
   "id": "de309bf4",
   "metadata": {},
   "outputs": [
    {
     "data": {
      "image/png": "[encoded data removed]",
      "text/plain": [
       "<Figure size 864x576 with 1 Axes>"
      ]
     },
     "metadata": {
      "needs_background": "light"
     },
     "output_type": "display_data"
    }
   ],
   "source": [
    "f, ax = plt.subplots(figsize=(12, 8))\n",
    "sn = sns.countplot(x=\"marital\", hue=\"termdeposit\", data=Term, palette=\"Set2\")\n",
    "sn.set_title(\"Marital Status distribution wrt term deposit\")\n",
    "sn.set_xticklabels(Term.marital.value_counts().index, rotation=30)\n",
    "sn.legend(loc='upper right')\n",
    "plt.show()"
   ]
  },
  {
   "cell_type": "markdown",
   "id": "d444e87a",
   "metadata": {},
   "source": [
    "## education"
   ]
  },
  {
   "cell_type": "code",
   "execution_count": 18,
   "id": "f3d7d61e",
   "metadata": {},
   "outputs": [
    {
     "data": {
      "image/png": "[encoded data removed]",
      "text/plain": [
       "<Figure size 864x576 with 1 Axes>"
      ]
     },
     "metadata": {
      "needs_background": "light"
     },
     "output_type": "display_data"
    }
   ],
   "source": [
    "f, ax = plt.subplots(figsize=(12, 8))\n",
    "sn = sns.countplot(x=\"education\", hue=\"termdeposit\", data=Term, palette=\"Set2\")\n",
    "sn.set_title(\"Education Status distribution wrt term deposit\")\n",
    "sn.set_xticklabels(Term.education.value_counts().index, rotation=30)\n",
    "sn.legend(loc='upper right')\n",
    "plt.show()"
   ]
  },
  {
   "cell_type": "markdown",
   "id": "3f737269",
   "metadata": {},
   "source": [
    "## credit"
   ]
  },
  {
   "cell_type": "code",
   "execution_count": 19,
   "id": "622abc8e",
   "metadata": {},
   "outputs": [
    {
     "data": {
      "image/png": "[encoded data removed]",
      "text/plain": [
       "<Figure size 864x576 with 1 Axes>"
      ]
     },
     "metadata": {
      "needs_background": "light"
     },
     "output_type": "display_data"
    }
   ],
   "source": [
    "f, ax = plt.subplots(figsize=(12, 8))\n",
    "sn = sns.countplot(x=\"credit\", hue=\"termdeposit\", data=Term, palette=\"Set2\")\n",
    "sn.set_title(\"Credit Status distribution wrt term deposit\")\n",
    "sn.set_xticklabels(Term.credit.value_counts().index, rotation=30)\n",
    "sn.legend(loc='upper right')\n",
    "plt.show()"
   ]
  },
  {
   "cell_type": "markdown",
   "id": "6ad49578",
   "metadata": {},
   "source": [
    "## housingloan"
   ]
  },
  {
   "cell_type": "code",
   "execution_count": 20,
   "id": "582fdfdf",
   "metadata": {},
   "outputs": [
    {
     "data": {
      "image/png": "[encoded data removed]",
      "text/plain": [
       "<Figure size 864x576 with 1 Axes>"
      ]
     },
     "metadata": {
      "needs_background": "light"
     },
     "output_type": "display_data"
    }
   ],
   "source": [
    "f, ax = plt.subplots(figsize=(12, 8))\n",
    "sn = sns.countplot(x=\"housingloan\", hue=\"termdeposit\", data=Term, palette=\"Set2\")\n",
    "sn.set_title(\"Housing Loan Status distribution wrt term deposit\")\n",
    "sn.set_xticklabels(Term.housingloan.value_counts().index, rotation=30)\n",
    "sn.legend(loc='upper right')\n",
    "plt.show()"
   ]
  },
  {
   "cell_type": "markdown",
   "id": "2e8fcd37",
   "metadata": {},
   "source": [
    "## personalloan"
   ]
  },
  {
   "cell_type": "code",
   "execution_count": 21,
   "id": "3d789024",
   "metadata": {},
   "outputs": [
    {
     "data": {
      "image/png": "[encoded data removed]",
      "text/plain": [
       "<Figure size 864x576 with 1 Axes>"
      ]
     },
     "metadata": {
      "needs_background": "light"
     },
     "output_type": "display_data"
    }
   ],
   "source": [
    "f, ax = plt.subplots(figsize=(12, 8))\n",
    "sn = sns.countplot(x=\"personalloan\", hue=\"termdeposit\", data=Term, palette=\"Set2\")\n",
    "sn.set_title(\"Personal Loan Status distribution wrt term deposit\")\n",
    "sn.set_xticklabels(Term.personalloan.value_counts().index, rotation=30)\n",
    "sn.legend(loc='upper right')\n",
    "plt.show()"
   ]
  },
  {
   "cell_type": "markdown",
   "id": "ac875dff",
   "metadata": {},
   "source": [
    "## contact"
   ]
  },
  {
   "cell_type": "code",
   "execution_count": 22,
   "id": "0a36bb6a",
   "metadata": {},
   "outputs": [
    {
     "data": {
      "image/png": "[encoded data removed]",
      "text/plain": [
       "<Figure size 864x576 with 1 Axes>"
      ]
     },
     "metadata": {
      "needs_background": "light"
     },
     "output_type": "display_data"
    }
   ],
   "source": [
    "f, ax = plt.subplots(figsize=(12, 8))\n",
    "sn = sns.countplot(x=\"contact\", hue=\"termdeposit\", data=Term, palette=\"Set2\")\n",
    "sn.set_title(\"Contact Status distribution wrt term deposit\")\n",
    "sn.set_xticklabels(Term.contact.value_counts().index, rotation=30)\n",
    "sn.legend(loc='upper right')\n",
    "plt.show()"
   ]
  },
  {
   "cell_type": "markdown",
   "id": "f242ba27",
   "metadata": {},
   "source": [
    "## month"
   ]
  },
  {
   "cell_type": "code",
   "execution_count": 23,
   "id": "28f94af4",
   "metadata": {},
   "outputs": [
    {
     "data": {
      "image/png": "[encoded data removed]",
      "text/plain": [
       "<Figure size 864x576 with 1 Axes>"
      ]
     },
     "metadata": {
      "needs_background": "light"
     },
     "output_type": "display_data"
    }
   ],
   "source": [
    "f, ax = plt.subplots(figsize=(12, 8))\n",
    "sn = sns.countplot(x=\"month\", hue=\"termdeposit\", data=Term, palette=\"Set2\")\n",
    "sn.set_title(\"Month Status distribution wrt term deposit\")\n",
    "sn.set_xticklabels(Term.month.value_counts().index, rotation=30)\n",
    "sn.legend(loc='upper right')\n",
    "plt.show()"
   ]
  },
  {
   "cell_type": "markdown",
   "id": "62ea4504",
   "metadata": {},
   "source": [
    "## We can see that most calls were made in May month and least were made in December month. That's a good information because now we can focus that in which month we need to approach the clients the most."
   ]
  },
  {
   "cell_type": "markdown",
   "id": "86277a25",
   "metadata": {},
   "source": [
    "## Previous contacts vs termdeposit"
   ]
  },
  {
   "cell_type": "code",
   "execution_count": 24,
   "id": "5649f18c",
   "metadata": {},
   "outputs": [
    {
     "data": {
      "image/png": "[encoded data removed]",
      "text/plain": [
       "<Figure size 864x576 with 1 Axes>"
      ]
     },
     "metadata": {
      "needs_background": "light"
     },
     "output_type": "display_data"
    }
   ],
   "source": [
    "f, ax = plt.subplots(figsize=(12, 8))\n",
    "sn = sns.countplot(x=\"previous\", hue=\"termdeposit\", data=Term, palette=\"Set2\")\n",
    "sn.set_title(\"Number of contacts performed earlier wrt term deposit\")\n",
    "sn.set_xticklabels(Term.previous.value_counts().index)\n",
    "sn.legend(loc='upper right')\n",
    "plt.show()"
   ]
  },
  {
   "cell_type": "markdown",
   "id": "5bb20f53",
   "metadata": {},
   "source": [
    "## Poutcome Status"
   ]
  },
  {
   "cell_type": "code",
   "execution_count": 25,
   "id": "1ffd687f",
   "metadata": {},
   "outputs": [
    {
     "data": {
      "image/png": "[encoded data removed]",
      "text/plain": [
       "<Figure size 864x576 with 1 Axes>"
      ]
     },
     "metadata": {
      "needs_background": "light"
     },
     "output_type": "display_data"
    }
   ],
   "source": [
    "f, ax = plt.subplots(figsize=(12, 8))\n",
    "sn = sns.countplot(x=\"poutcome\", hue=\"termdeposit\", data=Term, palette=\"Set2\")\n",
    "sn.set_title(\"Poutcome status distribution wrt term deposit\")\n",
    "sn.set_xticklabels(Term.poutcome.value_counts().index)\n",
    "sn.legend(loc='upper right')\n",
    "plt.show()"
   ]
  },
  {
   "cell_type": "markdown",
   "id": "5363d306",
   "metadata": {},
   "source": [
    "## Check Age Ditribution"
   ]
  },
  {
   "cell_type": "code",
   "execution_count": 26,
   "id": "1ae2a2a1",
   "metadata": {},
   "outputs": [
    {
     "name": "stderr",
     "output_type": "stream",
     "text": [
      "/usr/local/anaconda3/lib/python3.7/site-packages/seaborn/distributions.py:2557: FutureWarning: `distplot` is a deprecated function and will be removed in a future version. Please adapt your code to use either `displot` (a figure-level function with similar flexibility) or `histplot` (an axes-level function for histograms).\n",
      "  warnings.warn(msg, FutureWarning)\n"
     ]
    },
    {
     "data": {
      "text/plain": [
       "Text(0.5, 1.0, 'Distribution of age')"
      ]
     },
     "execution_count": 26,
     "metadata": {},
     "output_type": "execute_result"
    },
    {
     "data": {
      "image/png": "[encoded data removed]",
      "text/plain": [
       "<Figure size 432x288 with 1 Axes>"
      ]
     },
     "metadata": {},
     "output_type": "display_data"
    }
   ],
   "source": [
    "sns.set()\n",
    "age_plot = sns.distplot(Term['age'], bins=10)\n",
    "age_plot.set_title('Distribution of age')"
   ]
  },
  {
   "cell_type": "markdown",
   "id": "88bea4fb",
   "metadata": {},
   "source": [
    "## Most of the customers are of 30-50 years of age group."
   ]
  },
  {
   "cell_type": "markdown",
   "id": "c8729ef7",
   "metadata": {},
   "source": [
    "## Check Pdays Distribution"
   ]
  },
  {
   "cell_type": "code",
   "execution_count": 27,
   "id": "37491338",
   "metadata": {},
   "outputs": [
    {
     "name": "stderr",
     "output_type": "stream",
     "text": [
      "/usr/local/anaconda3/lib/python3.7/site-packages/seaborn/distributions.py:2557: FutureWarning: `distplot` is a deprecated function and will be removed in a future version. Please adapt your code to use either `displot` (a figure-level function with similar flexibility) or `histplot` (an axes-level function for histograms).\n",
      "  warnings.warn(msg, FutureWarning)\n"
     ]
    },
    {
     "data": {
      "text/plain": [
       "Text(0.5, 1.0, 'Distribution of pdays')"
      ]
     },
     "execution_count": 27,
     "metadata": {},
     "output_type": "execute_result"
    },
    {
     "data": {
      "image/png": "[encoded data removed]",
      "text/plain": [
       "<Figure size 432x288 with 1 Axes>"
      ]
     },
     "metadata": {},
     "output_type": "display_data"
    }
   ],
   "source": [
    "sns.set()\n",
    "age_plot = sns.distplot(Term['pdays'], bins=10)\n",
    "age_plot.set_title('Distribution of pdays')"
   ]
  },
  {
   "cell_type": "markdown",
   "id": "8561f5c1",
   "metadata": {},
   "source": [
    "## Encoding target variable"
   ]
  },
  {
   "cell_type": "code",
   "execution_count": 28,
   "id": "972281a5",
   "metadata": {},
   "outputs": [],
   "source": [
    "from sklearn.preprocessing import LabelEncoder\n",
    "\n",
    "encoder = LabelEncoder()\n",
    "Term['termdeposit'] = encoder.fit_transform(Term['termdeposit'])"
   ]
  },
  {
   "cell_type": "code",
   "execution_count": 29,
   "id": "fd1fec15",
   "metadata": {},
   "outputs": [
    {
     "data": {
      "text/html": [
       "<div>\n",
       "<style scoped>\n",
       "    .dataframe tbody tr th:only-of-type {\n",
       "        vertical-align: middle;\n",
       "    }\n",
       "\n",
       "    .dataframe tbody tr th {\n",
       "        vertical-align: top;\n",
       "    }\n",
       "\n",
       "    .dataframe thead th {\n",
       "        text-align: right;\n",
       "    }\n",
       "</style>\n",
       "<table border=\"1\" class=\"dataframe\">\n",
       "  <thead>\n",
       "    <tr style=\"text-align: right;\">\n",
       "      <th></th>\n",
       "      <th>age</th>\n",
       "      <th>job</th>\n",
       "      <th>marital</th>\n",
       "      <th>education</th>\n",
       "      <th>credit</th>\n",
       "      <th>balance</th>\n",
       "      <th>housingloan</th>\n",
       "      <th>personalloan</th>\n",
       "      <th>contact</th>\n",
       "      <th>day</th>\n",
       "      <th>month</th>\n",
       "      <th>duration</th>\n",
       "      <th>campaign</th>\n",
       "      <th>pdays</th>\n",
       "      <th>previous</th>\n",
       "      <th>poutcome</th>\n",
       "      <th>termdeposit</th>\n",
       "    </tr>\n",
       "  </thead>\n",
       "  <tbody>\n",
       "    <tr>\n",
       "      <th>0</th>\n",
       "      <td>58</td>\n",
       "      <td>management</td>\n",
       "      <td>married</td>\n",
       "      <td>tertiary</td>\n",
       "      <td>no</td>\n",
       "      <td>2143</td>\n",
       "      <td>yes</td>\n",
       "      <td>no</td>\n",
       "      <td>unknown</td>\n",
       "      <td>5</td>\n",
       "      <td>may</td>\n",
       "      <td>261</td>\n",
       "      <td>1</td>\n",
       "      <td>-1</td>\n",
       "      <td>0</td>\n",
       "      <td>unknown</td>\n",
       "      <td>0</td>\n",
       "    </tr>\n",
       "    <tr>\n",
       "      <th>1</th>\n",
       "      <td>44</td>\n",
       "      <td>technician</td>\n",
       "      <td>single</td>\n",
       "      <td>secondary</td>\n",
       "      <td>no</td>\n",
       "      <td>29</td>\n",
       "      <td>yes</td>\n",
       "      <td>no</td>\n",
       "      <td>unknown</td>\n",
       "      <td>5</td>\n",
       "      <td>may</td>\n",
       "      <td>151</td>\n",
       "      <td>1</td>\n",
       "      <td>-1</td>\n",
       "      <td>0</td>\n",
       "      <td>unknown</td>\n",
       "      <td>0</td>\n",
       "    </tr>\n",
       "    <tr>\n",
       "      <th>2</th>\n",
       "      <td>33</td>\n",
       "      <td>entrepreneur</td>\n",
       "      <td>married</td>\n",
       "      <td>secondary</td>\n",
       "      <td>no</td>\n",
       "      <td>2</td>\n",
       "      <td>yes</td>\n",
       "      <td>yes</td>\n",
       "      <td>unknown</td>\n",
       "      <td>5</td>\n",
       "      <td>may</td>\n",
       "      <td>76</td>\n",
       "      <td>1</td>\n",
       "      <td>-1</td>\n",
       "      <td>0</td>\n",
       "      <td>unknown</td>\n",
       "      <td>0</td>\n",
       "    </tr>\n",
       "    <tr>\n",
       "      <th>3</th>\n",
       "      <td>47</td>\n",
       "      <td>blue-collar</td>\n",
       "      <td>married</td>\n",
       "      <td>unknown</td>\n",
       "      <td>no</td>\n",
       "      <td>1506</td>\n",
       "      <td>yes</td>\n",
       "      <td>no</td>\n",
       "      <td>unknown</td>\n",
       "      <td>5</td>\n",
       "      <td>may</td>\n",
       "      <td>92</td>\n",
       "      <td>1</td>\n",
       "      <td>-1</td>\n",
       "      <td>0</td>\n",
       "      <td>unknown</td>\n",
       "      <td>0</td>\n",
       "    </tr>\n",
       "    <tr>\n",
       "      <th>4</th>\n",
       "      <td>33</td>\n",
       "      <td>unknown</td>\n",
       "      <td>single</td>\n",
       "      <td>unknown</td>\n",
       "      <td>no</td>\n",
       "      <td>1</td>\n",
       "      <td>no</td>\n",
       "      <td>no</td>\n",
       "      <td>unknown</td>\n",
       "      <td>5</td>\n",
       "      <td>may</td>\n",
       "      <td>198</td>\n",
       "      <td>1</td>\n",
       "      <td>-1</td>\n",
       "      <td>0</td>\n",
       "      <td>unknown</td>\n",
       "      <td>0</td>\n",
       "    </tr>\n",
       "  </tbody>\n",
       "</table>\n",
       "</div>"
      ],
      "text/plain": [
       "   age           job  marital  education credit  balance housingloan  \\\n",
       "0   58    management  married   tertiary     no     2143         yes   \n",
       "1   44    technician   single  secondary     no       29         yes   \n",
       "2   33  entrepreneur  married  secondary     no        2         yes   \n",
       "3   47   blue-collar  married    unknown     no     1506         yes   \n",
       "4   33       unknown   single    unknown     no        1          no   \n",
       "\n",
       "  personalloan  contact  day month  duration  campaign  pdays  previous  \\\n",
       "0           no  unknown    5   may       261         1     -1         0   \n",
       "1           no  unknown    5   may       151         1     -1         0   \n",
       "2          yes  unknown    5   may        76         1     -1         0   \n",
       "3           no  unknown    5   may        92         1     -1         0   \n",
       "4           no  unknown    5   may       198         1     -1         0   \n",
       "\n",
       "  poutcome  termdeposit  \n",
       "0  unknown            0  \n",
       "1  unknown            0  \n",
       "2  unknown            0  \n",
       "3  unknown            0  \n",
       "4  unknown            0  "
      ]
     },
     "execution_count": 29,
     "metadata": {},
     "output_type": "execute_result"
    }
   ],
   "source": [
    "Term.head()"
   ]
  },
  {
   "cell_type": "markdown",
   "id": "b7675845",
   "metadata": {},
   "source": [
    "## Finding the relations between the variables."
   ]
  },
  {
   "cell_type": "code",
   "execution_count": 30,
   "id": "4b13045c",
   "metadata": {},
   "outputs": [
    {
     "data": {
      "text/plain": [
       "<AxesSubplot:>"
      ]
     },
     "execution_count": 30,
     "metadata": {},
     "output_type": "execute_result"
    },
    {
     "data": {
      "image/png": "[encoded data removed]",
      "text/plain": [
       "<Figure size 1440x720 with 2 Axes>"
      ]
     },
     "metadata": {},
     "output_type": "display_data"
    }
   ],
   "source": [
    "sns.set()\n",
    "plt.figure(figsize=(20, 10))\n",
    "c = Term.corr()\n",
    "sns.heatmap(c, cmap=\"Accent\", annot=True)"
   ]
  },
  {
   "cell_type": "markdown",
   "id": "f44c3499",
   "metadata": {},
   "source": [
    "## Since we do not need the information of when the customer was contacted, we will drop these features from the analysis. Also, poutcome maximum impact was for 'unknown'. So we will remove that from our dataset as well."
   ]
  },
  {
   "cell_type": "code",
   "execution_count": 31,
   "id": "02bca2d6",
   "metadata": {},
   "outputs": [],
   "source": [
    "Term.drop(['age', 'day', 'previous', 'campaign', 'contact', 'poutcome', ], axis=1, inplace=True)"
   ]
  },
  {
   "cell_type": "markdown",
   "id": "3da23781",
   "metadata": {},
   "source": [
    "## Since duration is only co-related with o/p variable, we will remove others from further analysis."
   ]
  },
  {
   "cell_type": "markdown",
   "id": "0a38a4d0",
   "metadata": {},
   "source": [
    "## Seperating predictors and target variable"
   ]
  },
  {
   "cell_type": "code",
   "execution_count": 32,
   "id": "42ed1d1a",
   "metadata": {},
   "outputs": [],
   "source": [
    "X = Term[['balance', 'pdays', 'job', 'marital', 'education', 'credit', 'housingloan', 'personalloan','month', 'duration']]\n",
    "Y = Term[['termdeposit']]"
   ]
  },
  {
   "cell_type": "markdown",
   "id": "7f229f29",
   "metadata": {},
   "source": [
    "## Feature Engineering\n",
    "## We need to encode the categorical variables to train the model\n",
    "## We can see that all the variables are ordinal categorical data type hence we will use get_dummies on pandas dataframe.\n"
   ]
  },
  {
   "cell_type": "code",
   "execution_count": 33,
   "id": "1bc459e7",
   "metadata": {},
   "outputs": [
    {
     "name": "stderr",
     "output_type": "stream",
     "text": [
      "/usr/local/anaconda3/lib/python3.7/site-packages/ipykernel_launcher.py:6: SettingWithCopyWarning: \n",
      "A value is trying to be set on a copy of a slice from a DataFrame.\n",
      "Try using .loc[row_indexer,col_indexer] = value instead\n",
      "\n",
      "See the caveats in the documentation: https://pandas.pydata.org/pandas-docs/stable/user_guide/indexing.html#returning-a-view-versus-a-copy\n",
      "  \n"
     ]
    }
   ],
   "source": [
    "encoder_1 = LabelEncoder()\n",
    "\n",
    "ordinalList = ['education', 'credit', 'housingloan', 'personalloan']\n",
    "\n",
    "for i in ordinalList:\n",
    "    X[i] = encoder_1.fit_transform(X[i])"
   ]
  },
  {
   "cell_type": "code",
   "execution_count": 34,
   "id": "dc6ba42f",
   "metadata": {},
   "outputs": [],
   "source": [
    "# Dummy encoding using get_dummies\n",
    "\n",
    "X = pd.get_dummies(X, columns=['job', 'marital', 'month'], drop_first=True)"
   ]
  },
  {
   "cell_type": "code",
   "execution_count": 35,
   "id": "7148a36d",
   "metadata": {},
   "outputs": [],
   "source": [
    "cat_variables = X.drop(['balance', 'pdays', 'duration'], axis=1)"
   ]
  },
  {
   "cell_type": "code",
   "execution_count": 36,
   "id": "02a390ea",
   "metadata": {},
   "outputs": [],
   "source": [
    "# Select from categorical variables\n",
    "from sklearn.feature_selection import SelectKBest, chi2  # for chi-squared feature selection\n",
    "\n",
    "sf = SelectKBest(chi2, k='all')\n",
    "sf_fit = sf.fit(cat_variables, Y)"
   ]
  },
  {
   "cell_type": "code",
   "execution_count": 37,
   "id": "4331e52a",
   "metadata": {},
   "outputs": [
    {
     "name": "stdout",
     "output_type": "stream",
     "text": [
      " education: 90.617723\n",
      " credit: 22.313875\n",
      " housingloan: 388.949715\n",
      " personalloan: 176.516137\n",
      " job_blue-collar: 184.348135\n",
      " job_entrepreneur: 16.903979\n",
      " job_housemaid: 10.152196\n",
      " job_management: 38.743601\n",
      " job_retired: 269.699331\n",
      " job_self-employed: 0.031898\n",
      " job_services: 31.876642\n",
      " job_student: 261.792961\n",
      " job_technician: 3.026332\n",
      " job_unemployed: 18.254702\n",
      " job_unknown: 0.003196\n",
      " marital_married: 65.352757\n",
      " marital_single: 130.835717\n",
      " month_aug: 2.839233\n",
      " month_dec: 254.219350\n",
      " month_feb: 62.816516\n",
      " month_jan: 3.379053\n",
      " month_jul: 45.292910\n",
      " month_jun: 11.259182\n",
      " month_mar: 749.691937\n",
      " month_may: 330.368818\n",
      " month_nov: 9.201705\n",
      " month_oct: 734.708162\n",
      " month_sep: 677.273004\n"
     ]
    }
   ],
   "source": [
    "# print feature scores\n",
    "for i in range(len(sf_fit.scores_)):\n",
    "    print(' %s: %f' % (cat_variables.columns[i], sf_fit.scores_[i]))"
   ]
  },
  {
   "cell_type": "code",
   "execution_count": 38,
   "id": "040b0ba5",
   "metadata": {},
   "outputs": [],
   "source": [
    "dfscores = pd.DataFrame(sf_fit.scores_)\n",
    "dfcolumns = pd.DataFrame(cat_variables.columns)"
   ]
  },
  {
   "cell_type": "code",
   "execution_count": 39,
   "id": "5998cd7d",
   "metadata": {},
   "outputs": [
    {
     "name": "stdout",
     "output_type": "stream",
     "text": [
      "              Specs       Score\n",
      "23        month_mar  749.691937\n",
      "26        month_oct  734.708162\n",
      "27        month_sep  677.273004\n",
      "2       housingloan  388.949715\n",
      "24        month_may  330.368818\n",
      "8       job_retired  269.699331\n",
      "11      job_student  261.792961\n",
      "18        month_dec  254.219350\n",
      "4   job_blue-collar  184.348135\n",
      "3      personalloan  176.516137\n",
      "16   marital_single  130.835717\n",
      "0         education   90.617723\n"
     ]
    }
   ],
   "source": [
    "# concat two dataframes for better visualization\n",
    "featureScores = pd.concat([dfcolumns, dfscores], axis=1)\n",
    "featureScores.columns = ['Specs', 'Score']  # naming the dataframe columns\n",
    "print(featureScores.nlargest(12, 'Score'))  # print 10 best features"
   ]
  },
  {
   "cell_type": "code",
   "execution_count": 40,
   "id": "b44a7873",
   "metadata": {},
   "outputs": [
    {
     "name": "stderr",
     "output_type": "stream",
     "text": [
      "/usr/local/anaconda3/lib/python3.7/site-packages/seaborn/_decorators.py:43: FutureWarning: Pass the following variables as keyword args: x, y. From version 0.12, the only valid positional argument will be `data`, and passing other arguments without an explicit keyword will result in an error or misinterpretation.\n",
      "  FutureWarning\n"
     ]
    },
    {
     "data": {
      "image/png": "[encoded data removed]",
      "text/plain": [
       "<Figure size 432x288 with 1 Axes>"
      ]
     },
     "metadata": {},
     "output_type": "display_data"
    }
   ],
   "source": [
    "# plot the scores\n",
    "datset = pd.DataFrame()\n",
    "datset['feature'] = cat_variables.columns[range(len(sf_fit.scores_))]\n",
    "datset['scores'] = sf_fit.scores_\n",
    "datset = datset.sort_values(by='scores', ascending=True)\n",
    "sns.set()\n",
    "sns.barplot(datset['scores'], datset['feature'], color='blue')\n",
    "sns.set_style('whitegrid')\n",
    "plt.ylabel('Categorical Feature')\n",
    "plt.xlabel('Score', fontsize=18)\n",
    "plt.show()"
   ]
  },
  {
   "cell_type": "markdown",
   "id": "fd1c336c",
   "metadata": {},
   "source": [
    "## We will keep only highest scored categorical predictors"
   ]
  },
  {
   "cell_type": "code",
   "execution_count": 41,
   "id": "7ec78cfb",
   "metadata": {},
   "outputs": [],
   "source": [
    "X = X[['balance', 'pdays', 'duration', 'month_mar', 'month_oct', 'month_sep', 'housingloan',\n",
    "       'month_may', 'job_retired', 'job_student', 'month_dec', 'job_blue-collar', 'personalloan']]"
   ]
  },
  {
   "cell_type": "markdown",
   "id": "ab575f4e",
   "metadata": {},
   "source": [
    "## Since data is imbalanced hence we need to balance it."
   ]
  },
  {
   "cell_type": "code",
   "execution_count": 42,
   "id": "291f87d5",
   "metadata": {},
   "outputs": [],
   "source": [
    "#conda install -c conda-forge imbalanced-learn"
   ]
  },
  {
   "cell_type": "code",
   "execution_count": 43,
   "id": "00ea61d8",
   "metadata": {},
   "outputs": [],
   "source": [
    "from imblearn.over_sampling import SMOTE"
   ]
  },
  {
   "cell_type": "markdown",
   "id": "8737fff1",
   "metadata": {},
   "source": [
    "## Implementing over-sampling for handling imbalanced data"
   ]
  },
  {
   "cell_type": "code",
   "execution_count": 44,
   "id": "f8ad679f",
   "metadata": {},
   "outputs": [],
   "source": [
    "smote = SMOTE(random_state=0)\n",
    "X_res, y_res = smote.fit_resample(X, Y)"
   ]
  },
  {
   "cell_type": "code",
   "execution_count": 45,
   "id": "bf745830",
   "metadata": {},
   "outputs": [],
   "source": [
    "## Let's see how the data changed after sampling"
   ]
  },
  {
   "cell_type": "code",
   "execution_count": 46,
   "id": "08a7a112",
   "metadata": {},
   "outputs": [
    {
     "data": {
      "image/png": "[encoded data removed]",
      "text/plain": [
       "<Figure size 432x288 with 1 Axes>"
      ]
     },
     "metadata": {},
     "output_type": "display_data"
    }
   ],
   "source": [
    "plt.bar(['0', '1'], y_res.termdeposit.value_counts().values)\n",
    "plt.title('Target Variable', fontsize=14)\n",
    "plt.xlabel('Classes')\n",
    "plt.ylabel('Amount')\n",
    "plt.show()"
   ]
  },
  {
   "cell_type": "markdown",
   "id": "d84bcba4",
   "metadata": {},
   "source": [
    "## Splitting data into separate training and test set"
   ]
  },
  {
   "cell_type": "code",
   "execution_count": 49,
   "id": "3b073b1a",
   "metadata": {},
   "outputs": [],
   "source": [
    "from sklearn.model_selection import train_test_split\n",
    "X_train, X_test, y_train, y_test = train_test_split(X_res, y_res, test_size=0.4, random_state=0)"
   ]
  },
  {
   "cell_type": "code",
   "execution_count": 50,
   "id": "f72dd21c",
   "metadata": {},
   "outputs": [
    {
     "data": {
      "text/plain": [
       "(31938, 1)"
      ]
     },
     "execution_count": 50,
     "metadata": {},
     "output_type": "execute_result"
    }
   ],
   "source": [
    "# check the shape of X_train and X_test\n",
    "X_train.shape\n",
    "X_test.shape\n",
    "y_train.shape\n",
    "y_test.shape"
   ]
  },
  {
   "cell_type": "markdown",
   "id": "5de950d6",
   "metadata": {},
   "source": [
    "## Feature Scaling"
   ]
  },
  {
   "cell_type": "code",
   "execution_count": 51,
   "id": "c5c1bf1a",
   "metadata": {},
   "outputs": [],
   "source": [
    "from sklearn.preprocessing import StandardScaler\n",
    "\n",
    "sc_X = StandardScaler()\n",
    "X_train = sc_X.fit_transform(X_train)\n",
    "X_test = sc_X.transform(X_test)"
   ]
  },
  {
   "cell_type": "markdown",
   "id": "74adf5cb",
   "metadata": {},
   "source": [
    "## Decision Tree"
   ]
  },
  {
   "cell_type": "code",
   "execution_count": 52,
   "id": "e56a5e6e",
   "metadata": {},
   "outputs": [],
   "source": [
    "from sklearn.tree import DecisionTreeClassifier\n",
    "from sklearn.model_selection import GridSearchCV"
   ]
  },
  {
   "cell_type": "markdown",
   "id": "827dda4c",
   "metadata": {},
   "source": [
    "## create a dictionary of all values we want to hypertune"
   ]
  },
  {
   "cell_type": "code",
   "execution_count": 55,
   "id": "182206ba",
   "metadata": {},
   "outputs": [],
   "source": [
    "param_grid = {'criterion': ['gini', 'entropy'], 'max_depth': np.arange(3, 15), 'min_samples_split': [2, 3, 4]}"
   ]
  },
  {
   "cell_type": "code",
   "execution_count": 56,
   "id": "91cc368a",
   "metadata": {},
   "outputs": [],
   "source": [
    "# decision tree model\n",
    "dtree_model = DecisionTreeClassifier(random_state=200)"
   ]
  },
  {
   "cell_type": "markdown",
   "id": "b34799e2",
   "metadata": {},
   "source": [
    "## use gridsearch to test all values"
   ]
  },
  {
   "cell_type": "code",
   "execution_count": 57,
   "id": "93076b33",
   "metadata": {},
   "outputs": [
    {
     "data": {
      "text/plain": [
       "GridSearchCV(cv=10, estimator=DecisionTreeClassifier(random_state=200),\n",
       "             param_grid={'criterion': ['gini', 'entropy'],\n",
       "                         'max_depth': array([ 3,  4,  5,  6,  7,  8,  9, 10, 11, 12, 13, 14]),\n",
       "                         'min_samples_split': [2, 3, 4]})"
      ]
     },
     "execution_count": 57,
     "metadata": {},
     "output_type": "execute_result"
    }
   ],
   "source": [
    "grid_search_cv = GridSearchCV(dtree_model, param_grid, cv=10)\n",
    "grid_search_cv.fit(X_train, y_train)"
   ]
  },
  {
   "cell_type": "markdown",
   "id": "d62cd668",
   "metadata": {},
   "source": [
    "## Once we have fit the grid search cv model with training data, we will simply ask what worked best for us\n",
    "## Get the best parameters"
   ]
  },
  {
   "cell_type": "code",
   "execution_count": 58,
   "id": "fdd0e8eb",
   "metadata": {},
   "outputs": [
    {
     "data": {
      "text/plain": [
       "{'criterion': 'gini', 'max_depth': 12, 'min_samples_split': 3}"
      ]
     },
     "execution_count": 58,
     "metadata": {},
     "output_type": "execute_result"
    }
   ],
   "source": [
    "grid_search_cv.best_params_"
   ]
  },
  {
   "cell_type": "markdown",
   "id": "26a1bd03",
   "metadata": {},
   "source": [
    "## Creating decision tree model with best parameters"
   ]
  },
  {
   "cell_type": "code",
   "execution_count": 59,
   "id": "e8b2e5d2",
   "metadata": {},
   "outputs": [],
   "source": [
    "dt = DecisionTreeClassifier(criterion='gini', max_depth=12, min_samples_split=3)\n",
    "dt.fit(X_train, y_train)\n",
    "y_pred = dt.predict(X_test)"
   ]
  },
  {
   "cell_type": "markdown",
   "id": "8c51b02a",
   "metadata": {},
   "source": [
    "## Check model accuracy"
   ]
  },
  {
   "cell_type": "code",
   "execution_count": 63,
   "id": "188984c4",
   "metadata": {},
   "outputs": [],
   "source": [
    "from sklearn.metrics import confusion_matrix, accuracy_score"
   ]
  },
  {
   "cell_type": "code",
   "execution_count": 64,
   "id": "5191630e",
   "metadata": {},
   "outputs": [],
   "source": [
    "cm = confusion_matrix(y_test, y_pred)"
   ]
  },
  {
   "cell_type": "code",
   "execution_count": 66,
   "id": "bcfd6cff",
   "metadata": {},
   "outputs": [
    {
     "name": "stdout",
     "output_type": "stream",
     "text": [
      "The accuracy of the Decision Tree is 0.8565345356628468\n"
     ]
    }
   ],
   "source": [
    "# Check accuracy score\n",
    "import sklearn.metrics as metrics\n",
    "\n",
    "acc_dt = metrics.accuracy_score(y_pred, y_test)\n",
    "print('The accuracy of the Decision Tree is', acc_dt)"
   ]
  },
  {
   "cell_type": "code",
   "execution_count": 67,
   "id": "eba8862f",
   "metadata": {},
   "outputs": [
    {
     "data": {
      "text/plain": [
       "array([[12908,  2931],\n",
       "       [ 1651, 14448]])"
      ]
     },
     "execution_count": 67,
     "metadata": {},
     "output_type": "execute_result"
    }
   ],
   "source": [
    "cm"
   ]
  },
  {
   "cell_type": "code",
   "execution_count": 68,
   "id": "f007a1d7",
   "metadata": {},
   "outputs": [
    {
     "name": "stdout",
     "output_type": "stream",
     "text": [
      "F1 score: 0.8631339984467411\n"
     ]
    }
   ],
   "source": [
    "from sklearn.metrics import f1_score\n",
    "print(\"F1 score:\", f1_score(y_pred, y_test))"
   ]
  },
  {
   "cell_type": "markdown",
   "id": "4ed52d4b",
   "metadata": {},
   "source": [
    "## Random Forest"
   ]
  },
  {
   "cell_type": "code",
   "execution_count": 69,
   "id": "65960436",
   "metadata": {},
   "outputs": [],
   "source": [
    "# Import Random Forest Model\n",
    "from sklearn.ensemble import RandomForestClassifier\n",
    "from sklearn.model_selection import RandomizedSearchCV"
   ]
  },
  {
   "cell_type": "markdown",
   "id": "381e62f5",
   "metadata": {},
   "source": [
    "## create a dictionary of all values we want to hypertune"
   ]
  },
  {
   "cell_type": "code",
   "execution_count": 70,
   "id": "3b913dab",
   "metadata": {},
   "outputs": [],
   "source": [
    "param_grid_random = {'criterion': ['gini', 'entropy'], 'max_depth': np.arange(3, 15), 'min_samples_split': [2, 3, 4],\n",
    "                     'n_estimators': np.arange(10, 20)}\n"
   ]
  },
  {
   "cell_type": "code",
   "execution_count": 71,
   "id": "1abed65a",
   "metadata": {},
   "outputs": [],
   "source": [
    "# random forest tree model\n",
    "rforest_model = RandomForestClassifier()"
   ]
  },
  {
   "cell_type": "markdown",
   "id": "800c3861",
   "metadata": {},
   "source": [
    "## use RandomizedSearchCV to test all values"
   ]
  },
  {
   "cell_type": "code",
   "execution_count": 72,
   "id": "0271d507",
   "metadata": {},
   "outputs": [
    {
     "data": {
      "text/plain": [
       "RandomizedSearchCV(cv=10, estimator=RandomForestClassifier(), n_iter=100,\n",
       "                   param_distributions={'criterion': ['gini', 'entropy'],\n",
       "                                        'max_depth': array([ 3,  4,  5,  6,  7,  8,  9, 10, 11, 12, 13, 14]),\n",
       "                                        'min_samples_split': [2, 3, 4],\n",
       "                                        'n_estimators': array([10, 11, 12, 13, 14, 15, 16, 17, 18, 19])},\n",
       "                   random_state=150)"
      ]
     },
     "execution_count": 72,
     "metadata": {},
     "output_type": "execute_result"
    }
   ],
   "source": [
    "ran_grid_search_cv = RandomizedSearchCV(rforest_model, param_grid_random, cv=10, n_iter=100, random_state=150)\n",
    "ran_grid_search_cv.fit(X_train, np.ravel(y_train))"
   ]
  },
  {
   "cell_type": "markdown",
   "id": "bdde53db",
   "metadata": {},
   "source": [
    "## Once we have fit the RandomizedSearchCV model with training data, we will simply ask what worked best for us\n",
    "## Get the best parameters"
   ]
  },
  {
   "cell_type": "code",
   "execution_count": 73,
   "id": "dbe684a0",
   "metadata": {},
   "outputs": [
    {
     "data": {
      "text/plain": [
       "{'n_estimators': 17,\n",
       " 'min_samples_split': 4,\n",
       " 'max_depth': 14,\n",
       " 'criterion': 'entropy'}"
      ]
     },
     "execution_count": 73,
     "metadata": {},
     "output_type": "execute_result"
    }
   ],
   "source": [
    "ran_grid_search_cv.best_params_"
   ]
  },
  {
   "cell_type": "markdown",
   "id": "43483ee8",
   "metadata": {},
   "source": [
    "## Creating random forest tree model with best parameters"
   ]
  },
  {
   "cell_type": "code",
   "execution_count": 74,
   "id": "f01395b7",
   "metadata": {},
   "outputs": [],
   "source": [
    "rf = RandomForestClassifier(criterion='gini', max_depth=14, min_samples_split=3, n_estimators=12)\n",
    "rf.fit(X_train, np.ravel(y_train))\n",
    "y_pred = rf.predict(X_test)"
   ]
  },
  {
   "cell_type": "code",
   "execution_count": 75,
   "id": "1a6cc0e3",
   "metadata": {},
   "outputs": [
    {
     "name": "stdout",
     "output_type": "stream",
     "text": [
      "[[13027  2812]\n",
      " [ 1580 14519]]\n"
     ]
    }
   ],
   "source": [
    "from sklearn.metrics import confusion_matrix, accuracy_score\n",
    "\n",
    "cm = confusion_matrix(y_test, y_pred)\n",
    "print(cm)"
   ]
  },
  {
   "cell_type": "code",
   "execution_count": 76,
   "id": "ed85e133",
   "metadata": {},
   "outputs": [
    {
     "name": "stdout",
     "output_type": "stream",
     "text": [
      "The accuracy of the Random Forest Tree is 0.8624835619011836\n"
     ]
    }
   ],
   "source": [
    "# Check accuracy\n",
    "import sklearn.metrics as metrics\n",
    "\n",
    "acc_rf = metrics.accuracy_score(y_pred, y_test)\n",
    "print('The accuracy of the Random Forest Tree is', acc_rf)"
   ]
  },
  {
   "cell_type": "markdown",
   "id": "2a3246e5",
   "metadata": {},
   "source": [
    "## Logistic Regression"
   ]
  },
  {
   "cell_type": "code",
   "execution_count": 77,
   "id": "597ab7b1",
   "metadata": {},
   "outputs": [],
   "source": [
    "from sklearn.linear_model import LogisticRegression\n",
    "import statsmodels.api as sm"
   ]
  },
  {
   "cell_type": "code",
   "execution_count": 78,
   "id": "d0f14bd6",
   "metadata": {},
   "outputs": [
    {
     "name": "stdout",
     "output_type": "stream",
     "text": [
      "Optimization terminated successfully.\n",
      "         Current function value: 0.383214\n",
      "         Iterations 7\n",
      "                         Results: Logit\n",
      "=================================================================\n",
      "Model:              Logit            Pseudo R-squared: 0.447     \n",
      "Dependent Variable: termdeposit      AIC:              36742.4823\n",
      "Date:               2021-10-12 17:40 BIC:              36856.5833\n",
      "No. Observations:   47906            Log-Likelihood:   -18358.   \n",
      "Df Model:           12               LL-Null:          -33205.   \n",
      "Df Residuals:       47893            LLR p-value:      0.0000    \n",
      "Converged:          1.0000           Scale:            1.0000    \n",
      "No. Iterations:     7.0000                                       \n",
      "-------------------------------------------------------------------\n",
      "          Coef.    Std.Err.      z       P>|z|     [0.025    0.975]\n",
      "-------------------------------------------------------------------\n",
      "x1        0.0474     0.0130     3.6486   0.0003    0.0220    0.0729\n",
      "x2        0.5952     0.0148    40.2355   0.0000    0.5662    0.6242\n",
      "x3        2.0203     0.0230    87.7368   0.0000    1.9751    2.0654\n",
      "x4        0.0685     0.0113     6.0585   0.0000    0.0464    0.0907\n",
      "x5        0.0222     0.0114     1.9382   0.0526   -0.0002    0.0446\n",
      "x6        0.0020     0.0117     0.1707   0.8645   -0.0209    0.0249\n",
      "x7       -0.9118     0.0161   -56.6806   0.0000   -0.9433   -0.8803\n",
      "x8       -0.6108     0.0180   -33.8658   0.0000   -0.6462   -0.5755\n",
      "x9       -0.2140     0.0123   -17.3530   0.0000   -0.2382   -0.1898\n",
      "x10      -0.0871     0.0117    -7.4419   0.0000   -0.1100   -0.0641\n",
      "x11      -0.0425     0.0115    -3.7089   0.0002   -0.0650   -0.0201\n",
      "x12      -0.5871     0.0175   -33.6013   0.0000   -0.6214   -0.5529\n",
      "x13      -0.6634     0.0186   -35.6813   0.0000   -0.6998   -0.6269\n",
      "=================================================================\n",
      "\n"
     ]
    }
   ],
   "source": [
    "logit_model = sm.Logit(y_train, X_train)\n",
    "result = logit_model.fit()\n",
    "print(result.summary2())"
   ]
  },
  {
   "cell_type": "markdown",
   "id": "0ff4f9df",
   "metadata": {},
   "source": [
    "## Now we will do model fitting"
   ]
  },
  {
   "cell_type": "code",
   "execution_count": 81,
   "id": "c6f38065",
   "metadata": {},
   "outputs": [
    {
     "name": "stdout",
     "output_type": "stream",
     "text": [
      "Accuracy of logistic regression classifier on test set: 0.84\n"
     ]
    },
    {
     "name": "stderr",
     "output_type": "stream",
     "text": [
      "/usr/local/anaconda3/lib/python3.7/site-packages/sklearn/utils/validation.py:63: DataConversionWarning: A column-vector y was passed when a 1d array was expected. Please change the shape of y to (n_samples, ), for example using ravel().\n",
      "  return f(*args, **kwargs)\n"
     ]
    }
   ],
   "source": [
    "lr_model = LogisticRegression()\n",
    "lr_model.fit(X_test, y_test)\n",
    "y_pred=lr_model.predict(X_test)\n",
    "acc_lg = lr_model.score(X_test, y_test)\n",
    "print('Accuracy of logistic regression classifier on test set: {:.2f}'.format(acc_lg))"
   ]
  },
  {
   "cell_type": "code",
   "execution_count": 82,
   "id": "bbe65b15",
   "metadata": {},
   "outputs": [
    {
     "name": "stdout",
     "output_type": "stream",
     "text": [
      "[[12982  2857]\n",
      " [ 2101 13998]]\n"
     ]
    }
   ],
   "source": [
    "# Confusion matrix\n",
    "from sklearn.metrics import confusion_matrix\n",
    "\n",
    "confusion_matrix = confusion_matrix(y_test, y_pred)\n",
    "print(confusion_matrix)"
   ]
  },
  {
   "cell_type": "code",
   "execution_count": 83,
   "id": "68880c3d",
   "metadata": {},
   "outputs": [
    {
     "name": "stdout",
     "output_type": "stream",
     "text": [
      "              precision    recall  f1-score   support\n",
      "\n",
      "           0       0.86      0.82      0.84     15839\n",
      "           1       0.83      0.87      0.85     16099\n",
      "\n",
      "    accuracy                           0.84     31938\n",
      "   macro avg       0.85      0.84      0.84     31938\n",
      "weighted avg       0.85      0.84      0.84     31938\n",
      "\n"
     ]
    }
   ],
   "source": [
    "from sklearn.metrics import classification_report\n",
    "print(classification_report(y_test, y_pred))"
   ]
  },
  {
   "cell_type": "code",
   "execution_count": 84,
   "id": "e922d40c",
   "metadata": {},
   "outputs": [
    {
     "name": "stdout",
     "output_type": "stream",
     "text": [
      "F1 score: 0.8495478545851792\n"
     ]
    }
   ],
   "source": [
    "from sklearn.metrics import f1_score\n",
    "print(\"F1 score:\", f1_score(y_pred, y_test))"
   ]
  },
  {
   "cell_type": "markdown",
   "id": "a762e774",
   "metadata": {},
   "source": [
    "## Comparison of models"
   ]
  },
  {
   "cell_type": "code",
   "execution_count": 86,
   "id": "d13866a0",
   "metadata": {},
   "outputs": [
    {
     "data": {
      "image/png": "[encoded data removed]",
      "text/plain": [
       "<Figure size 432x288 with 1 Axes>"
      ]
     },
     "metadata": {},
     "output_type": "display_data"
    }
   ],
   "source": [
    "# We will plot bar chart of all three models for comparison\n",
    "accuracy = [acc_rf, acc_dt, acc_lg]\n",
    "names = ('Random Forest', 'Decision Tree', 'Logistic Regression')\n",
    "sns.set()\n",
    "y_pos = np.arange(len(accuracy))\n",
    "plt.bar(y_pos, accuracy, align='center', alpha=0.5)\n",
    "plt.xticks(y_pos, names)\n",
    "plt.ylabel('Accuracy')\n",
    "plt.title('Accuracy of all three models')\n",
    "plt.show()"
   ]
  },
  {
   "cell_type": "code",
   "execution_count": null,
   "id": "b5be7c36",
   "metadata": {},
   "outputs": [],
   "source": []
  }
 ],
 "metadata": {
  "kernelspec": {
   "display_name": "Python 3",
   "language": "python",
   "name": "python3"
  },
  "language_info": {
   "codemirror_mode": {
    "name": "ipython",
    "version": 3
   },
   "file_extension": ".py",
   "mimetype": "text/x-python",
   "name": "python",
   "nbconvert_exporter": "python",
   "pygments_lexer": "ipython3",
   "version": "3.7.6"
  }
 },
 "nbformat": 4,
 "nbformat_minor": 5
}
